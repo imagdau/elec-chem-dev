{
 "cells": [
  {
   "cell_type": "markdown",
   "metadata": {},
   "source": [
    "# Tutorial for building a cathode to liquid electrolyte interface"
   ]
  },
  {
   "cell_type": "code",
   "execution_count": 1,
   "metadata": {},
   "outputs": [
    {
     "data": {
      "application/vnd.jupyter.widget-view+json": {
       "model_id": "d99f5c436ac140cd8a2da1feb6c81ef2",
       "version_major": 2,
       "version_minor": 0
      },
      "text/plain": [
       "Retrieving MaterialsDoc documents:   0%|          | 0/11 [00:00<?, ?it/s]"
      ]
     },
     "metadata": {},
     "output_type": "display_data"
    },
    {
     "data": {
      "text/html": [
       "<div>\n",
       "<style scoped>\n",
       "    .dataframe tbody tr th:only-of-type {\n",
       "        vertical-align: middle;\n",
       "    }\n",
       "\n",
       "    .dataframe tbody tr th {\n",
       "        vertical-align: top;\n",
       "    }\n",
       "\n",
       "    .dataframe thead th {\n",
       "        text-align: right;\n",
       "    }\n",
       "</style>\n",
       "<table border=\"1\" class=\"dataframe\">\n",
       "  <thead>\n",
       "    <tr style=\"text-align: right;\">\n",
       "      <th></th>\n",
       "      <th>elemComb</th>\n",
       "      <th>natoms</th>\n",
       "      <th>formula</th>\n",
       "      <th>mass</th>\n",
       "      <th>charge</th>\n",
       "      <th>mpid</th>\n",
       "      <th>Atoms</th>\n",
       "    </tr>\n",
       "    <tr>\n",
       "      <th>hash</th>\n",
       "      <th></th>\n",
       "      <th></th>\n",
       "      <th></th>\n",
       "      <th></th>\n",
       "      <th></th>\n",
       "      <th></th>\n",
       "      <th></th>\n",
       "    </tr>\n",
       "  </thead>\n",
       "  <tbody>\n",
       "    <tr>\n",
       "      <th>339a0bce53d7acc7480b6d06fc5235c2</th>\n",
       "      <td>CoLiMnNiO</td>\n",
       "      <td>12</td>\n",
       "      <td>CoLi3MnNiO6</td>\n",
       "      <td>289.378638</td>\n",
       "      <td>0</td>\n",
       "      <td>mp-1222510</td>\n",
       "      <td>(Atom('Li', [-2.9526581628120003, 3.347366, 2....</td>\n",
       "    </tr>\n",
       "    <tr>\n",
       "      <th>56ee4840094949461cea63a492c20846</th>\n",
       "      <td>CoLiMnNiO</td>\n",
       "      <td>16</td>\n",
       "      <td>Co2Li4MnNiO8</td>\n",
       "      <td>387.249832</td>\n",
       "      <td>0</td>\n",
       "      <td>mp-1222625</td>\n",
       "      <td>(Atom('Li', [0.0, 4.258594146476, 2.5409387921...</td>\n",
       "    </tr>\n",
       "    <tr>\n",
       "      <th>1f1e7115dac7bcfed60aca101a8cc141</th>\n",
       "      <td>CoLiMnNiO</td>\n",
       "      <td>16</td>\n",
       "      <td>Co2Li4MnNiO8</td>\n",
       "      <td>387.249832</td>\n",
       "      <td>0</td>\n",
       "      <td>mp-1222609</td>\n",
       "      <td>(Atom('Li', [0.0, 4.351983532008, 2.4974363328...</td>\n",
       "    </tr>\n",
       "    <tr>\n",
       "      <th>a66974b1c583da6de88000b25405fba5</th>\n",
       "      <td>CoLiMnNiO</td>\n",
       "      <td>16</td>\n",
       "      <td>Co2Li4MnNiO8</td>\n",
       "      <td>387.249832</td>\n",
       "      <td>0</td>\n",
       "      <td>mp-1222620</td>\n",
       "      <td>(Atom('Li', [5.2825800253231134e-17, 9.8739170...</td>\n",
       "    </tr>\n",
       "    <tr>\n",
       "      <th>751f1d4d97a77ff9affdb09ee1a60778</th>\n",
       "      <td>CoLiMnNiO</td>\n",
       "      <td>16</td>\n",
       "      <td>Co2Li4MnNiO8</td>\n",
       "      <td>387.249832</td>\n",
       "      <td>0</td>\n",
       "      <td>mp-1222664</td>\n",
       "      <td>(Atom('Li', [0.018138514589999998, 2.445724433...</td>\n",
       "    </tr>\n",
       "    <tr>\n",
       "      <th>475995fa29d03b3388de6d8b0b5790fd</th>\n",
       "      <td>CoLiMnNiO</td>\n",
       "      <td>20</td>\n",
       "      <td>CoLi5Mn2Ni2O10</td>\n",
       "      <td>480.886082</td>\n",
       "      <td>0</td>\n",
       "      <td>mp-1222667</td>\n",
       "      <td>(Atom('Li', [-0.8418647943950002, 4.3559932867...</td>\n",
       "    </tr>\n",
       "    <tr>\n",
       "      <th>e60808d41610b0cf53ec70eafc2a4c37</th>\n",
       "      <td>CoLiMnNiO</td>\n",
       "      <td>28</td>\n",
       "      <td>Co2Li4Mn3Ni3O16</td>\n",
       "      <td>742.504720</td>\n",
       "      <td>0</td>\n",
       "      <td>mp-867541</td>\n",
       "      <td>(Atom('Li', [-0.08497553617900033, 3.274591143...</td>\n",
       "    </tr>\n",
       "    <tr>\n",
       "      <th>d3da18e4433c10bead049901ab976203</th>\n",
       "      <td>CoLiMnNiO</td>\n",
       "      <td>28</td>\n",
       "      <td>Co3Li4Mn3Ni2O16</td>\n",
       "      <td>742.744514</td>\n",
       "      <td>0</td>\n",
       "      <td>mp-758046</td>\n",
       "      <td>(Atom('Li', [-9.703237472535875e-17, 6.5957560...</td>\n",
       "    </tr>\n",
       "    <tr>\n",
       "      <th>033d7c0d675d0ddc22530dcbcb5ad189</th>\n",
       "      <td>CoLiMnNiO</td>\n",
       "      <td>28</td>\n",
       "      <td>Co3Li4Mn2Ni3O16</td>\n",
       "      <td>746.499870</td>\n",
       "      <td>0</td>\n",
       "      <td>mp-776416</td>\n",
       "      <td>(Atom('Li', [-0.07765401165800002, 3.222240106...</td>\n",
       "    </tr>\n",
       "    <tr>\n",
       "      <th>1830e1fe5d70c08446c2cb905938e922</th>\n",
       "      <td>CoLiMnNiO</td>\n",
       "      <td>34</td>\n",
       "      <td>Co2Li10Mn3Ni3O16</td>\n",
       "      <td>784.144720</td>\n",
       "      <td>0</td>\n",
       "      <td>mp-778315</td>\n",
       "      <td>(Atom('Li', [-1.363627285628, 4.106794204011, ...</td>\n",
       "    </tr>\n",
       "    <tr>\n",
       "      <th>875f7df2076debd2434ed1ccc7e25dae</th>\n",
       "      <td>CoLiMnNiO</td>\n",
       "      <td>48</td>\n",
       "      <td>CoLi12MnNi10O24</td>\n",
       "      <td>1168.061238</td>\n",
       "      <td>0</td>\n",
       "      <td>mp-1120802</td>\n",
       "      <td>(Atom('Li', [8.409887897187219e-18, 1.71402806...</td>\n",
       "    </tr>\n",
       "  </tbody>\n",
       "</table>\n",
       "</div>"
      ],
      "text/plain": [
       "                                   elemComb  natoms           formula  \\\n",
       "hash                                                                    \n",
       "339a0bce53d7acc7480b6d06fc5235c2  CoLiMnNiO      12       CoLi3MnNiO6   \n",
       "56ee4840094949461cea63a492c20846  CoLiMnNiO      16      Co2Li4MnNiO8   \n",
       "1f1e7115dac7bcfed60aca101a8cc141  CoLiMnNiO      16      Co2Li4MnNiO8   \n",
       "a66974b1c583da6de88000b25405fba5  CoLiMnNiO      16      Co2Li4MnNiO8   \n",
       "751f1d4d97a77ff9affdb09ee1a60778  CoLiMnNiO      16      Co2Li4MnNiO8   \n",
       "475995fa29d03b3388de6d8b0b5790fd  CoLiMnNiO      20    CoLi5Mn2Ni2O10   \n",
       "e60808d41610b0cf53ec70eafc2a4c37  CoLiMnNiO      28   Co2Li4Mn3Ni3O16   \n",
       "d3da18e4433c10bead049901ab976203  CoLiMnNiO      28   Co3Li4Mn3Ni2O16   \n",
       "033d7c0d675d0ddc22530dcbcb5ad189  CoLiMnNiO      28   Co3Li4Mn2Ni3O16   \n",
       "1830e1fe5d70c08446c2cb905938e922  CoLiMnNiO      34  Co2Li10Mn3Ni3O16   \n",
       "875f7df2076debd2434ed1ccc7e25dae  CoLiMnNiO      48   CoLi12MnNi10O24   \n",
       "\n",
       "                                         mass  charge        mpid  \\\n",
       "hash                                                                \n",
       "339a0bce53d7acc7480b6d06fc5235c2   289.378638       0  mp-1222510   \n",
       "56ee4840094949461cea63a492c20846   387.249832       0  mp-1222625   \n",
       "1f1e7115dac7bcfed60aca101a8cc141   387.249832       0  mp-1222609   \n",
       "a66974b1c583da6de88000b25405fba5   387.249832       0  mp-1222620   \n",
       "751f1d4d97a77ff9affdb09ee1a60778   387.249832       0  mp-1222664   \n",
       "475995fa29d03b3388de6d8b0b5790fd   480.886082       0  mp-1222667   \n",
       "e60808d41610b0cf53ec70eafc2a4c37   742.504720       0   mp-867541   \n",
       "d3da18e4433c10bead049901ab976203   742.744514       0   mp-758046   \n",
       "033d7c0d675d0ddc22530dcbcb5ad189   746.499870       0   mp-776416   \n",
       "1830e1fe5d70c08446c2cb905938e922   784.144720       0   mp-778315   \n",
       "875f7df2076debd2434ed1ccc7e25dae  1168.061238       0  mp-1120802   \n",
       "\n",
       "                                                                              Atoms  \n",
       "hash                                                                                 \n",
       "339a0bce53d7acc7480b6d06fc5235c2  (Atom('Li', [-2.9526581628120003, 3.347366, 2....  \n",
       "56ee4840094949461cea63a492c20846  (Atom('Li', [0.0, 4.258594146476, 2.5409387921...  \n",
       "1f1e7115dac7bcfed60aca101a8cc141  (Atom('Li', [0.0, 4.351983532008, 2.4974363328...  \n",
       "a66974b1c583da6de88000b25405fba5  (Atom('Li', [5.2825800253231134e-17, 9.8739170...  \n",
       "751f1d4d97a77ff9affdb09ee1a60778  (Atom('Li', [0.018138514589999998, 2.445724433...  \n",
       "475995fa29d03b3388de6d8b0b5790fd  (Atom('Li', [-0.8418647943950002, 4.3559932867...  \n",
       "e60808d41610b0cf53ec70eafc2a4c37  (Atom('Li', [-0.08497553617900033, 3.274591143...  \n",
       "d3da18e4433c10bead049901ab976203  (Atom('Li', [-9.703237472535875e-17, 6.5957560...  \n",
       "033d7c0d675d0ddc22530dcbcb5ad189  (Atom('Li', [-0.07765401165800002, 3.222240106...  \n",
       "1830e1fe5d70c08446c2cb905938e922  (Atom('Li', [-1.363627285628, 4.106794204011, ...  \n",
       "875f7df2076debd2434ed1ccc7e25dae  (Atom('Li', [8.409887897187219e-18, 1.71402806...  "
      ]
     },
     "execution_count": 1,
     "metadata": {},
     "output_type": "execute_result"
    }
   ],
   "source": [
    "from elecChemDev.search import elode\n",
    "db1 = elode('../api.key')\n",
    "db1.df"
   ]
  },
  {
   "cell_type": "markdown",
   "metadata": {},
   "source": [
    "# Prepare cathode surface"
   ]
  },
  {
   "cell_type": "code",
   "execution_count": 21,
   "metadata": {},
   "outputs": [
    {
     "name": "stdout",
     "output_type": "stream",
     "text": [
      "NMC 3 3 2 Li 10 O 16\n"
     ]
    }
   ],
   "source": [
    "from collections import Counter\n",
    "\n",
    "config = db1.get_material('1830e1fe5d70c08446c2cb905938e922', 'Atoms')\n",
    "# config = db1.get_material('e60808d41610b0cf53ec70eafc2a4c37', 'Atoms')\n",
    "c = Counter(config.get_chemical_symbols())\n",
    "print('NMC', c['Ni'], c['Mn'], c['Co'], 'Li', c['Li'], 'O', c['O'])"
   ]
  },
  {
   "cell_type": "code",
   "execution_count": 22,
   "metadata": {},
   "outputs": [
    {
     "data": {
      "application/vnd.jupyter.widget-view+json": {
       "model_id": "fb7049009de94396b0e5bb1f46ffae96",
       "version_major": 2,
       "version_minor": 0
      },
      "text/plain": [
       "NGLWidget()"
      ]
     },
     "metadata": {},
     "output_type": "display_data"
    }
   ],
   "source": [
    "from elecChemDev.view import view_atoms\n",
    "from ase.build import surface\n",
    "from ase.io import write\n",
    "\n",
    "L = 3\n",
    "large_cell  = config.repeat([1,3,2])\n",
    "Vfill = large_cell.get_volume()\n",
    "cathode = surface(large_cell, (1, 0, 0), layers=L, vacuum=20.0)\n",
    "Vacuum = cathode.get_volume() - Vfill*L\n",
    "cathode.pbc = True\n",
    "view_atoms(cathode)\n"
   ]
  },
  {
   "cell_type": "markdown",
   "metadata": {},
   "source": [
    "# Prepare electrolyte molecules"
   ]
  },
  {
   "cell_type": "code",
   "execution_count": 23,
   "metadata": {},
   "outputs": [
    {
     "data": {
      "application/vnd.jupyter.widget-view+json": {
       "model_id": "892737864e3842359921cede86498b7b",
       "version_major": 2,
       "version_minor": 0
      },
      "text/plain": [
       "Retrieving MoleculesDoc documents:   0%|          | 0/24989 [00:00<?, ?it/s]"
      ]
     },
     "metadata": {},
     "output_type": "display_data"
    }
   ],
   "source": [
    "from elecChemDev.search import elyte\n",
    "db2 = elyte('../api.key')"
   ]
  },
  {
   "cell_type": "code",
   "execution_count": 24,
   "metadata": {},
   "outputs": [
    {
     "data": {
      "image/svg+xml": [
       "<svg xmlns=\"http://www.w3.org/2000/svg\" xmlns:xlink=\"http://www.w3.org/1999/xlink\" xmlns:cml=\"http://www.xml-cml.org/schema\" version=\"1.1\" id=\"topsvg\" x=\"0\" y=\"0\" width=\"200px\" height=\"200px\" viewBox=\"0 0 100 100\">\n",
       "<title>Multiple Molecules - Open Babel Depiction</title>\n",
       "<rect x=\"0\" y=\"0\" width=\"100\" height=\"100\" fill=\"Beige\"/>\n",
       "<text text-anchor=\"middle\" font-size=\"6\" fill=\"black\" font-family=\"sans-serif\" x=\"50\" y=\"98\"/>\n",
       "<g transform=\"translate(0,0)\">\n",
       "<svg width=\"100\" height=\"100\" x=\"0\" y=\"0\" viewBox=\"0 0 221.89 187.549\" font-family=\"sans-serif\" stroke=\"rgb(0,0,0)\" stroke-width=\"3.0\" stroke-linecap=\"round\">\n",
       "<line x1=\"155.1\" y1=\"68.8\" x2=\"130.4\" y2=\"79.8\" stroke=\"rgb(0,0,0)\" stroke-width=\"3.0\"/>\n",
       "<line x1=\"160.8\" y1=\"137.9\" x2=\"142.8\" y2=\"117.8\" stroke=\"rgb(0,0,0)\" stroke-width=\"3.0\"/>\n",
       "<line x1=\"130.4\" y1=\"79.8\" x2=\"133.2\" y2=\"52.9\" stroke=\"rgb(0,0,0)\" stroke-width=\"3.0\"/>\n",
       "<line x1=\"51.4\" y1=\"123.3\" x2=\"77.1\" y2=\"115.0\" stroke=\"rgb(0,0,0)\" stroke-width=\"3.0\"/>\n",
       "<line x1=\"53.3\" y1=\"129.0\" x2=\"79.0\" y2=\"120.7\" stroke=\"rgb(0,0,0)\" stroke-width=\"3.0\"/>\n",
       "<line x1=\"142.8\" y1=\"117.8\" x2=\"169.2\" y2=\"112.2\" stroke=\"rgb(0,0,0)\" stroke-width=\"3.0\"/>\n",
       "<line x1=\"130.4\" y1=\"79.8\" x2=\"142.8\" y2=\"117.8\" stroke=\"rgb(0,0,0)\" stroke-width=\"3.0\"/>\n",
       "<line x1=\"142.8\" y1=\"117.8\" x2=\"120.9\" y2=\"133.7\" stroke=\"rgb(0,0,0)\" stroke-width=\"3.0\"/>\n",
       "<line x1=\"99.9\" y1=\"133.7\" x2=\"78.0\" y2=\"117.8\" stroke=\"rgb(0,0,0)\" stroke-width=\"3.0\"/>\n",
       "<line x1=\"78.0\" y1=\"117.8\" x2=\"86.4\" y2=\"92.1\" stroke=\"rgb(0,0,0)\" stroke-width=\"3.0\"/>\n",
       "<line x1=\"103.4\" y1=\"79.8\" x2=\"130.4\" y2=\"79.8\" stroke=\"rgb(0,0,0)\" stroke-width=\"3.0\"/>\n",
       "<text x=\"84.402940\" y=\"87.780876\" fill=\"rgb(255,12,12)\" stroke=\"rgb(255,12,12)\" stroke-width=\"1\" font-size=\"16\">O</text>\n",
       "<text x=\"104.402940\" y=\"149.334547\" fill=\"rgb(255,12,12)\" stroke=\"rgb(255,12,12)\" stroke-width=\"1\" font-size=\"16\">O</text>\n",
       "<text x=\"34.000000\" y=\"138.183816\" fill=\"rgb(255,12,12)\" stroke=\"rgb(255,12,12)\" stroke-width=\"1\" font-size=\"16\">O</text>\n",
       "<text x=\"160.944759\" y=\"71.511410\" fill=\"DimGray\" stroke=\"DimGray\" stroke-width=\"1\" font-size=\"16\">H</text>\n",
       "<text x=\"128.584079\" y=\"48.000000\" fill=\"DimGray\" stroke=\"DimGray\" stroke-width=\"1\" font-size=\"16\">H</text>\n",
       "<text x=\"163.528844\" y=\"155.548929\" fill=\"DimGray\" stroke=\"DimGray\" stroke-width=\"1\" font-size=\"16\">H</text>\n",
       "<text x=\"175.889524\" y=\"117.506669\" fill=\"DimGray\" stroke=\"DimGray\" stroke-width=\"1\" font-size=\"16\">H</text>\n",
       "</svg>\n",
       "</g>\n",
       "</svg>"
      ],
      "text/plain": [
       "<IPython.core.display.SVG object>"
      ]
     },
     "metadata": {},
     "output_type": "display_data"
    },
    {
     "data": {
      "image/svg+xml": [
       "<svg xmlns=\"http://www.w3.org/2000/svg\" xmlns:xlink=\"http://www.w3.org/1999/xlink\" xmlns:cml=\"http://www.xml-cml.org/schema\" version=\"1.1\" id=\"topsvg\" x=\"0\" y=\"0\" width=\"200px\" height=\"200px\" viewBox=\"0 0 100 100\">\n",
       "<title>Multiple Molecules - Open Babel Depiction</title>\n",
       "<rect x=\"0\" y=\"0\" width=\"100\" height=\"100\" fill=\"Beige\"/>\n",
       "<text text-anchor=\"middle\" font-size=\"6\" fill=\"black\" font-family=\"sans-serif\" x=\"50\" y=\"98\"/>\n",
       "<g transform=\"translate(0,0)\">\n",
       "<svg width=\"100\" height=\"100\" x=\"0\" y=\"0\" viewBox=\"0 0 294.641 229.282\" font-family=\"sans-serif\" stroke=\"rgb(0,0,0)\" stroke-width=\"3.0\" stroke-linecap=\"round\">\n",
       "<line x1=\"243.4\" y1=\"128.1\" x2=\"220.0\" y2=\"114.6\" stroke=\"rgb(0,0,0)\" stroke-width=\"3.0\"/>\n",
       "<line x1=\"243.4\" y1=\"101.1\" x2=\"220.0\" y2=\"114.6\" stroke=\"rgb(0,0,0)\" stroke-width=\"3.0\"/>\n",
       "<line x1=\"80.0\" y1=\"176.3\" x2=\"80.0\" y2=\"149.3\" stroke=\"rgb(0,0,0)\" stroke-width=\"3.0\"/>\n",
       "<line x1=\"220.0\" y1=\"114.6\" x2=\"206.5\" y2=\"138.0\" stroke=\"rgb(0,0,0)\" stroke-width=\"3.0\"/>\n",
       "<line x1=\"220.0\" y1=\"114.6\" x2=\"200.0\" y2=\"80.0\" stroke=\"rgb(0,0,0)\" stroke-width=\"3.0\"/>\n",
       "<line x1=\"103.4\" y1=\"162.8\" x2=\"80.0\" y2=\"149.3\" stroke=\"rgb(0,0,0)\" stroke-width=\"3.0\"/>\n",
       "<line x1=\"80.0\" y1=\"149.3\" x2=\"93.5\" y2=\"125.9\" stroke=\"rgb(0,0,0)\" stroke-width=\"3.0\"/>\n",
       "<line x1=\"80.0\" y1=\"149.3\" x2=\"53.0\" y2=\"149.3\" stroke=\"rgb(0,0,0)\" stroke-width=\"3.0\"/>\n",
       "<line x1=\"113.0\" y1=\"114.6\" x2=\"140.0\" y2=\"114.6\" stroke=\"rgb(0,0,0)\" stroke-width=\"3.0\"/>\n",
       "<line x1=\"140.0\" y1=\"114.6\" x2=\"153.5\" y2=\"91.3\" stroke=\"rgb(0,0,0)\" stroke-width=\"3.0\"/>\n",
       "<line x1=\"142.6\" y1=\"113.1\" x2=\"156.1\" y2=\"136.5\" stroke=\"rgb(0,0,0)\" stroke-width=\"3.0\"/>\n",
       "<line x1=\"137.4\" y1=\"116.1\" x2=\"150.9\" y2=\"139.5\" stroke=\"rgb(0,0,0)\" stroke-width=\"3.0\"/>\n",
       "<line x1=\"173.0\" y1=\"80.0\" x2=\"200.0\" y2=\"80.0\" stroke=\"rgb(0,0,0)\" stroke-width=\"3.0\"/>\n",
       "<line x1=\"200.0\" y1=\"80.0\" x2=\"223.4\" y2=\"66.5\" stroke=\"rgb(0,0,0)\" stroke-width=\"3.0\"/>\n",
       "<line x1=\"200.0\" y1=\"80.0\" x2=\"200.0\" y2=\"53.0\" stroke=\"rgb(0,0,0)\" stroke-width=\"3.0\"/>\n",
       "<text x=\"154.000000\" y=\"88.000000\" fill=\"rgb(255,12,12)\" stroke=\"rgb(255,12,12)\" stroke-width=\"1\" font-size=\"16\">O</text>\n",
       "<text x=\"94.000000\" y=\"122.641016\" fill=\"rgb(255,12,12)\" stroke=\"rgb(255,12,12)\" stroke-width=\"1\" font-size=\"16\">O</text>\n",
       "<text x=\"154.000000\" y=\"157.282032\" fill=\"rgb(255,12,12)\" stroke=\"rgb(255,12,12)\" stroke-width=\"1\" font-size=\"16\">O</text>\n",
       "<text x=\"228.641016\" y=\"68.000000\" fill=\"DimGray\" stroke=\"DimGray\" stroke-width=\"1\" font-size=\"16\">H</text>\n",
       "<text x=\"194.000000\" y=\"48.000000\" fill=\"DimGray\" stroke=\"DimGray\" stroke-width=\"1\" font-size=\"16\">H</text>\n",
       "<text x=\"108.641016\" y=\"177.282032\" fill=\"DimGray\" stroke=\"DimGray\" stroke-width=\"1\" font-size=\"16\">H</text>\n",
       "<text x=\"74.000000\" y=\"197.282032\" fill=\"DimGray\" stroke=\"DimGray\" stroke-width=\"1\" font-size=\"16\">H</text>\n",
       "<text x=\"34.000000\" y=\"157.282032\" fill=\"DimGray\" stroke=\"DimGray\" stroke-width=\"1\" font-size=\"16\">H</text>\n",
       "<text x=\"248.641016\" y=\"142.641016\" fill=\"DimGray\" stroke=\"DimGray\" stroke-width=\"1\" font-size=\"16\">H</text>\n",
       "<text x=\"194.000000\" y=\"157.282032\" fill=\"DimGray\" stroke=\"DimGray\" stroke-width=\"1\" font-size=\"16\">H</text>\n",
       "<text x=\"248.641016\" y=\"102.641016\" fill=\"DimGray\" stroke=\"DimGray\" stroke-width=\"1\" font-size=\"16\">H</text>\n",
       "</svg>\n",
       "</g>\n",
       "</svg>"
      ],
      "text/plain": [
       "<IPython.core.display.SVG object>"
      ]
     },
     "metadata": {},
     "output_type": "display_data"
    },
    {
     "data": {
      "image/svg+xml": [
       "<svg xmlns=\"http://www.w3.org/2000/svg\" xmlns:xlink=\"http://www.w3.org/1999/xlink\" xmlns:cml=\"http://www.xml-cml.org/schema\" version=\"1.1\" id=\"topsvg\" x=\"0\" y=\"0\" width=\"200px\" height=\"200px\" viewBox=\"0 0 100 100\">\n",
       "<title>Multiple Molecules - Open Babel Depiction</title>\n",
       "<rect x=\"0\" y=\"0\" width=\"100\" height=\"100\" fill=\"Beige\"/>\n",
       "<text text-anchor=\"middle\" font-size=\"6\" fill=\"black\" font-family=\"sans-serif\" x=\"50\" y=\"98\"/>\n",
       "<g transform=\"translate(0,0)\">\n",
       "<svg width=\"100\" height=\"100\" x=\"0\" y=\"0\" viewBox=\"0 0 149.282 160\" font-family=\"sans-serif\" stroke=\"rgb(0,0,0)\" stroke-width=\"3.0\" stroke-linecap=\"round\">\n",
       "<line x1=\"98.0\" y1=\"93.5\" x2=\"85.9\" y2=\"86.5\" stroke=\"rgb(0,0,0)\" stroke-width=\"3.0\"/>\n",
       "<line x1=\"51.3\" y1=\"66.5\" x2=\"63.4\" y2=\"73.5\" stroke=\"rgb(0,0,0)\" stroke-width=\"3.0\"/>\n",
       "<line x1=\"74.6\" y1=\"107.0\" x2=\"74.6\" y2=\"93.0\" stroke=\"rgb(0,0,0)\" stroke-width=\"3.0\"/>\n",
       "<line x1=\"63.4\" y1=\"86.5\" x2=\"51.3\" y2=\"93.5\" stroke=\"rgb(0,0,0)\" stroke-width=\"3.0\"/>\n",
       "<line x1=\"74.6\" y1=\"67.0\" x2=\"74.6\" y2=\"53.0\" stroke=\"rgb(0,0,0)\" stroke-width=\"3.0\"/>\n",
       "<line x1=\"85.9\" y1=\"73.5\" x2=\"98.0\" y2=\"66.5\" stroke=\"rgb(0,0,0)\" stroke-width=\"3.0\"/>\n",
       "<text x=\"68.641016\" y=\"88.000000\" fill=\"rgb(255,127,0)\" stroke=\"rgb(255,127,0)\" stroke-width=\"1\" font-size=\"16\">P</text>\n",
       "<text x=\"68.641016\" y=\"128.000000\" fill=\"rgb(127,178,255)\" stroke=\"rgb(127,178,255)\" stroke-width=\"1\" font-size=\"16\">F</text>\n",
       "<text x=\"103.282032\" y=\"108.000000\" fill=\"rgb(127,178,255)\" stroke=\"rgb(127,178,255)\" stroke-width=\"1\" font-size=\"16\">F</text>\n",
       "<text x=\"103.282032\" y=\"68.000000\" fill=\"rgb(127,178,255)\" stroke=\"rgb(127,178,255)\" stroke-width=\"1\" font-size=\"16\">F</text>\n",
       "<text x=\"68.641016\" y=\"48.000000\" fill=\"rgb(127,178,255)\" stroke=\"rgb(127,178,255)\" stroke-width=\"1\" font-size=\"16\">F</text>\n",
       "<text x=\"34.000000\" y=\"68.000000\" fill=\"rgb(127,178,255)\" stroke=\"rgb(127,178,255)\" stroke-width=\"1\" font-size=\"16\">F</text>\n",
       "<text x=\"34.000000\" y=\"108.000000\" fill=\"rgb(127,178,255)\" stroke=\"rgb(127,178,255)\" stroke-width=\"1\" font-size=\"16\">F</text>\n",
       "</svg>\n",
       "</g>\n",
       "</svg>"
      ],
      "text/plain": [
       "<IPython.core.display.SVG object>"
      ]
     },
     "metadata": {},
     "output_type": "display_data"
    }
   ],
   "source": [
    "sel_molecs = ['02cd3adb17e5c150e105cce7efa6a464', '5ac14b0150f720ec0b3c723645eebe66', '85d223581769d2d337d38c1e8617f696']\n",
    "db2.show_pics(sel_molecs)"
   ]
  },
  {
   "cell_type": "code",
   "execution_count": 25,
   "metadata": {},
   "outputs": [],
   "source": [
    "from ase import Atoms\n",
    "mols = db2.get_molecs(sel_molecs, field='Atoms')\n",
    "mols.append(Atoms('Li'))"
   ]
  },
  {
   "cell_type": "markdown",
   "metadata": {},
   "source": [
    "# Solvate cathode in electrolyte at desired composition and density"
   ]
  },
  {
   "cell_type": "code",
   "execution_count": 26,
   "metadata": {},
   "outputs": [
    {
     "name": "stderr",
     "output_type": "stream",
     "text": [
      "100%|██████████| 64/64 [01:15<00:00,  1.18s/it]\n"
     ]
    }
   ],
   "source": [
    "from elecChemDev.build import fill_mols\n",
    "\n",
    "dens = 0.7 #g/cm3\n",
    "Nratio = [3,3,1,1]\n",
    "\n",
    "interface = fill_mols(cathode, mols, Nratio, Vacuum, dens, distance=2.3, Nattempts=200, fct={'Li':0.1})"
   ]
  },
  {
   "cell_type": "code",
   "execution_count": 27,
   "metadata": {},
   "outputs": [
    {
     "data": {
      "application/vnd.jupyter.widget-view+json": {
       "model_id": "e288c48f2ebf453aa3f5e840ea4027bc",
       "version_major": 2,
       "version_minor": 0
      },
      "text/plain": [
       "NGLWidget()"
      ]
     },
     "metadata": {},
     "output_type": "display_data"
    }
   ],
   "source": [
    "view_atoms(interface)"
   ]
  }
 ],
 "metadata": {
  "kernelspec": {
   "display_name": "ElecChem",
   "language": "python",
   "name": "python3"
  },
  "language_info": {
   "codemirror_mode": {
    "name": "ipython",
    "version": 3
   },
   "file_extension": ".py",
   "mimetype": "text/x-python",
   "name": "python",
   "nbconvert_exporter": "python",
   "pygments_lexer": "ipython3",
   "version": "3.10.14"
  }
 },
 "nbformat": 4,
 "nbformat_minor": 2
}
