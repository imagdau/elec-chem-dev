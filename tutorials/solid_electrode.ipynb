{
 "cells": [
  {
   "cell_type": "markdown",
   "metadata": {},
   "source": [
    "# Tutorial for building a solid electrode"
   ]
  },
  {
   "cell_type": "code",
   "execution_count": 4,
   "metadata": {},
   "outputs": [
    {
     "data": {
      "application/vnd.jupyter.widget-view+json": {
       "model_id": "d4fc28d4c8924234b781785194f3e3b6",
       "version_major": 2,
       "version_minor": 0
      },
      "text/plain": [
       "Retrieving MaterialsDoc documents:   0%|          | 0/11 [00:00<?, ?it/s]"
      ]
     },
     "metadata": {},
     "output_type": "display_data"
    },
    {
     "data": {
      "text/html": [
       "<div>\n",
       "<style scoped>\n",
       "    .dataframe tbody tr th:only-of-type {\n",
       "        vertical-align: middle;\n",
       "    }\n",
       "\n",
       "    .dataframe tbody tr th {\n",
       "        vertical-align: top;\n",
       "    }\n",
       "\n",
       "    .dataframe thead th {\n",
       "        text-align: right;\n",
       "    }\n",
       "</style>\n",
       "<table border=\"1\" class=\"dataframe\">\n",
       "  <thead>\n",
       "    <tr style=\"text-align: right;\">\n",
       "      <th></th>\n",
       "      <th>elemComb</th>\n",
       "      <th>natoms</th>\n",
       "      <th>formula</th>\n",
       "      <th>mass</th>\n",
       "      <th>charge</th>\n",
       "      <th>mpid</th>\n",
       "      <th>Atoms</th>\n",
       "    </tr>\n",
       "    <tr>\n",
       "      <th>hash</th>\n",
       "      <th></th>\n",
       "      <th></th>\n",
       "      <th></th>\n",
       "      <th></th>\n",
       "      <th></th>\n",
       "      <th></th>\n",
       "      <th></th>\n",
       "    </tr>\n",
       "  </thead>\n",
       "  <tbody>\n",
       "    <tr>\n",
       "      <th>339a0bce53d7acc7480b6d06fc5235c2</th>\n",
       "      <td>CoLiMnNiO</td>\n",
       "      <td>12</td>\n",
       "      <td>CoLi3MnNiO6</td>\n",
       "      <td>289.378638</td>\n",
       "      <td>0</td>\n",
       "      <td>mp-1222510</td>\n",
       "      <td>(Atom('Li', [-2.9526581628120003, 3.347366, 2....</td>\n",
       "    </tr>\n",
       "    <tr>\n",
       "      <th>56ee4840094949461cea63a492c20846</th>\n",
       "      <td>CoLiMnNiO</td>\n",
       "      <td>16</td>\n",
       "      <td>Co2Li4MnNiO8</td>\n",
       "      <td>387.249832</td>\n",
       "      <td>0</td>\n",
       "      <td>mp-1222625</td>\n",
       "      <td>(Atom('Li', [0.0, 4.258594146476, 2.5409387921...</td>\n",
       "    </tr>\n",
       "    <tr>\n",
       "      <th>1f1e7115dac7bcfed60aca101a8cc141</th>\n",
       "      <td>CoLiMnNiO</td>\n",
       "      <td>16</td>\n",
       "      <td>Co2Li4MnNiO8</td>\n",
       "      <td>387.249832</td>\n",
       "      <td>0</td>\n",
       "      <td>mp-1222609</td>\n",
       "      <td>(Atom('Li', [0.0, 4.351983532008, 2.4974363328...</td>\n",
       "    </tr>\n",
       "    <tr>\n",
       "      <th>a66974b1c583da6de88000b25405fba5</th>\n",
       "      <td>CoLiMnNiO</td>\n",
       "      <td>16</td>\n",
       "      <td>Co2Li4MnNiO8</td>\n",
       "      <td>387.249832</td>\n",
       "      <td>0</td>\n",
       "      <td>mp-1222620</td>\n",
       "      <td>(Atom('Li', [5.2825800253231134e-17, 9.8739170...</td>\n",
       "    </tr>\n",
       "    <tr>\n",
       "      <th>751f1d4d97a77ff9affdb09ee1a60778</th>\n",
       "      <td>CoLiMnNiO</td>\n",
       "      <td>16</td>\n",
       "      <td>Co2Li4MnNiO8</td>\n",
       "      <td>387.249832</td>\n",
       "      <td>0</td>\n",
       "      <td>mp-1222664</td>\n",
       "      <td>(Atom('Li', [0.018138514589999998, 2.445724433...</td>\n",
       "    </tr>\n",
       "    <tr>\n",
       "      <th>475995fa29d03b3388de6d8b0b5790fd</th>\n",
       "      <td>CoLiMnNiO</td>\n",
       "      <td>20</td>\n",
       "      <td>CoLi5Mn2Ni2O10</td>\n",
       "      <td>480.886082</td>\n",
       "      <td>0</td>\n",
       "      <td>mp-1222667</td>\n",
       "      <td>(Atom('Li', [-0.8418647943950002, 4.3559932867...</td>\n",
       "    </tr>\n",
       "    <tr>\n",
       "      <th>e60808d41610b0cf53ec70eafc2a4c37</th>\n",
       "      <td>CoLiMnNiO</td>\n",
       "      <td>28</td>\n",
       "      <td>Co2Li4Mn3Ni3O16</td>\n",
       "      <td>742.504720</td>\n",
       "      <td>0</td>\n",
       "      <td>mp-867541</td>\n",
       "      <td>(Atom('Li', [-0.08497553617900033, 3.274591143...</td>\n",
       "    </tr>\n",
       "    <tr>\n",
       "      <th>d3da18e4433c10bead049901ab976203</th>\n",
       "      <td>CoLiMnNiO</td>\n",
       "      <td>28</td>\n",
       "      <td>Co3Li4Mn3Ni2O16</td>\n",
       "      <td>742.744514</td>\n",
       "      <td>0</td>\n",
       "      <td>mp-758046</td>\n",
       "      <td>(Atom('Li', [-9.703237472535875e-17, 6.5957560...</td>\n",
       "    </tr>\n",
       "    <tr>\n",
       "      <th>033d7c0d675d0ddc22530dcbcb5ad189</th>\n",
       "      <td>CoLiMnNiO</td>\n",
       "      <td>28</td>\n",
       "      <td>Co3Li4Mn2Ni3O16</td>\n",
       "      <td>746.499870</td>\n",
       "      <td>0</td>\n",
       "      <td>mp-776416</td>\n",
       "      <td>(Atom('Li', [-0.07765401165800002, 3.222240106...</td>\n",
       "    </tr>\n",
       "    <tr>\n",
       "      <th>1830e1fe5d70c08446c2cb905938e922</th>\n",
       "      <td>CoLiMnNiO</td>\n",
       "      <td>34</td>\n",
       "      <td>Co2Li10Mn3Ni3O16</td>\n",
       "      <td>784.144720</td>\n",
       "      <td>0</td>\n",
       "      <td>mp-778315</td>\n",
       "      <td>(Atom('Li', [-1.363627285628, 4.106794204011, ...</td>\n",
       "    </tr>\n",
       "    <tr>\n",
       "      <th>875f7df2076debd2434ed1ccc7e25dae</th>\n",
       "      <td>CoLiMnNiO</td>\n",
       "      <td>48</td>\n",
       "      <td>CoLi12MnNi10O24</td>\n",
       "      <td>1168.061238</td>\n",
       "      <td>0</td>\n",
       "      <td>mp-1120802</td>\n",
       "      <td>(Atom('Li', [8.409887897187219e-18, 1.71402806...</td>\n",
       "    </tr>\n",
       "  </tbody>\n",
       "</table>\n",
       "</div>"
      ],
      "text/plain": [
       "                                   elemComb  natoms           formula  \\\n",
       "hash                                                                    \n",
       "339a0bce53d7acc7480b6d06fc5235c2  CoLiMnNiO      12       CoLi3MnNiO6   \n",
       "56ee4840094949461cea63a492c20846  CoLiMnNiO      16      Co2Li4MnNiO8   \n",
       "1f1e7115dac7bcfed60aca101a8cc141  CoLiMnNiO      16      Co2Li4MnNiO8   \n",
       "a66974b1c583da6de88000b25405fba5  CoLiMnNiO      16      Co2Li4MnNiO8   \n",
       "751f1d4d97a77ff9affdb09ee1a60778  CoLiMnNiO      16      Co2Li4MnNiO8   \n",
       "475995fa29d03b3388de6d8b0b5790fd  CoLiMnNiO      20    CoLi5Mn2Ni2O10   \n",
       "e60808d41610b0cf53ec70eafc2a4c37  CoLiMnNiO      28   Co2Li4Mn3Ni3O16   \n",
       "d3da18e4433c10bead049901ab976203  CoLiMnNiO      28   Co3Li4Mn3Ni2O16   \n",
       "033d7c0d675d0ddc22530dcbcb5ad189  CoLiMnNiO      28   Co3Li4Mn2Ni3O16   \n",
       "1830e1fe5d70c08446c2cb905938e922  CoLiMnNiO      34  Co2Li10Mn3Ni3O16   \n",
       "875f7df2076debd2434ed1ccc7e25dae  CoLiMnNiO      48   CoLi12MnNi10O24   \n",
       "\n",
       "                                         mass  charge        mpid  \\\n",
       "hash                                                                \n",
       "339a0bce53d7acc7480b6d06fc5235c2   289.378638       0  mp-1222510   \n",
       "56ee4840094949461cea63a492c20846   387.249832       0  mp-1222625   \n",
       "1f1e7115dac7bcfed60aca101a8cc141   387.249832       0  mp-1222609   \n",
       "a66974b1c583da6de88000b25405fba5   387.249832       0  mp-1222620   \n",
       "751f1d4d97a77ff9affdb09ee1a60778   387.249832       0  mp-1222664   \n",
       "475995fa29d03b3388de6d8b0b5790fd   480.886082       0  mp-1222667   \n",
       "e60808d41610b0cf53ec70eafc2a4c37   742.504720       0   mp-867541   \n",
       "d3da18e4433c10bead049901ab976203   742.744514       0   mp-758046   \n",
       "033d7c0d675d0ddc22530dcbcb5ad189   746.499870       0   mp-776416   \n",
       "1830e1fe5d70c08446c2cb905938e922   784.144720       0   mp-778315   \n",
       "875f7df2076debd2434ed1ccc7e25dae  1168.061238       0  mp-1120802   \n",
       "\n",
       "                                                                              Atoms  \n",
       "hash                                                                                 \n",
       "339a0bce53d7acc7480b6d06fc5235c2  (Atom('Li', [-2.9526581628120003, 3.347366, 2....  \n",
       "56ee4840094949461cea63a492c20846  (Atom('Li', [0.0, 4.258594146476, 2.5409387921...  \n",
       "1f1e7115dac7bcfed60aca101a8cc141  (Atom('Li', [0.0, 4.351983532008, 2.4974363328...  \n",
       "a66974b1c583da6de88000b25405fba5  (Atom('Li', [5.2825800253231134e-17, 9.8739170...  \n",
       "751f1d4d97a77ff9affdb09ee1a60778  (Atom('Li', [0.018138514589999998, 2.445724433...  \n",
       "475995fa29d03b3388de6d8b0b5790fd  (Atom('Li', [-0.8418647943950002, 4.3559932867...  \n",
       "e60808d41610b0cf53ec70eafc2a4c37  (Atom('Li', [-0.08497553617900033, 3.274591143...  \n",
       "d3da18e4433c10bead049901ab976203  (Atom('Li', [-9.703237472535875e-17, 6.5957560...  \n",
       "033d7c0d675d0ddc22530dcbcb5ad189  (Atom('Li', [-0.07765401165800002, 3.222240106...  \n",
       "1830e1fe5d70c08446c2cb905938e922  (Atom('Li', [-1.363627285628, 4.106794204011, ...  \n",
       "875f7df2076debd2434ed1ccc7e25dae  (Atom('Li', [8.409887897187219e-18, 1.71402806...  "
      ]
     },
     "execution_count": 4,
     "metadata": {},
     "output_type": "execute_result"
    }
   ],
   "source": [
    "from elecChemDev.search import elode\n",
    "db = elode('../api.key')\n",
    "db.df"
   ]
  },
  {
   "cell_type": "code",
   "execution_count": 10,
   "metadata": {},
   "outputs": [
    {
     "data": {
      "application/vnd.jupyter.widget-view+json": {
       "model_id": "7947e2eccb644e9497032720e38c6c3c",
       "version_major": 2,
       "version_minor": 0
      },
      "text/plain": [
       "NGLWidget()"
      ]
     },
     "metadata": {},
     "output_type": "display_data"
    }
   ],
   "source": [
    "from elecChemDev.view import view_atoms\n",
    "\n",
    "config = db.get_material('875f7df2076debd2434ed1ccc7e25dae', 'Atoms')\n",
    "large_cell  = config.repeat([2,2,1])\n",
    "view_atoms(large_cell)"
   ]
  },
  {
   "cell_type": "code",
   "execution_count": 13,
   "metadata": {},
   "outputs": [
    {
     "data": {
      "application/vnd.jupyter.widget-view+json": {
       "model_id": "65af4aae5437429681f2655dfac032d6",
       "version_major": 2,
       "version_minor": 0
      },
      "text/plain": [
       "NGLWidget()"
      ]
     },
     "metadata": {},
     "output_type": "display_data"
    }
   ],
   "source": [
    "from ase.build import surface\n",
    "\n",
    "surface_cathode = surface(large_cell, (1, 2, 1), layers=1, vacuum=10.0)\n",
    "view_atoms(surface_cathode)"
   ]
  }
 ],
 "metadata": {
  "kernelspec": {
   "display_name": "ElecChem",
   "language": "python",
   "name": "python3"
  },
  "language_info": {
   "codemirror_mode": {
    "name": "ipython",
    "version": 3
   },
   "file_extension": ".py",
   "mimetype": "text/x-python",
   "name": "python",
   "nbconvert_exporter": "python",
   "pygments_lexer": "ipython3",
   "version": "3.10.14"
  }
 },
 "nbformat": 4,
 "nbformat_minor": 2
}
