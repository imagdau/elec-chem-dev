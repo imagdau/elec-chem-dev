{
 "cells": [
  {
   "cell_type": "markdown",
   "metadata": {},
   "source": [
    "# Tutorial for building a solid electrode"
   ]
  },
  {
   "cell_type": "code",
   "execution_count": 1,
   "metadata": {},
   "outputs": [],
   "source": [
    "from elecChemDev.search import elode\n",
    "db = elode('../api.key')\n",
    "db.df"
   ]
  },
  {
   "cell_type": "code",
   "execution_count": 10,
   "metadata": {},
   "outputs": [
    {
     "data": {
      "application/vnd.jupyter.widget-view+json": {
       "model_id": "7947e2eccb644e9497032720e38c6c3c",
       "version_major": 2,
       "version_minor": 0
      },
      "text/plain": [
       "NGLWidget()"
      ]
     },
     "metadata": {},
     "output_type": "display_data"
    }
   ],
   "source": [
    "from elecChemDev.view import view_atoms\n",
    "\n",
    "config = db.get_material('875f7df2076debd2434ed1ccc7e25dae', 'Atoms')\n",
    "large_cell  = config.repeat([2,2,1])\n",
    "view_atoms(large_cell)"
   ]
  },
  {
   "cell_type": "code",
   "execution_count": 13,
   "metadata": {},
   "outputs": [
    {
     "data": {
      "application/vnd.jupyter.widget-view+json": {
       "model_id": "65af4aae5437429681f2655dfac032d6",
       "version_major": 2,
       "version_minor": 0
      },
      "text/plain": [
       "NGLWidget()"
      ]
     },
     "metadata": {},
     "output_type": "display_data"
    }
   ],
   "source": [
    "from ase.build import surface\n",
    "\n",
    "surface_cathode = surface(large_cell, (1, 2, 1), layers=1, vacuum=10.0)\n",
    "view_atoms(surface_cathode)"
   ]
  }
 ],
 "metadata": {
  "kernelspec": {
   "display_name": "ElecChem",
   "language": "python",
   "name": "python3"
  },
  "language_info": {
   "codemirror_mode": {
    "name": "ipython",
    "version": 3
   },
   "file_extension": ".py",
   "mimetype": "text/x-python",
   "name": "python",
   "nbconvert_exporter": "python",
   "pygments_lexer": "ipython3",
   "version": "3.10.14"
  }
 },
 "nbformat": 4,
 "nbformat_minor": 2
}
