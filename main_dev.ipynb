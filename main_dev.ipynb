{
 "cells": [
  {
   "cell_type": "code",
   "execution_count": 1,
   "metadata": {},
   "outputs": [
    {
     "data": {
      "application/vnd.jupyter.widget-view+json": {
       "model_id": "729344e2ae284e5e8fa718b425892c78",
       "version_major": 2,
       "version_minor": 0
      },
      "text/plain": [
       "Retrieving MoleculesDoc documents:   0%|          | 0/24989 [00:00<?, ?it/s]"
      ]
     },
     "metadata": {},
     "output_type": "display_data"
    }
   ],
   "source": [
    "from elecChemDev.search import elyte\n",
    "\n",
    "db = elyte()"
   ]
  },
  {
   "cell_type": "code",
   "execution_count": 2,
   "metadata": {},
   "outputs": [
    {
     "data": {
      "text/plain": [
       "['AlFOC',\n",
       " 'AlFOCH',\n",
       " 'AlOH',\n",
       " 'BH',\n",
       " 'Be',\n",
       " 'Br',\n",
       " 'BrCa',\n",
       " 'BrClNCH',\n",
       " 'BrClOCH',\n",
       " 'BrClONCH',\n",
       " 'BrClSCH',\n",
       " 'BrClSNCH',\n",
       " 'BrFNCH',\n",
       " 'BrFOCH',\n",
       " 'BrFONCH',\n",
       " 'BrMg',\n",
       " 'BrNCH',\n",
       " 'BrOCH',\n",
       " 'BrONCH',\n",
       " 'BrSCH',\n",
       " 'BrSFCH',\n",
       " 'BrSFNCH',\n",
       " 'BrSNCH',\n",
       " 'BrSOCH',\n",
       " 'BrSONCH',\n",
       " 'BrZn',\n",
       " 'CBH',\n",
       " 'CH',\n",
       " 'CLiH',\n",
       " 'CaBH',\n",
       " 'CaCl',\n",
       " 'CaFB',\n",
       " 'CaFOCBH',\n",
       " 'CaFONCBH',\n",
       " 'CaPF',\n",
       " 'CaSFONCH',\n",
       " 'CaSiNCH',\n",
       " 'Cl',\n",
       " 'ClAlCH',\n",
       " 'ClAlMg',\n",
       " 'ClC',\n",
       " 'ClCH',\n",
       " 'ClFC',\n",
       " 'ClFCH',\n",
       " 'ClFNCH',\n",
       " 'ClFOCH',\n",
       " 'ClFONCH',\n",
       " 'ClMg',\n",
       " 'ClMgOCH',\n",
       " 'ClN',\n",
       " 'ClNC',\n",
       " 'ClNCH',\n",
       " 'ClNH',\n",
       " 'ClO',\n",
       " 'ClOC',\n",
       " 'ClOCH',\n",
       " 'ClONC',\n",
       " 'ClONCH',\n",
       " 'ClPCH',\n",
       " 'ClPOCH',\n",
       " 'ClPONCH',\n",
       " 'ClS',\n",
       " 'ClSCH',\n",
       " 'ClSFCH',\n",
       " 'ClSFNCH',\n",
       " 'ClSNCH',\n",
       " 'ClSOCH',\n",
       " 'ClSONCH',\n",
       " 'ClSiCH',\n",
       " 'ClSiOCH',\n",
       " 'FB',\n",
       " 'FC',\n",
       " 'FCBH',\n",
       " 'FCH',\n",
       " 'FNC',\n",
       " 'FNCBH',\n",
       " 'FNCH',\n",
       " 'FOC',\n",
       " 'FOCB',\n",
       " 'FOCBH',\n",
       " 'FOCH',\n",
       " 'FONC',\n",
       " 'FONCBH',\n",
       " 'FONCH',\n",
       " 'MgBH',\n",
       " 'MgCBH',\n",
       " 'MgFB',\n",
       " 'MgFNC',\n",
       " 'MgFNCBH',\n",
       " 'MgFOCBH',\n",
       " 'MgFONCBH',\n",
       " 'MgNC',\n",
       " 'MgOCB',\n",
       " 'MgOCH',\n",
       " 'NB',\n",
       " 'NC',\n",
       " 'NCBH',\n",
       " 'NCH',\n",
       " 'NH',\n",
       " 'NaNCH',\n",
       " 'NaOCH',\n",
       " 'OBH',\n",
       " 'OC',\n",
       " 'OCB',\n",
       " 'OCBH',\n",
       " 'OCH',\n",
       " 'OCLiH',\n",
       " 'OH',\n",
       " 'ONC',\n",
       " 'ONCBH',\n",
       " 'ONCH',\n",
       " 'ONH',\n",
       " 'P',\n",
       " 'PCH',\n",
       " 'PF',\n",
       " 'PFC',\n",
       " 'PFCH',\n",
       " 'PFNCH',\n",
       " 'PFOCH',\n",
       " 'PFONC',\n",
       " 'PFONCH',\n",
       " 'PMgF',\n",
       " 'PMgFONC',\n",
       " 'PMgFONCH',\n",
       " 'PNCH',\n",
       " 'POCH',\n",
       " 'POH',\n",
       " 'PONCH',\n",
       " 'S',\n",
       " 'SCH',\n",
       " 'SFC',\n",
       " 'SFCH',\n",
       " 'SFNCH',\n",
       " 'SFOC',\n",
       " 'SFOCH',\n",
       " 'SFON',\n",
       " 'SFONC',\n",
       " 'SFONCH',\n",
       " 'SH',\n",
       " 'SMgFOC',\n",
       " 'SMgFOCBH',\n",
       " 'SMgFON',\n",
       " 'SMgFONC',\n",
       " 'SMgFONCH',\n",
       " 'SN',\n",
       " 'SNC',\n",
       " 'SNCBH',\n",
       " 'SNCH',\n",
       " 'SNH',\n",
       " 'SNaOCH',\n",
       " 'SO',\n",
       " 'SOCH',\n",
       " 'SOH',\n",
       " 'SON',\n",
       " 'SONC',\n",
       " 'SONCH',\n",
       " 'SONH',\n",
       " 'SPCH',\n",
       " 'SPFONC',\n",
       " 'SPMgFONC',\n",
       " 'SPNCH',\n",
       " 'SPOCH',\n",
       " 'SPONCH',\n",
       " 'SSiCH',\n",
       " 'SSiFONC',\n",
       " 'SSiMgFONC',\n",
       " 'SSiOCH',\n",
       " 'SiCH',\n",
       " 'SiFNC',\n",
       " 'SiFOCH',\n",
       " 'SiFONC',\n",
       " 'SiFONCH',\n",
       " 'SiMgFNC',\n",
       " 'SiMgFONC',\n",
       " 'SiMgFONCH',\n",
       " 'SiMgNCH',\n",
       " 'SiNCH',\n",
       " 'SiNaOH',\n",
       " 'SiOCBH',\n",
       " 'SiOCH',\n",
       " 'SiONCH',\n",
       " 'ZnBH',\n",
       " 'ZnCBH',\n",
       " 'ZnCl',\n",
       " 'ZnFB',\n",
       " 'ZnFCBH',\n",
       " 'ZnFNC',\n",
       " 'ZnFNCBH',\n",
       " 'ZnFOCBH',\n",
       " 'ZnFONCBH',\n",
       " 'ZnNC',\n",
       " 'ZnOCH',\n",
       " 'ZnPF',\n",
       " 'ZnSFOC',\n",
       " 'ZnSFOCBH',\n",
       " 'ZnSFON',\n",
       " 'ZnSFONC',\n",
       " 'ZnSFONCH',\n",
       " 'ZnSiNCH']"
      ]
     },
     "execution_count": 2,
     "metadata": {},
     "output_type": "execute_result"
    }
   ],
   "source": [
    "db.list_elem_combs()"
   ]
  },
  {
   "cell_type": "code",
   "execution_count": 54,
   "metadata": {},
   "outputs": [
    {
     "data": {
      "text/plain": [
       "{'elements': [Element H, Element C],\n",
       " 'nelements': 2,\n",
       " 'EA': 0.6936563397226565,\n",
       " 'IE': 3.774204003498744,\n",
       " 'charge': 0,\n",
       " 'pointgroup': 'Cs',\n",
       " 'smiles': 'c12c3c4c(cc1ccc(c2CC3)C)c1c(cc4)cccc1',\n",
       " 'task_id': 'mol-38873',\n",
       " 'molecule': Molecule Summary\n",
       " Site: C (1.7397, 0.0553, -0.0012)\n",
       " Site: C (0.9220, 1.1874, -0.0011)\n",
       " Site: C (1.2290, -1.2661, -0.0023)\n",
       " Site: C (3.1232, 0.3700, -0.0001)\n",
       " Site: C (-0.4682, 1.0414, -0.0014)\n",
       " Site: C (1.7946, 2.4316, 0.0002)\n",
       " Site: C (-0.1721, -1.4103, -0.0028)\n",
       " Site: C (2.2072, -2.3075, -0.0033)\n",
       " Site: C (4.0520, -0.6477, -0.0011)\n",
       " Site: C (3.2660, 1.8854, 0.0015)\n",
       " Site: C (-1.0279, -0.2989, -0.0014)\n",
       " Site: C (-1.3478, 2.1805, -0.0015)\n",
       " Site: C (3.5501, -1.9948, -0.0029)\n",
       " Site: C (5.5432, -0.4095, 0.0060)\n",
       " Site: C (-2.4896, -0.4402, 0.0000)\n",
       " Site: C (-2.6984, 2.0330, -0.0017)\n",
       " Site: C (-3.3084, 0.7279, -0.0005)\n",
       " Site: C (-3.1399, -1.6959, 0.0026)\n",
       " Site: C (-4.7162, 0.5990, 0.0003)\n",
       " Site: C (-4.5230, -1.8014, 0.0036)\n",
       " Site: C (-5.3234, -0.6451, 0.0023)\n",
       " Site: H (1.6032, 3.0595, 0.8804)\n",
       " Site: H (1.6047, 3.0627, -0.8780)\n",
       " Site: H (-0.5810, -2.4157, -0.0045)\n",
       " Site: H (1.8892, -3.3480, -0.0053)\n",
       " Site: H (3.8201, 2.2400, -0.8767)\n",
       " Site: H (3.8182, 2.2397, 0.8809)\n",
       " Site: H (-0.9067, 3.1738, -0.0018)\n",
       " Site: H (4.2766, -2.8059, -0.0049)\n",
       " Site: H (5.7856, 0.6543, -0.0812)\n",
       " Site: H (6.0348, -0.9332, -0.8243)\n",
       " Site: H (6.0024, -0.7786, 0.9335)\n",
       " Site: H (-3.3488, 2.9051, -0.0024)\n",
       " Site: H (-2.5555, -2.6095, 0.0046)\n",
       " Site: H (-5.3211, 1.5035, -0.0007)\n",
       " Site: H (-4.9865, -2.7847, 0.0058)\n",
       " Site: H (-6.4071, -0.7282, 0.0029),\n",
       " 'formula_pretty': 'H16C21',\n",
       " 'svg': '<?xml version=\"1.0\"?>\\n<svg version=\"1.1\" id=\"topsvg\"\\nxmlns=\"http://www.w3.org/2000/svg\" xmlns:xlink=\"http://www.w3.org/1999/xlink\"\\nxmlns:cml=\"http://www.xml-cml.org/schema\" x=\"0\" y=\"0\" width=\"200px\" height=\"200px\" viewBox=\"0 0 100 100\">\\n<title>Multiple Molecules - Open Babel Depiction</title>\\n<rect x=\"0\" y=\"0\" width=\"100\" height=\"100\" fill=\"Beige\"/>\\n<text text-anchor=\"middle\" font-size=\"6\" fill =\"black\" font-family=\"sans-serif\"\\nx=\"50\" y=\"98\" ></text>\\n<g transform=\"translate(0,0)\">\\n<svg width=\"100\" height=\"100\" x=\"0\" y=\"0\" viewBox=\"0 0 396.843 356.619\"\\nfont-family=\"sans-serif\" stroke=\"rgb(0,0,0)\" stroke-width=\"3.0\"  stroke-linecap=\"round\">\\n<line x1=\"335.9\" y1=\"140.8\" x2=\"316.8\" y2=\"159.9\" stroke=\"rgb(0,0,0)\"  stroke-width=\"3.0\"/>\\n<line x1=\"340.2\" y1=\"213.3\" x2=\"316.9\" y2=\"199.8\" stroke=\"rgb(0,0,0)\"  stroke-width=\"3.0\"/>\\n<line x1=\"335.9\" y1=\"279.9\" x2=\"307.8\" y2=\"275.7\" stroke=\"rgb(0,0,0)\"  stroke-width=\"3.0\"/>\\n<line x1=\"325.5\" y1=\"253.4\" x2=\"307.8\" y2=\"275.7\" stroke=\"rgb(0,0,0)\"  stroke-width=\"3.0\"/>\\n<line x1=\"197.7\" y1=\"267.6\" x2=\"219.9\" y2=\"249.9\" stroke=\"rgb(0,0,0)\"  stroke-width=\"3.0\"/>\\n<line x1=\"247.7\" y1=\"291.6\" x2=\"247.7\" y2=\"263.2\" stroke=\"rgb(0,0,0)\"  stroke-width=\"3.0\"/>\\n<line x1=\"155.1\" y1=\"213.4\" x2=\"178.5\" y2=\"199.9\" stroke=\"rgb(0,0,0)\"  stroke-width=\"3.0\"/>\\n<line x1=\"178.4\" y1=\"53.0\" x2=\"178.4\" y2=\"80.0\" stroke=\"rgb(0,0,0)\"  stroke-width=\"3.0\"/>\\n<line x1=\"236.4\" y1=\"86.5\" x2=\"213.0\" y2=\"100.0\" stroke=\"rgb(0,0,0)\"  stroke-width=\"3.0\"/>\\n<line x1=\"275.5\" y1=\"249.9\" x2=\"307.8\" y2=\"275.7\" stroke=\"rgb(0,0,0)\"  stroke-width=\"3.0\"/>\\n<line x1=\"109.2\" y1=\"53.0\" x2=\"109.2\" y2=\"80.0\" stroke=\"rgb(0,0,0)\"  stroke-width=\"3.0\"/>\\n<line x1=\"316.8\" y1=\"159.9\" x2=\"343.8\" y2=\"159.9\" stroke=\"rgb(0,0,0)\"  stroke-width=\"3.0\"/>\\n<line x1=\"316.9\" y1=\"199.8\" x2=\"340.2\" y2=\"186.3\" stroke=\"rgb(0,0,0)\"  stroke-width=\"3.0\"/>\\n<line x1=\"74.6\" y1=\"100.0\" x2=\"51.3\" y2=\"86.5\" stroke=\"rgb(0,0,0)\"  stroke-width=\"3.0\"/>\\n<line x1=\"109.3\" y1=\"159.9\" x2=\"109.3\" y2=\"186.9\" stroke=\"rgb(0,0,0)\"  stroke-width=\"3.0\"/>\\n<line x1=\"74.7\" y1=\"140.0\" x2=\"51.3\" y2=\"153.5\" stroke=\"rgb(0,0,0)\"  stroke-width=\"3.0\"/>\\n<line x1=\"307.8\" y1=\"275.7\" x2=\"303.6\" y2=\"303.8\" stroke=\"rgb(0,0,0)\"  stroke-width=\"3.0\"/>\\n<line x1=\"316.9\" y1=\"199.8\" x2=\"316.8\" y2=\"159.9\" stroke=\"rgb(0,0,0)\"  stroke-width=\"3.0\"/>\\n<line x1=\"316.8\" y1=\"159.9\" x2=\"247.7\" y2=\"159.9\" stroke=\"rgb(0,0,0)\"  stroke-width=\"3.0\"/>\\n<line x1=\"247.7\" y1=\"159.9\" x2=\"247.7\" y2=\"199.8\" stroke=\"rgb(0,0,0)\"  stroke-width=\"3.0\"/>\\n<line x1=\"254.9\" y1=\"165.9\" x2=\"254.9\" y2=\"193.8\" stroke=\"rgb(0,0,0)\"  stroke-width=\"3.0\"/>\\n<line x1=\"247.7\" y1=\"199.8\" x2=\"282.3\" y2=\"219.8\" stroke=\"rgb(0,0,0)\"  stroke-width=\"3.0\"/>\\n<line x1=\"282.3\" y1=\"219.8\" x2=\"316.9\" y2=\"199.8\" stroke=\"rgb(0,0,0)\"  stroke-width=\"3.0\"/>\\n<line x1=\"247.7\" y1=\"159.9\" x2=\"213.1\" y2=\"139.9\" stroke=\"rgb(0,0,0)\"  stroke-width=\"3.0\"/>\\n<line x1=\"213.1\" y1=\"139.9\" x2=\"178.4\" y2=\"159.9\" stroke=\"rgb(0,0,0)\"  stroke-width=\"3.0\"/>\\n<line x1=\"211.5\" y1=\"149.2\" x2=\"187.2\" y2=\"163.2\" stroke=\"rgb(0,0,0)\"  stroke-width=\"3.0\"/>\\n<line x1=\"178.4\" y1=\"159.9\" x2=\"178.5\" y2=\"199.9\" stroke=\"rgb(0,0,0)\"  stroke-width=\"3.0\"/>\\n<line x1=\"178.5\" y1=\"199.9\" x2=\"213.1\" y2=\"219.8\" stroke=\"rgb(0,0,0)\"  stroke-width=\"3.0\"/>\\n<line x1=\"187.3\" y1=\"196.6\" x2=\"211.5\" y2=\"210.6\" stroke=\"rgb(0,0,0)\"  stroke-width=\"3.0\"/>\\n<line x1=\"213.1\" y1=\"219.8\" x2=\"247.7\" y2=\"199.8\" stroke=\"rgb(0,0,0)\"  stroke-width=\"3.0\"/>\\n<line x1=\"219.9\" y1=\"249.9\" x2=\"247.7\" y2=\"263.2\" stroke=\"rgb(0,0,0)\"  stroke-width=\"3.0\"/>\\n<line x1=\"228.5\" y1=\"246.0\" x2=\"245.4\" y2=\"254.1\" stroke=\"rgb(0,0,0)\"  stroke-width=\"3.0\"/>\\n<line x1=\"247.7\" y1=\"263.2\" x2=\"275.5\" y2=\"249.9\" stroke=\"rgb(0,0,0)\"  stroke-width=\"3.0\"/>\\n<line x1=\"275.5\" y1=\"249.9\" x2=\"282.3\" y2=\"219.8\" stroke=\"rgb(0,0,0)\"  stroke-width=\"3.0\"/>\\n<line x1=\"269.8\" y1=\"242.4\" x2=\"273.9\" y2=\"224.1\" stroke=\"rgb(0,0,0)\"  stroke-width=\"3.0\"/>\\n<line x1=\"213.1\" y1=\"219.8\" x2=\"219.9\" y2=\"249.9\" stroke=\"rgb(0,0,0)\"  stroke-width=\"3.0\"/>\\n<line x1=\"213.0\" y1=\"100.0\" x2=\"213.1\" y2=\"139.9\" stroke=\"rgb(0,0,0)\"  stroke-width=\"3.0\"/>\\n<line x1=\"178.4\" y1=\"159.9\" x2=\"143.8\" y2=\"140.0\" stroke=\"rgb(0,0,0)\"  stroke-width=\"3.0\"/>\\n<line x1=\"143.8\" y1=\"140.0\" x2=\"143.8\" y2=\"100.0\" stroke=\"rgb(0,0,0)\"  stroke-width=\"3.0\"/>\\n<line x1=\"151.0\" y1=\"134.0\" x2=\"151.0\" y2=\"106.0\" stroke=\"rgb(0,0,0)\"  stroke-width=\"3.0\"/>\\n<line x1=\"143.8\" y1=\"100.0\" x2=\"178.4\" y2=\"80.0\" stroke=\"rgb(0,0,0)\"  stroke-width=\"3.0\"/>\\n<line x1=\"178.4\" y1=\"80.0\" x2=\"213.0\" y2=\"100.0\" stroke=\"rgb(0,0,0)\"  stroke-width=\"3.0\"/>\\n<line x1=\"180.0\" y1=\"89.2\" x2=\"204.2\" y2=\"103.2\" stroke=\"rgb(0,0,0)\"  stroke-width=\"3.0\"/>\\n<line x1=\"143.8\" y1=\"100.0\" x2=\"109.2\" y2=\"80.0\" stroke=\"rgb(0,0,0)\"  stroke-width=\"3.0\"/>\\n<line x1=\"109.2\" y1=\"80.0\" x2=\"74.6\" y2=\"100.0\" stroke=\"rgb(0,0,0)\"  stroke-width=\"3.0\"/>\\n<line x1=\"107.6\" y1=\"89.3\" x2=\"83.4\" y2=\"103.2\" stroke=\"rgb(0,0,0)\"  stroke-width=\"3.0\"/>\\n<line x1=\"74.6\" y1=\"100.0\" x2=\"74.7\" y2=\"140.0\" stroke=\"rgb(0,0,0)\"  stroke-width=\"3.0\"/>\\n<line x1=\"74.7\" y1=\"140.0\" x2=\"109.3\" y2=\"159.9\" stroke=\"rgb(0,0,0)\"  stroke-width=\"3.0\"/>\\n<line x1=\"83.5\" y1=\"136.7\" x2=\"107.7\" y2=\"150.7\" stroke=\"rgb(0,0,0)\"  stroke-width=\"3.0\"/>\\n<line x1=\"109.3\" y1=\"159.9\" x2=\"143.8\" y2=\"140.0\" stroke=\"rgb(0,0,0)\"  stroke-width=\"3.0\"/>\\n<text x=\"350.843031\" y=\"167.875237\" fill=\"DimGray\"  stroke=\"DimGray\" stroke-width=\"1\" font-size=\"16\" >H</text>\\n<text x=\"339.119226\" y=\"139.594313\" fill=\"DimGray\"  stroke=\"DimGray\" stroke-width=\"1\" font-size=\"16\" >H</text>\\n<text x=\"137.825914\" y=\"227.875249\" fill=\"DimGray\"  stroke=\"DimGray\" stroke-width=\"1\" font-size=\"16\" >H</text>\\n<text x=\"181.569080\" y=\"283.699308\" fill=\"DimGray\"  stroke=\"DimGray\" stroke-width=\"1\" font-size=\"16\" >H</text>\\n<text x=\"345.507051\" y=\"227.805433\" fill=\"DimGray\"  stroke=\"DimGray\" stroke-width=\"1\" font-size=\"16\" >H</text>\\n<text x=\"345.477948\" y=\"187.795241\" fill=\"DimGray\"  stroke=\"DimGray\" stroke-width=\"1\" font-size=\"16\" >H</text>\\n<text x=\"241.678104\" y=\"87.961464\" fill=\"DimGray\"  stroke=\"DimGray\" stroke-width=\"1\" font-size=\"16\" >H</text>\\n<text x=\"241.711887\" y=\"312.641402\" fill=\"DimGray\"  stroke=\"DimGray\" stroke-width=\"1\" font-size=\"16\" >H</text>\\n<text x=\"327.650380\" y=\"251.278485\" fill=\"DimGray\"  stroke=\"DimGray\" stroke-width=\"1\" font-size=\"16\" >H</text>\\n<text x=\"342.791779\" y=\"289.825768\" fill=\"DimGray\"  stroke=\"DimGray\" stroke-width=\"1\" font-size=\"16\" >H</text>\\n<text x=\"295.677348\" y=\"324.618588\" fill=\"DimGray\"  stroke=\"DimGray\" stroke-width=\"1\" font-size=\"16\" >H</text>\\n<text x=\"172.415389\" y=\"48.000000\" fill=\"DimGray\"  stroke=\"DimGray\" stroke-width=\"1\" font-size=\"16\" >H</text>\\n<text x=\"103.264360\" y=\"207.945940\" fill=\"DimGray\"  stroke=\"DimGray\" stroke-width=\"1\" font-size=\"16\" >H</text>\\n<text x=\"103.218690\" y=\"48.019761\" fill=\"DimGray\"  stroke=\"DimGray\" stroke-width=\"1\" font-size=\"16\" >H</text>\\n<text x=\"34.022832\" y=\"167.979219\" fill=\"DimGray\"  stroke=\"DimGray\" stroke-width=\"1\" font-size=\"16\" >H</text>\\n<text x=\"34.000000\" y=\"88.026022\" fill=\"DimGray\"  stroke=\"DimGray\" stroke-width=\"1\" font-size=\"16\" >H</text>\\n</svg>\\n</g>\\n</svg>\\n\\n',\n",
       " 'fields_not_requested': []}"
      ]
     },
     "execution_count": 54,
     "metadata": {},
     "output_type": "execute_result"
    }
   ],
   "source": [
    "db.docs[100].__dict__"
   ]
  },
  {
   "cell_type": "code",
   "execution_count": 44,
   "metadata": {},
   "outputs": [],
   "source": [
    "elements = db.docs[10000].elements"
   ]
  },
  {
   "cell_type": "code",
   "execution_count": 48,
   "metadata": {},
   "outputs": [],
   "source": [
    "elements.sort(key=lambda element: element._atomic_mass, reverse=True)\n"
   ]
  },
  {
   "cell_type": "code",
   "execution_count": 49,
   "metadata": {},
   "outputs": [
    {
     "data": {
      "text/plain": [
       "'H7C5NO'"
      ]
     },
     "execution_count": 49,
     "metadata": {},
     "output_type": "execute_result"
    }
   ],
   "source": [
    "db.docs[10000].formula_pretty"
   ]
  },
  {
   "cell_type": "code",
   "execution_count": 52,
   "metadata": {},
   "outputs": [
    {
     "ename": "AttributeError",
     "evalue": "'MPDataDoc' object has no attribute 'task_id'",
     "output_type": "error",
     "traceback": [
      "\u001b[0;31m---------------------------------------------------------------------------\u001b[0m",
      "\u001b[0;31mAttributeError\u001b[0m                            Traceback (most recent call last)",
      "Cell \u001b[0;32mIn[52], line 4\u001b[0m\n\u001b[1;32m      2\u001b[0m \u001b[38;5;28;01mfor\u001b[39;00m doc \u001b[38;5;129;01min\u001b[39;00m docs:\n\u001b[1;32m      3\u001b[0m     formula \u001b[38;5;241m=\u001b[39m doc\u001b[38;5;241m.\u001b[39mformula_pretty\n\u001b[0;32m----> 4\u001b[0m     mpid \u001b[38;5;241m=\u001b[39m \u001b[43mdoc\u001b[49m\u001b[38;5;241;43m.\u001b[39;49m\u001b[43mtask_id\u001b[49m\n\u001b[1;32m      5\u001b[0m     pic \u001b[38;5;241m=\u001b[39m doc\u001b[38;5;241m.\u001b[39msvg\n\u001b[1;32m      6\u001b[0m     display(SVG(doc\u001b[38;5;241m.\u001b[39msvg))\n",
      "File \u001b[0;32m/opt/miniconda3/envs/elec-chem-dev/lib/python3.10/site-packages/mp_api/client/core/client.py:1106\u001b[0m, in \u001b[0;36mBaseRester._generate_returned_model.<locals>.new_getattr\u001b[0;34m(self, attr)\u001b[0m\n\u001b[1;32m   1101\u001b[0m     \u001b[38;5;28;01mraise\u001b[39;00m \u001b[38;5;167;01mAttributeError\u001b[39;00m(\n\u001b[1;32m   1102\u001b[0m         \u001b[38;5;124mf\u001b[39m\u001b[38;5;124m\"\u001b[39m\u001b[38;5;124m'\u001b[39m\u001b[38;5;132;01m{\u001b[39;00mattr\u001b[38;5;132;01m}\u001b[39;00m\u001b[38;5;124m'\u001b[39m\u001b[38;5;124m data is available but has not been requested in \u001b[39m\u001b[38;5;124m'\u001b[39m\u001b[38;5;124mfields\u001b[39m\u001b[38;5;124m'\u001b[39m\u001b[38;5;124m.\u001b[39m\u001b[38;5;124m\"\u001b[39m\n\u001b[1;32m   1103\u001b[0m         \u001b[38;5;124m\"\u001b[39m\u001b[38;5;124m A full list of unrequested fields can be found in `fields_not_requested`.\u001b[39m\u001b[38;5;124m\"\u001b[39m\n\u001b[1;32m   1104\u001b[0m     )\n\u001b[1;32m   1105\u001b[0m \u001b[38;5;28;01melse\u001b[39;00m:\n\u001b[0;32m-> 1106\u001b[0m     \u001b[38;5;28;01mraise\u001b[39;00m \u001b[38;5;167;01mAttributeError\u001b[39;00m(\n\u001b[1;32m   1107\u001b[0m         \u001b[38;5;124mf\u001b[39m\u001b[38;5;124m\"\u001b[39m\u001b[38;5;132;01m{\u001b[39;00m\u001b[38;5;28mself\u001b[39m\u001b[38;5;241m.\u001b[39m\u001b[38;5;18m__class__\u001b[39m\u001b[38;5;241m.\u001b[39m\u001b[38;5;18m__name__\u001b[39m\u001b[38;5;132;01m!r}\u001b[39;00m\u001b[38;5;124m object has no attribute \u001b[39m\u001b[38;5;132;01m{\u001b[39;00mattr\u001b[38;5;132;01m!r}\u001b[39;00m\u001b[38;5;124m\"\u001b[39m\n\u001b[1;32m   1108\u001b[0m     )\n",
      "\u001b[0;31mAttributeError\u001b[0m: 'MPDataDoc' object has no attribute 'task_id'"
     ]
    }
   ],
   "source": [
    "from IPython.display import SVG\n",
    "for doc in docs:\n",
    "    formula = doc.formula_pretty\n",
    "    mpid = doc.task_id\n",
    "    pic = doc.svg\n",
    "    display(SVG(doc.svg))\n",
    "    print(formula+':'+mpid)"
   ]
  },
  {
   "cell_type": "code",
   "execution_count": null,
   "metadata": {},
   "outputs": [
    {
     "data": {
      "application/vnd.jupyter.widget-view+json": {
       "model_id": "11dd7cf6f8e44d0c86778a9b61aa9472",
       "version_major": 2,
       "version_minor": 0
      },
      "text/plain": []
     },
     "metadata": {},
     "output_type": "display_data"
    },
    {
     "data": {
      "application/vnd.jupyter.widget-view+json": {
       "model_id": "0f960ddeb24a43959589ea107ffd361c",
       "version_major": 2,
       "version_minor": 0
      },
      "text/plain": [
       "NGLWidget()"
      ]
     },
     "metadata": {},
     "output_type": "display_data"
    }
   ],
   "source": [
    "from pymatgen.io.ase import AseAtomsAdaptor\n",
    "from ase import Atoms\n",
    "import nglview as ngl\n",
    "\n",
    "atcol = []\n",
    "for doc in docs:\n",
    "    at = Atoms(AseAtomsAdaptor.get_atoms(doc.molecule))\n",
    "    atcol += [at]\n",
    "    \n",
    "ngl.show_ase(atcol[-1])"
   ]
  },
  {
   "cell_type": "code",
   "execution_count": null,
   "metadata": {},
   "outputs": [],
   "source": [
    "atcol10 = [at for at in atcol if len(at)==10]\n",
    "atcol15 = [at for at in atcol if len(at)==15]"
   ]
  },
  {
   "cell_type": "code",
   "execution_count": null,
   "metadata": {},
   "outputs": [
    {
     "data": {
      "application/vnd.jupyter.widget-view+json": {
       "model_id": "a122becc4fc84a949f45010ea984cda5",
       "version_major": 2,
       "version_minor": 0
      },
      "text/plain": [
       "NGLWidget()"
      ]
     },
     "metadata": {},
     "output_type": "display_data"
    }
   ],
   "source": [
    "ngl.show_ase(atcol15[23])"
   ]
  },
  {
   "cell_type": "code",
   "execution_count": null,
   "metadata": {},
   "outputs": [
    {
     "data": {
      "application/vnd.jupyter.widget-view+json": {
       "model_id": "9db9530efb5641858f2c3c354dd643f6",
       "version_major": 2,
       "version_minor": 0
      },
      "text/plain": [
       "NGLWidget()"
      ]
     },
     "metadata": {},
     "output_type": "display_data"
    }
   ],
   "source": [
    "ngl.show_ase(atcol10[0])"
   ]
  },
  {
   "cell_type": "code",
   "execution_count": null,
   "metadata": {},
   "outputs": [
    {
     "data": {
      "text/plain": [
       "'P(F)(F)(F)(F)(F)F'"
      ]
     },
     "execution_count": 13,
     "metadata": {},
     "output_type": "execute_result"
    }
   ],
   "source": [
    "doc.smiles"
   ]
  },
  {
   "cell_type": "code",
   "execution_count": null,
   "metadata": {},
   "outputs": [
    {
     "name": "stderr",
     "output_type": "stream",
     "text": [
      "  0%|          | 0/120 [00:00<?, ?it/s]"
     ]
    },
    {
     "name": "stderr",
     "output_type": "stream",
     "text": [
      "100%|██████████| 120/120 [01:07<00:00,  1.77it/s]\n"
     ]
    },
    {
     "data": {
      "application/vnd.jupyter.widget-view+json": {
       "model_id": "8cb772801b3c4bf4b37216f0b90b1fad",
       "version_major": 2,
       "version_minor": 0
      },
      "text/plain": [
       "NGLWidget()"
      ]
     },
     "metadata": {},
     "output_type": "display_data"
    }
   ],
   "source": [
    "from elecChemDev.build import pack_mols\n",
    "from elecChemDev.view import view_atoms\n",
    "\n",
    "mols = [atcol10[0], atcol15[23], Atoms('Li'), atcol[-1]]\n",
    "config = pack_mols(db=mols, Nmols=[50,50,10,10], dens=0.7, cell=[1,1,1,90,90,60], distance=2.3, fct={'Li':0.1})\n",
    "view_atoms(config)"
   ]
  }
 ],
 "metadata": {
  "kernelspec": {
   "display_name": "elec-chem-dev",
   "language": "python",
   "name": "python3"
  },
  "language_info": {
   "codemirror_mode": {
    "name": "ipython",
    "version": 3
   },
   "file_extension": ".py",
   "mimetype": "text/x-python",
   "name": "python",
   "nbconvert_exporter": "python",
   "pygments_lexer": "ipython3",
   "version": "3.10.14"
  }
 },
 "nbformat": 4,
 "nbformat_minor": 2
}
