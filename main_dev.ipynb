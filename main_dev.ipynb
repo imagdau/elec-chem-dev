{
 "cells": [
  {
   "cell_type": "markdown",
   "metadata": {},
   "source": [
    "# 29th March 2024"
   ]
  },
  {
   "cell_type": "code",
   "execution_count": 1,
   "metadata": {},
   "outputs": [
    {
     "name": "stderr",
     "output_type": "stream",
     "text": [
      "/opt/miniconda3/envs/elec-chem-dev/lib/python3.10/site-packages/tqdm/auto.py:21: TqdmWarning: IProgress not found. Please update jupyter and ipywidgets. See https://ipywidgets.readthedocs.io/en/stable/user_install.html\n",
      "  from .autonotebook import tqdm as notebook_tqdm\n"
     ]
    },
    {
     "name": "stdout",
     "output_type": "stream",
     "text": [
      "No module named 'phonopy'\n",
      "No module named 'phonopy'\n"
     ]
    }
   ],
   "source": [
    "import warnings\n",
    "from mp_api.client import MPRester\n",
    "warnings.filterwarnings(\"ignore\")\n",
    "\n",
    "API_KEY = 'Pxt9rQp9zOV8opCfP3PEsdGgXX6BcUTy'\n",
    "mpr = MPRester(API_KEY)"
   ]
  },
  {
   "cell_type": "code",
   "execution_count": 2,
   "metadata": {},
   "outputs": [
    {
     "name": "stderr",
     "output_type": "stream",
     "text": [
      "Retrieving SummaryDoc documents: 100%|██████████| 3/3 [00:00<00:00, 19753.39it/s]\n"
     ]
    }
   ],
   "source": [
    "docs = mpr.summary.search(material_ids=[\"mp-149\", \"mp-13\", \"mp-22526\"])"
   ]
  },
  {
   "cell_type": "code",
   "execution_count": 3,
   "metadata": {},
   "outputs": [],
   "source": [
    "example_doc = docs[0]\n",
    "\n",
    "mpid = example_doc.material_id\n",
    "formula = example_doc.formula_pretty"
   ]
  },
  {
   "cell_type": "code",
   "execution_count": 4,
   "metadata": {},
   "outputs": [
    {
     "name": "stdout",
     "output_type": "stream",
     "text": [
      "['builder_meta', 'nsites', 'elements', 'nelements', 'composition', 'composition_reduced', 'formula_pretty', 'formula_anonymous', 'chemsys', 'volume', 'density', 'density_atomic', 'symmetry', 'property_name', 'material_id', 'deprecated', 'deprecation_reasons', 'last_updated', 'origins', 'warnings', 'structure', 'task_ids', 'uncorrected_energy_per_atom', 'energy_per_atom', 'formation_energy_per_atom', 'energy_above_hull', 'is_stable', 'equilibrium_reaction_energy_per_atom', 'decomposes_to', 'xas', 'grain_boundaries', 'band_gap', 'cbm', 'vbm', 'efermi', 'is_gap_direct', 'is_metal', 'es_source_calc_id', 'bandstructure', 'dos', 'dos_energy_up', 'dos_energy_down', 'is_magnetic', 'ordering', 'total_magnetization', 'total_magnetization_normalized_vol', 'total_magnetization_normalized_formula_units', 'num_magnetic_sites', 'num_unique_magnetic_sites', 'types_of_magnetic_species', 'bulk_modulus', 'shear_modulus', 'universal_anisotropy', 'homogeneous_poisson', 'e_total', 'e_ionic', 'e_electronic', 'n', 'e_ij_max', 'weighted_surface_energy_EV_PER_ANG2', 'weighted_surface_energy', 'weighted_work_function', 'surface_anisotropy', 'shape_factor', 'has_reconstructed', 'possible_species', 'has_props', 'theoretical', 'database_IDs']\n"
     ]
    }
   ],
   "source": [
    "list_of_available_fields = mpr.summary.available_fields\n",
    "print(list_of_available_fields)"
   ]
  },
  {
   "cell_type": "code",
   "execution_count": 5,
   "metadata": {},
   "outputs": [
    {
     "data": {
      "text/plain": [
       "['builder_meta',\n",
       " 'nsites',\n",
       " 'elements',\n",
       " 'nelements',\n",
       " 'composition',\n",
       " 'composition_reduced',\n",
       " 'formula_pretty',\n",
       " 'formula_anonymous',\n",
       " 'chemsys',\n",
       " 'volume',\n",
       " 'density',\n",
       " 'density_atomic',\n",
       " 'symmetry',\n",
       " 'property_name',\n",
       " 'material_id',\n",
       " 'deprecated',\n",
       " 'deprecation_reasons',\n",
       " 'last_updated',\n",
       " 'origins',\n",
       " 'warnings',\n",
       " 'structure',\n",
       " 'task_ids',\n",
       " 'uncorrected_energy_per_atom',\n",
       " 'energy_per_atom',\n",
       " 'formation_energy_per_atom',\n",
       " 'energy_above_hull',\n",
       " 'is_stable',\n",
       " 'equilibrium_reaction_energy_per_atom',\n",
       " 'decomposes_to',\n",
       " 'xas',\n",
       " 'grain_boundaries',\n",
       " 'band_gap',\n",
       " 'cbm',\n",
       " 'vbm',\n",
       " 'efermi',\n",
       " 'is_gap_direct',\n",
       " 'is_metal',\n",
       " 'es_source_calc_id',\n",
       " 'bandstructure',\n",
       " 'dos',\n",
       " 'dos_energy_up',\n",
       " 'dos_energy_down',\n",
       " 'is_magnetic',\n",
       " 'ordering',\n",
       " 'total_magnetization',\n",
       " 'total_magnetization_normalized_vol',\n",
       " 'total_magnetization_normalized_formula_units',\n",
       " 'num_magnetic_sites',\n",
       " 'num_unique_magnetic_sites',\n",
       " 'types_of_magnetic_species',\n",
       " 'bulk_modulus',\n",
       " 'shear_modulus',\n",
       " 'universal_anisotropy',\n",
       " 'homogeneous_poisson',\n",
       " 'e_total',\n",
       " 'e_ionic',\n",
       " 'e_electronic',\n",
       " 'n',\n",
       " 'e_ij_max',\n",
       " 'weighted_surface_energy_EV_PER_ANG2',\n",
       " 'weighted_surface_energy',\n",
       " 'weighted_work_function',\n",
       " 'surface_anisotropy',\n",
       " 'shape_factor',\n",
       " 'has_reconstructed',\n",
       " 'possible_species',\n",
       " 'has_props',\n",
       " 'theoretical',\n",
       " 'database_IDs']"
      ]
     },
     "execution_count": 5,
     "metadata": {},
     "output_type": "execute_result"
    }
   ],
   "source": [
    "list_of_available_fields"
   ]
  },
  {
   "cell_type": "code",
   "execution_count": 6,
   "metadata": {},
   "outputs": [
    {
     "name": "stderr",
     "output_type": "stream",
     "text": [
      "Retrieving MoleculesDoc documents:   0%|          | 0/1813 [00:00<?, ?it/s]"
     ]
    }
   ],
   "source": [
    "docs = mpr.molecules.jcesr.search(elements=['H', 'C', 'O'], nelements=(3,3), charge=(0,0))"
   ]
  },
  {
   "cell_type": "code",
   "execution_count": null,
   "metadata": {},
   "outputs": [
    {
     "data": {
      "image/svg+xml": [
       "<svg xmlns=\"http://www.w3.org/2000/svg\" xmlns:xlink=\"http://www.w3.org/1999/xlink\" xmlns:cml=\"http://www.xml-cml.org/schema\" version=\"1.1\" id=\"topsvg\" x=\"0\" y=\"0\" width=\"200px\" height=\"200px\" viewBox=\"0 0 100 100\">\n",
       "<title>Multiple Molecules - Open Babel Depiction</title>\n",
       "<rect x=\"0\" y=\"0\" width=\"100\" height=\"100\" fill=\"Beige\"/>\n",
       "<text text-anchor=\"middle\" font-size=\"6\" fill=\"black\" font-family=\"sans-serif\" x=\"50\" y=\"98\"/>\n",
       "<g transform=\"translate(0,0)\">\n",
       "<svg width=\"100\" height=\"100\" x=\"0\" y=\"0\" viewBox=\"0 0 391.458 304.426\" font-family=\"sans-serif\" stroke=\"rgb(0,0,0)\" stroke-width=\"3.0\" stroke-linecap=\"round\">\n",
       "<line x1=\"181.8\" y1=\"220.4\" x2=\"181.8\" y2=\"247.4\" stroke=\"rgb(0,0,0)\" stroke-width=\"3.0\"/>\n",
       "<line x1=\"175.8\" y1=\"220.4\" x2=\"175.8\" y2=\"247.4\" stroke=\"rgb(0,0,0)\" stroke-width=\"3.0\"/>\n",
       "<polygon points=\"178.842351 100.055903 182.842860 140.166775 174.842860 140.166876 \" stroke-width=\"2.000000\" fill=\"rgb(0,0,0)\" stroke=\"rgb(0,0,0)\"/>\n",
       "<line x1=\"216.6\" y1=\"53.0\" x2=\"216.6\" y2=\"80.0\" stroke=\"rgb(0,0,0)\" stroke-width=\"3.0\"/>\n",
       "<line x1=\"210.6\" y1=\"53.0\" x2=\"210.6\" y2=\"80.0\" stroke=\"rgb(0,0,0)\" stroke-width=\"3.0\"/>\n",
       "<line x1=\"109.4\" y1=\"247.4\" x2=\"109.4\" y2=\"220.4\" stroke=\"rgb(0,0,0)\" stroke-width=\"3.0\"/>\n",
       "<line x1=\"283.0\" y1=\"200.3\" x2=\"311.4\" y2=\"228.7\" stroke=\"rgb(0,0,0)\" stroke-width=\"3.0\"/>\n",
       "<line x1=\"338.5\" y1=\"227.3\" x2=\"311.4\" y2=\"228.7\" stroke=\"rgb(0,0,0)\" stroke-width=\"3.0\"/>\n",
       "<line x1=\"144.1\" y1=\"80.0\" x2=\"144.1\" y2=\"53.0\" stroke=\"rgb(0,0,0)\" stroke-width=\"3.0\"/>\n",
       "<line x1=\"109.4\" y1=\"100.1\" x2=\"86.0\" y2=\"86.6\" stroke=\"rgb(0,0,0)\" stroke-width=\"3.0\"/>\n",
       "<line x1=\"277.8\" y1=\"90.9\" x2=\"282.1\" y2=\"62.8\" stroke=\"rgb(0,0,0)\" stroke-width=\"3.0\"/>\n",
       "<line x1=\"305.7\" y1=\"139.2\" x2=\"332.2\" y2=\"149.6\" stroke=\"rgb(0,0,0)\" stroke-width=\"3.0\"/>\n",
       "<line x1=\"311.4\" y1=\"228.7\" x2=\"299.1\" y2=\"252.8\" stroke=\"rgb(0,0,0)\" stroke-width=\"3.0\"/>\n",
       "<line x1=\"303.4\" y1=\"108.3\" x2=\"328.0\" y2=\"94.1\" stroke=\"rgb(0,0,0)\" stroke-width=\"3.0\"/>\n",
       "<line x1=\"74.6\" y1=\"200.3\" x2=\"51.3\" y2=\"213.8\" stroke=\"rgb(0,0,0)\" stroke-width=\"3.0\"/>\n",
       "<line x1=\"74.6\" y1=\"160.2\" x2=\"51.3\" y2=\"146.7\" stroke=\"rgb(0,0,0)\" stroke-width=\"3.0\"/>\n",
       "<line x1=\"213.6\" y1=\"160.2\" x2=\"213.6\" y2=\"200.3\" stroke=\"rgb(0,0,0)\" stroke-width=\"3.0\"/>\n",
       "<line x1=\"213.6\" y1=\"200.3\" x2=\"283.0\" y2=\"200.3\" stroke=\"rgb(0,0,0)\" stroke-width=\"3.0\"/>\n",
       "<line x1=\"219.6\" y1=\"193.1\" x2=\"277.0\" y2=\"193.1\" stroke=\"rgb(0,0,0)\" stroke-width=\"3.0\"/>\n",
       "<line x1=\"283.0\" y1=\"200.3\" x2=\"283.0\" y2=\"160.2\" stroke=\"rgb(0,0,0)\" stroke-width=\"3.0\"/>\n",
       "<line x1=\"283.0\" y1=\"160.2\" x2=\"248.3\" y2=\"140.2\" stroke=\"rgb(0,0,0)\" stroke-width=\"3.0\"/>\n",
       "<line x1=\"248.3\" y1=\"140.2\" x2=\"213.6\" y2=\"160.2\" stroke=\"rgb(0,0,0)\" stroke-width=\"3.0\"/>\n",
       "<line x1=\"178.8\" y1=\"220.4\" x2=\"213.6\" y2=\"200.3\" stroke=\"rgb(0,0,0)\" stroke-width=\"3.0\"/>\n",
       "<line x1=\"213.6\" y1=\"160.2\" x2=\"178.8\" y2=\"140.2\" stroke=\"rgb(0,0,0)\" stroke-width=\"3.0\"/>\n",
       "<line x1=\"204.8\" y1=\"163.4\" x2=\"180.4\" y2=\"149.4\" stroke=\"rgb(0,0,0)\" stroke-width=\"3.0\"/>\n",
       "<line x1=\"178.8\" y1=\"140.2\" x2=\"144.1\" y2=\"160.2\" stroke=\"rgb(0,0,0)\" stroke-width=\"3.0\"/>\n",
       "<line x1=\"144.1\" y1=\"160.2\" x2=\"144.1\" y2=\"200.3\" stroke=\"rgb(0,0,0)\" stroke-width=\"3.0\"/>\n",
       "<line x1=\"144.1\" y1=\"200.3\" x2=\"178.8\" y2=\"220.4\" stroke=\"rgb(0,0,0)\" stroke-width=\"3.0\"/>\n",
       "<line x1=\"213.6\" y1=\"80.0\" x2=\"178.8\" y2=\"100.1\" stroke=\"rgb(0,0,0)\" stroke-width=\"3.0\"/>\n",
       "<line x1=\"178.8\" y1=\"100.1\" x2=\"178.8\" y2=\"140.2\" stroke=\"rgb(0,0,0)\" stroke-width=\"3.0\"/>\n",
       "<line x1=\"248.3\" y1=\"140.2\" x2=\"248.3\" y2=\"100.0\" stroke=\"rgb(0,0,0)\" stroke-width=\"3.0\"/>\n",
       "<line x1=\"241.1\" y1=\"134.2\" x2=\"241.1\" y2=\"106.0\" stroke=\"rgb(0,0,0)\" stroke-width=\"3.0\"/>\n",
       "<line x1=\"248.3\" y1=\"100.0\" x2=\"213.6\" y2=\"80.0\" stroke=\"rgb(0,0,0)\" stroke-width=\"3.0\"/>\n",
       "<line x1=\"303.4\" y1=\"108.3\" x2=\"277.8\" y2=\"90.9\" stroke=\"rgb(0,0,0)\" stroke-width=\"3.0\"/>\n",
       "<line x1=\"294.4\" y1=\"110.9\" x2=\"278.7\" y2=\"100.3\" stroke=\"rgb(0,0,0)\" stroke-width=\"3.0\"/>\n",
       "<line x1=\"277.8\" y1=\"90.9\" x2=\"248.3\" y2=\"100.0\" stroke=\"rgb(0,0,0)\" stroke-width=\"3.0\"/>\n",
       "<line x1=\"283.0\" y1=\"160.2\" x2=\"305.7\" y2=\"139.2\" stroke=\"rgb(0,0,0)\" stroke-width=\"3.0\"/>\n",
       "<line x1=\"282.5\" y1=\"150.9\" x2=\"296.4\" y2=\"138.0\" stroke=\"rgb(0,0,0)\" stroke-width=\"3.0\"/>\n",
       "<line x1=\"305.7\" y1=\"139.2\" x2=\"303.4\" y2=\"108.3\" stroke=\"rgb(0,0,0)\" stroke-width=\"3.0\"/>\n",
       "<line x1=\"109.4\" y1=\"100.1\" x2=\"109.4\" y2=\"140.2\" stroke=\"rgb(0,0,0)\" stroke-width=\"3.0\"/>\n",
       "<line x1=\"109.4\" y1=\"140.2\" x2=\"144.1\" y2=\"160.2\" stroke=\"rgb(0,0,0)\" stroke-width=\"3.0\"/>\n",
       "<line x1=\"118.2\" y1=\"136.9\" x2=\"142.5\" y2=\"151.0\" stroke=\"rgb(0,0,0)\" stroke-width=\"3.0\"/>\n",
       "<line x1=\"178.8\" y1=\"100.1\" x2=\"144.1\" y2=\"80.0\" stroke=\"rgb(0,0,0)\" stroke-width=\"3.0\"/>\n",
       "<line x1=\"144.1\" y1=\"80.0\" x2=\"109.4\" y2=\"100.1\" stroke=\"rgb(0,0,0)\" stroke-width=\"3.0\"/>\n",
       "<line x1=\"142.5\" y1=\"89.2\" x2=\"118.2\" y2=\"103.3\" stroke=\"rgb(0,0,0)\" stroke-width=\"3.0\"/>\n",
       "<line x1=\"144.1\" y1=\"200.3\" x2=\"109.4\" y2=\"220.4\" stroke=\"rgb(0,0,0)\" stroke-width=\"3.0\"/>\n",
       "<line x1=\"135.3\" y1=\"197.1\" x2=\"111.0\" y2=\"211.1\" stroke=\"rgb(0,0,0)\" stroke-width=\"3.0\"/>\n",
       "<line x1=\"109.4\" y1=\"220.4\" x2=\"74.6\" y2=\"200.3\" stroke=\"rgb(0,0,0)\" stroke-width=\"3.0\"/>\n",
       "<line x1=\"74.6\" y1=\"200.3\" x2=\"74.6\" y2=\"160.2\" stroke=\"rgb(0,0,0)\" stroke-width=\"3.0\"/>\n",
       "<line x1=\"81.8\" y1=\"194.3\" x2=\"81.8\" y2=\"166.2\" stroke=\"rgb(0,0,0)\" stroke-width=\"3.0\"/>\n",
       "<line x1=\"74.6\" y1=\"160.2\" x2=\"109.4\" y2=\"140.2\" stroke=\"rgb(0,0,0)\" stroke-width=\"3.0\"/>\n",
       "<text x=\"183.642351\" y=\"96.023903\" fill=\"rgb(102,102,102)\" stroke=\"rgb(102,102,102)\" stroke-width=\"1\" font-size=\"16\"/>\n",
       "<text x=\"183.642351\" y=\"96.023903\" fill=\"rgb(102,102,102)\" stroke=\"rgb(102,102,102)\" stroke-width=\"1\" font-size=\"32\">.</text>\n",
       "<text x=\"316.201724\" y=\"224.655211\" fill=\"rgb(102,102,102)\" stroke=\"rgb(102,102,102)\" stroke-width=\"1\" font-size=\"16\"/>\n",
       "<text x=\"316.201724\" y=\"224.655211\" fill=\"rgb(102,102,102)\" stroke=\"rgb(102,102,102)\" stroke-width=\"1\" font-size=\"32\">.</text>\n",
       "<text x=\"172.831283\" y=\"268.350875\" fill=\"rgb(255,12,12)\" stroke=\"rgb(255,12,12)\" stroke-width=\"1\" font-size=\"16\">O</text>\n",
       "<text x=\"207.584939\" y=\"48.011282\" fill=\"rgb(255,12,12)\" stroke=\"rgb(255,12,12)\" stroke-width=\"1\" font-size=\"16\">O</text>\n",
       "<text x=\"287.191746\" y=\"272.426305\" fill=\"DimGray\" stroke=\"DimGray\" stroke-width=\"1\" font-size=\"16\">H</text>\n",
       "<text x=\"138.104762\" y=\"48.000000\" fill=\"DimGray\" stroke=\"DimGray\" stroke-width=\"1\" font-size=\"16\">H</text>\n",
       "<text x=\"278.021659\" y=\"57.954682\" fill=\"DimGray\" stroke=\"DimGray\" stroke-width=\"1\" font-size=\"16\">H</text>\n",
       "<text x=\"345.457676\" y=\"234.587968\" fill=\"DimGray\" stroke=\"DimGray\" stroke-width=\"1\" font-size=\"16\">H</text>\n",
       "<text x=\"338.280120\" y=\"162.322337\" fill=\"DimGray\" stroke=\"DimGray\" stroke-width=\"1\" font-size=\"16\">H</text>\n",
       "<text x=\"103.373477\" y=\"268.360021\" fill=\"DimGray\" stroke=\"DimGray\" stroke-width=\"1\" font-size=\"16\">H</text>\n",
       "<text x=\"68.726159\" y=\"88.055020\" fill=\"DimGray\" stroke=\"DimGray\" stroke-width=\"1\" font-size=\"16\">H</text>\n",
       "<text x=\"34.001865\" y=\"148.199262\" fill=\"DimGray\" stroke=\"DimGray\" stroke-width=\"1\" font-size=\"16\">H</text>\n",
       "<text x=\"333.281296\" y=\"95.629037\" fill=\"DimGray\" stroke=\"DimGray\" stroke-width=\"1\" font-size=\"16\">H</text>\n",
       "<text x=\"34.000000\" y=\"228.314737\" fill=\"DimGray\" stroke=\"DimGray\" stroke-width=\"1\" font-size=\"16\">H</text>\n",
       "</svg>\n",
       "</g>\n",
       "</svg>"
      ],
      "text/plain": [
       "<IPython.core.display.SVG object>"
      ]
     },
     "metadata": {},
     "output_type": "display_data"
    },
    {
     "name": "stdout",
     "output_type": "stream",
     "text": [
      "H5C11O:mol-45827\n"
     ]
    },
    {
     "data": {
      "image/svg+xml": [
       "<svg xmlns=\"http://www.w3.org/2000/svg\" xmlns:xlink=\"http://www.w3.org/1999/xlink\" xmlns:cml=\"http://www.xml-cml.org/schema\" version=\"1.1\" id=\"topsvg\" x=\"0\" y=\"0\" width=\"200px\" height=\"200px\" viewBox=\"0 0 100 100\">\n",
       "<title>Multiple Molecules - Open Babel Depiction</title>\n",
       "<rect x=\"0\" y=\"0\" width=\"100\" height=\"100\" fill=\"Beige\"/>\n",
       "<text text-anchor=\"middle\" font-size=\"6\" fill=\"black\" font-family=\"sans-serif\" x=\"50\" y=\"98\"/>\n",
       "<g transform=\"translate(0,0)\">\n",
       "<svg width=\"100\" height=\"100\" x=\"0\" y=\"0\" viewBox=\"0 0 357.128 300\" font-family=\"sans-serif\" stroke=\"rgb(0,0,0)\" stroke-width=\"3.0\" stroke-linecap=\"round\">\n",
       "<line x1=\"153.7\" y1=\"210.9\" x2=\"177.1\" y2=\"197.4\" stroke=\"rgb(0,0,0)\" stroke-width=\"3.0\"/>\n",
       "<line x1=\"156.7\" y1=\"216.1\" x2=\"180.1\" y2=\"202.6\" stroke=\"rgb(0,0,0)\" stroke-width=\"3.0\"/>\n",
       "<line x1=\"109.3\" y1=\"187.0\" x2=\"109.3\" y2=\"160.0\" stroke=\"rgb(0,0,0)\" stroke-width=\"3.0\"/>\n",
       "<line x1=\"247.8\" y1=\"187.0\" x2=\"247.8\" y2=\"160.0\" stroke=\"rgb(0,0,0)\" stroke-width=\"3.0\"/>\n",
       "<line x1=\"51.3\" y1=\"153.5\" x2=\"74.6\" y2=\"140.0\" stroke=\"rgb(0,0,0)\" stroke-width=\"3.0\"/>\n",
       "<line x1=\"178.6\" y1=\"200.0\" x2=\"178.6\" y2=\"160.0\" stroke=\"rgb(0,0,0)\" stroke-width=\"3.0\"/>\n",
       "<line x1=\"178.6\" y1=\"200.0\" x2=\"213.2\" y2=\"220.0\" stroke=\"rgb(0,0,0)\" stroke-width=\"3.0\"/>\n",
       "<line x1=\"305.9\" y1=\"153.5\" x2=\"282.5\" y2=\"140.0\" stroke=\"rgb(0,0,0)\" stroke-width=\"3.0\"/>\n",
       "<line x1=\"74.6\" y1=\"100.0\" x2=\"51.3\" y2=\"86.5\" stroke=\"rgb(0,0,0)\" stroke-width=\"3.0\"/>\n",
       "<line x1=\"109.3\" y1=\"80.0\" x2=\"109.3\" y2=\"53.0\" stroke=\"rgb(0,0,0)\" stroke-width=\"3.0\"/>\n",
       "<line x1=\"282.5\" y1=\"100.0\" x2=\"305.9\" y2=\"86.5\" stroke=\"rgb(0,0,0)\" stroke-width=\"3.0\"/>\n",
       "<line x1=\"178.6\" y1=\"80.0\" x2=\"178.6\" y2=\"53.0\" stroke=\"rgb(0,0,0)\" stroke-width=\"3.0\"/>\n",
       "<line x1=\"247.8\" y1=\"80.0\" x2=\"247.8\" y2=\"53.0\" stroke=\"rgb(0,0,0)\" stroke-width=\"3.0\"/>\n",
       "<line x1=\"240.2\" y1=\"220.0\" x2=\"213.2\" y2=\"220.0\" stroke=\"rgb(0,0,0)\" stroke-width=\"3.0\"/>\n",
       "<line x1=\"213.2\" y1=\"220.0\" x2=\"226.7\" y2=\"196.6\" stroke=\"rgb(0,0,0)\" stroke-width=\"3.0\"/>\n",
       "<line x1=\"213.2\" y1=\"220.0\" x2=\"213.2\" y2=\"247.0\" stroke=\"rgb(0,0,0)\" stroke-width=\"3.0\"/>\n",
       "<line x1=\"143.9\" y1=\"140.0\" x2=\"178.6\" y2=\"160.0\" stroke=\"rgb(0,0,0)\" stroke-width=\"3.0\"/>\n",
       "<line x1=\"152.7\" y1=\"136.8\" x2=\"177.0\" y2=\"150.8\" stroke=\"rgb(0,0,0)\" stroke-width=\"3.0\"/>\n",
       "<line x1=\"178.6\" y1=\"160.0\" x2=\"213.2\" y2=\"140.0\" stroke=\"rgb(0,0,0)\" stroke-width=\"3.0\"/>\n",
       "<line x1=\"213.2\" y1=\"140.0\" x2=\"213.2\" y2=\"100.0\" stroke=\"rgb(0,0,0)\" stroke-width=\"3.0\"/>\n",
       "<line x1=\"213.2\" y1=\"100.0\" x2=\"178.6\" y2=\"80.0\" stroke=\"rgb(0,0,0)\" stroke-width=\"3.0\"/>\n",
       "<line x1=\"178.6\" y1=\"80.0\" x2=\"143.9\" y2=\"100.0\" stroke=\"rgb(0,0,0)\" stroke-width=\"3.0\"/>\n",
       "<line x1=\"177.0\" y1=\"89.2\" x2=\"152.7\" y2=\"103.2\" stroke=\"rgb(0,0,0)\" stroke-width=\"3.0\"/>\n",
       "<line x1=\"143.9\" y1=\"100.0\" x2=\"143.9\" y2=\"140.0\" stroke=\"rgb(0,0,0)\" stroke-width=\"3.0\"/>\n",
       "<line x1=\"247.8\" y1=\"160.0\" x2=\"282.5\" y2=\"140.0\" stroke=\"rgb(0,0,0)\" stroke-width=\"3.0\"/>\n",
       "<line x1=\"282.5\" y1=\"140.0\" x2=\"282.5\" y2=\"100.0\" stroke=\"rgb(0,0,0)\" stroke-width=\"3.0\"/>\n",
       "<line x1=\"275.3\" y1=\"134.0\" x2=\"275.3\" y2=\"106.0\" stroke=\"rgb(0,0,0)\" stroke-width=\"3.0\"/>\n",
       "<line x1=\"282.5\" y1=\"100.0\" x2=\"247.8\" y2=\"80.0\" stroke=\"rgb(0,0,0)\" stroke-width=\"3.0\"/>\n",
       "<line x1=\"247.8\" y1=\"80.0\" x2=\"213.2\" y2=\"100.0\" stroke=\"rgb(0,0,0)\" stroke-width=\"3.0\"/>\n",
       "<line x1=\"246.2\" y1=\"89.2\" x2=\"222.0\" y2=\"103.2\" stroke=\"rgb(0,0,0)\" stroke-width=\"3.0\"/>\n",
       "<line x1=\"213.2\" y1=\"140.0\" x2=\"247.8\" y2=\"160.0\" stroke=\"rgb(0,0,0)\" stroke-width=\"3.0\"/>\n",
       "<line x1=\"222.0\" y1=\"136.8\" x2=\"246.2\" y2=\"150.8\" stroke=\"rgb(0,0,0)\" stroke-width=\"3.0\"/>\n",
       "<line x1=\"109.3\" y1=\"160.0\" x2=\"143.9\" y2=\"140.0\" stroke=\"rgb(0,0,0)\" stroke-width=\"3.0\"/>\n",
       "<line x1=\"143.9\" y1=\"100.0\" x2=\"109.3\" y2=\"80.0\" stroke=\"rgb(0,0,0)\" stroke-width=\"3.0\"/>\n",
       "<line x1=\"109.3\" y1=\"80.0\" x2=\"74.6\" y2=\"100.0\" stroke=\"rgb(0,0,0)\" stroke-width=\"3.0\"/>\n",
       "<line x1=\"107.7\" y1=\"89.2\" x2=\"83.4\" y2=\"103.2\" stroke=\"rgb(0,0,0)\" stroke-width=\"3.0\"/>\n",
       "<line x1=\"74.6\" y1=\"100.0\" x2=\"74.6\" y2=\"140.0\" stroke=\"rgb(0,0,0)\" stroke-width=\"3.0\"/>\n",
       "<line x1=\"74.6\" y1=\"140.0\" x2=\"109.3\" y2=\"160.0\" stroke=\"rgb(0,0,0)\" stroke-width=\"3.0\"/>\n",
       "<line x1=\"83.4\" y1=\"136.8\" x2=\"107.7\" y2=\"150.8\" stroke=\"rgb(0,0,0)\" stroke-width=\"3.0\"/>\n",
       "<text x=\"137.923048\" y=\"228.000000\" fill=\"rgb(255,12,12)\" stroke=\"rgb(255,12,12)\" stroke-width=\"1\" font-size=\"16\">O</text>\n",
       "<text x=\"241.846097\" y=\"208.000000\" fill=\"DimGray\" stroke=\"DimGray\" stroke-width=\"1\" font-size=\"16\">H</text>\n",
       "<text x=\"103.282032\" y=\"208.000000\" fill=\"DimGray\" stroke=\"DimGray\" stroke-width=\"1\" font-size=\"16\">H</text>\n",
       "<text x=\"227.205081\" y=\"193.358984\" fill=\"DimGray\" stroke=\"DimGray\" stroke-width=\"1\" font-size=\"16\">H</text>\n",
       "<text x=\"247.205081\" y=\"228.000000\" fill=\"DimGray\" stroke=\"DimGray\" stroke-width=\"1\" font-size=\"16\">H</text>\n",
       "<text x=\"207.205081\" y=\"268.000000\" fill=\"DimGray\" stroke=\"DimGray\" stroke-width=\"1\" font-size=\"16\">H</text>\n",
       "<text x=\"172.564065\" y=\"48.000000\" fill=\"DimGray\" stroke=\"DimGray\" stroke-width=\"1\" font-size=\"16\">H</text>\n",
       "<text x=\"241.846097\" y=\"48.000000\" fill=\"DimGray\" stroke=\"DimGray\" stroke-width=\"1\" font-size=\"16\">H</text>\n",
       "<text x=\"311.128129\" y=\"168.000000\" fill=\"DimGray\" stroke=\"DimGray\" stroke-width=\"1\" font-size=\"16\">H</text>\n",
       "<text x=\"103.282032\" y=\"48.000000\" fill=\"DimGray\" stroke=\"DimGray\" stroke-width=\"1\" font-size=\"16\">H</text>\n",
       "<text x=\"34.000000\" y=\"168.000000\" fill=\"DimGray\" stroke=\"DimGray\" stroke-width=\"1\" font-size=\"16\">H</text>\n",
       "<text x=\"311.128129\" y=\"88.000000\" fill=\"DimGray\" stroke=\"DimGray\" stroke-width=\"1\" font-size=\"16\">H</text>\n",
       "<text x=\"34.000000\" y=\"88.000000\" fill=\"DimGray\" stroke=\"DimGray\" stroke-width=\"1\" font-size=\"16\">H</text>\n",
       "</svg>\n",
       "</g>\n",
       "</svg>"
      ],
      "text/plain": [
       "<IPython.core.display.SVG object>"
      ]
     },
     "metadata": {},
     "output_type": "display_data"
    },
    {
     "name": "stdout",
     "output_type": "stream",
     "text": [
      "H12C16O:mol-54787\n"
     ]
    },
    {
     "data": {
      "image/svg+xml": [
       "<svg xmlns=\"http://www.w3.org/2000/svg\" xmlns:xlink=\"http://www.w3.org/1999/xlink\" xmlns:cml=\"http://www.xml-cml.org/schema\" version=\"1.1\" id=\"topsvg\" x=\"0\" y=\"0\" width=\"200px\" height=\"200px\" viewBox=\"0 0 100 100\">\n",
       "<title>Multiple Molecules - Open Babel Depiction</title>\n",
       "<rect x=\"0\" y=\"0\" width=\"100\" height=\"100\" fill=\"Beige\"/>\n",
       "<text text-anchor=\"middle\" font-size=\"6\" fill=\"black\" font-family=\"sans-serif\" x=\"50\" y=\"98\"/>\n",
       "<g transform=\"translate(0,0)\">\n",
       "<svg width=\"100\" height=\"100\" x=\"0\" y=\"0\" viewBox=\"0 0 249.078 344.54\" font-family=\"sans-serif\" stroke=\"rgb(0,0,0)\" stroke-width=\"3.0\" stroke-linecap=\"round\">\n",
       "<line x1=\"196.1\" y1=\"213.7\" x2=\"168.9\" y2=\"210.9\" stroke=\"rgb(0,0,0)\" stroke-width=\"3.0\"/>\n",
       "<line x1=\"145.7\" y1=\"291.6\" x2=\"148.5\" y2=\"264.3\" stroke=\"rgb(0,0,0)\" stroke-width=\"3.0\"/>\n",
       "<line x1=\"154.2\" y1=\"56.7\" x2=\"132.0\" y2=\"72.8\" stroke=\"rgb(0,0,0)\" stroke-width=\"3.0\"/>\n",
       "<line x1=\"157.0\" y1=\"84.0\" x2=\"132.0\" y2=\"72.8\" stroke=\"rgb(0,0,0)\" stroke-width=\"3.0\"/>\n",
       "<polygon points=\"115.443513 109.657236 128.307796 71.120244 135.609893 74.388175 \" stroke-width=\"2.000000\" fill=\"rgb(0,0,0)\" stroke=\"rgb(0,0,0)\"/>\n",
       "<line x1=\"132.0\" y1=\"72.8\" x2=\"115.9\" y2=\"50.5\" stroke=\"rgb(0,0,0)\" stroke-width=\"3.0\"/>\n",
       "<line x1=\"168.9\" y1=\"210.9\" x2=\"180.1\" y2=\"235.9\" stroke=\"rgb(0,0,0)\" stroke-width=\"3.0\"/>\n",
       "<line x1=\"168.9\" y1=\"210.9\" x2=\"171.7\" y2=\"183.6\" stroke=\"rgb(0,0,0)\" stroke-width=\"3.0\"/>\n",
       "<line x1=\"168.9\" y1=\"210.9\" x2=\"132.0\" y2=\"227.4\" stroke=\"rgb(0,0,0)\" stroke-width=\"3.0\"/>\n",
       "<line x1=\"148.5\" y1=\"264.3\" x2=\"123.4\" y2=\"275.5\" stroke=\"rgb(0,0,0)\" stroke-width=\"3.0\"/>\n",
       "<line x1=\"148.5\" y1=\"264.3\" x2=\"175.8\" y2=\"267.1\" stroke=\"rgb(0,0,0)\" stroke-width=\"3.0\"/>\n",
       "<line x1=\"148.5\" y1=\"264.3\" x2=\"132.0\" y2=\"227.4\" stroke=\"rgb(0,0,0)\" stroke-width=\"3.0\"/>\n",
       "<line x1=\"71.9\" y1=\"190.7\" x2=\"87.3\" y2=\"168.1\" stroke=\"rgb(0,0,0)\" stroke-width=\"3.0\"/>\n",
       "<line x1=\"66.7\" y1=\"106.1\" x2=\"80.4\" y2=\"129.9\" stroke=\"rgb(0,0,0)\" stroke-width=\"3.0\"/>\n",
       "<polygon points=\"115.443513 190.517349 135.609893 225.786409 128.307796 229.054341 \" stroke-width=\"2.000000\" fill=\"rgb(0,0,0)\" stroke=\"rgb(0,0,0)\"/>\n",
       "<line x1=\"60.0\" y1=\"134.1\" x2=\"87.3\" y2=\"132.1\" stroke=\"rgb(0,0,0)\" stroke-width=\"3.0\"/>\n",
       "<line x1=\"132.0\" y1=\"227.4\" x2=\"106.9\" y2=\"238.6\" stroke=\"rgb(0,0,0)\" stroke-width=\"3.0\"/>\n",
       "<line x1=\"87.3\" y1=\"168.1\" x2=\"60.0\" y2=\"166.0\" stroke=\"rgb(0,0,0)\" stroke-width=\"3.0\"/>\n",
       "<line x1=\"80.4\" y1=\"129.9\" x2=\"53.0\" y2=\"129.9\" stroke=\"rgb(0,0,0)\" stroke-width=\"3.0\"/>\n",
       "<line x1=\"87.3\" y1=\"132.1\" x2=\"71.9\" y2=\"109.4\" stroke=\"rgb(0,0,0)\" stroke-width=\"3.0\"/>\n",
       "<line x1=\"53.0\" y1=\"170.3\" x2=\"80.4\" y2=\"170.3\" stroke=\"rgb(0,0,0)\" stroke-width=\"3.0\"/>\n",
       "<line x1=\"80.4\" y1=\"170.3\" x2=\"66.7\" y2=\"194.1\" stroke=\"rgb(0,0,0)\" stroke-width=\"3.0\"/>\n",
       "<line x1=\"139.2\" y1=\"176.8\" x2=\"115.4\" y2=\"190.5\" stroke=\"rgb(0,0,0)\" stroke-width=\"3.0\"/>\n",
       "<line x1=\"115.4\" y1=\"190.5\" x2=\"87.3\" y2=\"168.1\" stroke=\"rgb(0,0,0)\" stroke-width=\"3.0\"/>\n",
       "<line x1=\"87.3\" y1=\"168.1\" x2=\"87.3\" y2=\"132.1\" stroke=\"rgb(0,0,0)\" stroke-width=\"3.0\"/>\n",
       "<line x1=\"87.3\" y1=\"132.1\" x2=\"115.4\" y2=\"109.7\" stroke=\"rgb(0,0,0)\" stroke-width=\"3.0\"/>\n",
       "<line x1=\"115.4\" y1=\"109.7\" x2=\"139.2\" y2=\"123.4\" stroke=\"rgb(0,0,0)\" stroke-width=\"3.0\"/>\n",
       "<line x1=\"150.5\" y1=\"142.9\" x2=\"150.5\" y2=\"157.3\" stroke=\"rgb(0,0,0)\" stroke-width=\"3.0\"/>\n",
       "<line x1=\"80.4\" y1=\"170.3\" x2=\"115.4\" y2=\"190.5\" stroke=\"rgb(0,0,0)\" stroke-width=\"3.0\"/>\n",
       "<line x1=\"115.4\" y1=\"109.7\" x2=\"80.4\" y2=\"129.9\" stroke=\"rgb(0,0,0)\" stroke-width=\"3.0\"/>\n",
       "<line x1=\"80.4\" y1=\"129.9\" x2=\"80.4\" y2=\"170.3\" stroke=\"rgb(0,0,0)\" stroke-width=\"3.0\"/>\n",
       "<text x=\"144.456969\" y=\"178.302321\" fill=\"rgb(255,12,12)\" stroke=\"rgb(255,12,12)\" stroke-width=\"1\" font-size=\"16\">O</text>\n",
       "<text x=\"144.456969\" y=\"137.872264\" fill=\"rgb(255,12,12)\" stroke=\"rgb(255,12,12)\" stroke-width=\"1\" font-size=\"16\">O</text>\n",
       "<text x=\"89.055819\" y=\"251.935707\" fill=\"DimGray\" stroke=\"DimGray\" stroke-width=\"1\" font-size=\"16\">H</text>\n",
       "<text x=\"58.533357\" y=\"209.485241\" fill=\"DimGray\" stroke=\"DimGray\" stroke-width=\"1\" font-size=\"16\">H</text>\n",
       "<text x=\"40.991413\" y=\"173.059018\" fill=\"DimGray\" stroke=\"DimGray\" stroke-width=\"1\" font-size=\"16\">H</text>\n",
       "<text x=\"54.215028\" y=\"213.315777\" fill=\"DimGray\" stroke=\"DimGray\" stroke-width=\"1\" font-size=\"16\">H</text>\n",
       "<text x=\"34.000000\" y=\"178.302321\" fill=\"DimGray\" stroke=\"DimGray\" stroke-width=\"1\" font-size=\"16\">H</text>\n",
       "<text x=\"203.078494\" y=\"223.053860\" fill=\"DimGray\" stroke=\"DimGray\" stroke-width=\"1\" font-size=\"16\">H</text>\n",
       "<text x=\"167.010687\" y=\"178.688420\" fill=\"DimGray\" stroke=\"DimGray\" stroke-width=\"1\" font-size=\"16\">H</text>\n",
       "<text x=\"179.377202\" y=\"255.808069\" fill=\"DimGray\" stroke=\"DimGray\" stroke-width=\"1\" font-size=\"16\">H</text>\n",
       "<text x=\"138.325360\" y=\"312.540025\" fill=\"DimGray\" stroke=\"DimGray\" stroke-width=\"1\" font-size=\"16\">H</text>\n",
       "<text x=\"105.571150\" y=\"288.838733\" fill=\"DimGray\" stroke=\"DimGray\" stroke-width=\"1\" font-size=\"16\">H</text>\n",
       "<text x=\"182.690800\" y=\"276.472217\" fill=\"DimGray\" stroke=\"DimGray\" stroke-width=\"1\" font-size=\"16\">H</text>\n",
       "<text x=\"40.991413\" y=\"143.115566\" fill=\"DimGray\" stroke=\"DimGray\" stroke-width=\"1\" font-size=\"16\">H</text>\n",
       "<text x=\"58.533357\" y=\"106.689344\" fill=\"DimGray\" stroke=\"DimGray\" stroke-width=\"1\" font-size=\"16\">H</text>\n",
       "<text x=\"34.000000\" y=\"137.872264\" fill=\"DimGray\" stroke=\"DimGray\" stroke-width=\"1\" font-size=\"16\">H</text>\n",
       "<text x=\"54.215028\" y=\"102.858808\" fill=\"DimGray\" stroke=\"DimGray\" stroke-width=\"1\" font-size=\"16\">H</text>\n",
       "<text x=\"158.713054\" y=\"57.052918\" fill=\"DimGray\" stroke=\"DimGray\" stroke-width=\"1\" font-size=\"16\">H</text>\n",
       "<text x=\"102.257553\" y=\"48.000000\" fill=\"DimGray\" stroke=\"DimGray\" stroke-width=\"1\" font-size=\"16\">H</text>\n",
       "<text x=\"162.861871\" y=\"97.269541\" fill=\"DimGray\" stroke=\"DimGray\" stroke-width=\"1\" font-size=\"16\">H</text>\n",
       "</svg>\n",
       "</g>\n",
       "</svg>"
      ],
      "text/plain": [
       "<IPython.core.display.SVG object>"
      ]
     },
     "metadata": {},
     "output_type": "display_data"
    },
    {
     "name": "stdout",
     "output_type": "stream",
     "text": [
      "H9C5O:mol-45191\n"
     ]
    }
   ],
   "source": [
    "from IPython.display import SVG\n",
    "for doc in docs[:3]:\n",
    "    formula = doc.formula_pretty\n",
    "    mpid = doc.task_id\n",
    "    pic = doc.svg\n",
    "    display(SVG(doc.svg))\n",
    "    print(formula+':'+mpid)"
   ]
  },
  {
   "cell_type": "code",
   "execution_count": null,
   "metadata": {},
   "outputs": [
    {
     "ename": "AttributeError",
     "evalue": "'dict' object has no attribute 'read'",
     "output_type": "error",
     "traceback": [
      "\u001b[0;31m---------------------------------------------------------------------------\u001b[0m",
      "\u001b[0;31mAttributeError\u001b[0m                            Traceback (most recent call last)",
      "Cell \u001b[0;32mIn[22], line 2\u001b[0m\n\u001b[1;32m      1\u001b[0m \u001b[38;5;28;01mfrom\u001b[39;00m \u001b[38;5;21;01mase\u001b[39;00m\u001b[38;5;21;01m.\u001b[39;00m\u001b[38;5;21;01mnomad\u001b[39;00m \u001b[38;5;28;01mimport\u001b[39;00m read \u001b[38;5;28;01mas\u001b[39;00m _read_nomad_json\n\u001b[0;32m----> 2\u001b[0m \u001b[43mread\u001b[49m\u001b[43m(\u001b[49m\u001b[43mdoc\u001b[49m\u001b[38;5;241;43m.\u001b[39;49m\u001b[43mmodel_json_schema\u001b[49m\u001b[43m(\u001b[49m\u001b[43m)\u001b[49m\u001b[43m)\u001b[49m\n",
      "File \u001b[0;32m/opt/miniconda3/envs/elec-chem-dev/lib/python3.10/site-packages/ase/nomad.py:42\u001b[0m, in \u001b[0;36mread\u001b[0;34m(fd, _includekeys)\u001b[0m\n\u001b[1;32m     39\u001b[0m     d \u001b[38;5;241m=\u001b[39m {k: dct[k] \u001b[38;5;28;01mfor\u001b[39;00m k \u001b[38;5;129;01min\u001b[39;00m dct \u001b[38;5;28;01mif\u001b[39;00m _includekeys(k)}\n\u001b[1;32m     40\u001b[0m     \u001b[38;5;28;01mreturn\u001b[39;00m NomadEntry(d)\n\u001b[0;32m---> 42\u001b[0m dct \u001b[38;5;241m=\u001b[39m \u001b[43mjson\u001b[49m\u001b[38;5;241;43m.\u001b[39;49m\u001b[43mload\u001b[49m\u001b[43m(\u001b[49m\u001b[43mfd\u001b[49m\u001b[43m,\u001b[49m\u001b[43m \u001b[49m\u001b[43mobject_hook\u001b[49m\u001b[38;5;241;43m=\u001b[39;49m\u001b[43mhook\u001b[49m\u001b[43m)\u001b[49m\n\u001b[1;32m     43\u001b[0m \u001b[38;5;28;01mreturn\u001b[39;00m dct\n",
      "File \u001b[0;32m/opt/miniconda3/envs/elec-chem-dev/lib/python3.10/json/__init__.py:293\u001b[0m, in \u001b[0;36mload\u001b[0;34m(fp, cls, object_hook, parse_float, parse_int, parse_constant, object_pairs_hook, **kw)\u001b[0m\n\u001b[1;32m    274\u001b[0m \u001b[38;5;28;01mdef\u001b[39;00m \u001b[38;5;21mload\u001b[39m(fp, \u001b[38;5;241m*\u001b[39m, \u001b[38;5;28mcls\u001b[39m\u001b[38;5;241m=\u001b[39m\u001b[38;5;28;01mNone\u001b[39;00m, object_hook\u001b[38;5;241m=\u001b[39m\u001b[38;5;28;01mNone\u001b[39;00m, parse_float\u001b[38;5;241m=\u001b[39m\u001b[38;5;28;01mNone\u001b[39;00m,\n\u001b[1;32m    275\u001b[0m         parse_int\u001b[38;5;241m=\u001b[39m\u001b[38;5;28;01mNone\u001b[39;00m, parse_constant\u001b[38;5;241m=\u001b[39m\u001b[38;5;28;01mNone\u001b[39;00m, object_pairs_hook\u001b[38;5;241m=\u001b[39m\u001b[38;5;28;01mNone\u001b[39;00m, \u001b[38;5;241m*\u001b[39m\u001b[38;5;241m*\u001b[39mkw):\n\u001b[1;32m    276\u001b[0m \u001b[38;5;250m    \u001b[39m\u001b[38;5;124;03m\"\"\"Deserialize ``fp`` (a ``.read()``-supporting file-like object containing\u001b[39;00m\n\u001b[1;32m    277\u001b[0m \u001b[38;5;124;03m    a JSON document) to a Python object.\u001b[39;00m\n\u001b[1;32m    278\u001b[0m \n\u001b[0;32m   (...)\u001b[0m\n\u001b[1;32m    291\u001b[0m \u001b[38;5;124;03m    kwarg; otherwise ``JSONDecoder`` is used.\u001b[39;00m\n\u001b[1;32m    292\u001b[0m \u001b[38;5;124;03m    \"\"\"\u001b[39;00m\n\u001b[0;32m--> 293\u001b[0m     \u001b[38;5;28;01mreturn\u001b[39;00m loads(\u001b[43mfp\u001b[49m\u001b[38;5;241;43m.\u001b[39;49m\u001b[43mread\u001b[49m(),\n\u001b[1;32m    294\u001b[0m         \u001b[38;5;28mcls\u001b[39m\u001b[38;5;241m=\u001b[39m\u001b[38;5;28mcls\u001b[39m, object_hook\u001b[38;5;241m=\u001b[39mobject_hook,\n\u001b[1;32m    295\u001b[0m         parse_float\u001b[38;5;241m=\u001b[39mparse_float, parse_int\u001b[38;5;241m=\u001b[39mparse_int,\n\u001b[1;32m    296\u001b[0m         parse_constant\u001b[38;5;241m=\u001b[39mparse_constant, object_pairs_hook\u001b[38;5;241m=\u001b[39mobject_pairs_hook, \u001b[38;5;241m*\u001b[39m\u001b[38;5;241m*\u001b[39mkw)\n",
      "\u001b[0;31mAttributeError\u001b[0m: 'dict' object has no attribute 'read'"
     ]
    }
   ],
   "source": [
    "from ase.nomad import read as _read_nomad_json\n",
    "read(doc.model_json_schema())"
   ]
  },
  {
   "cell_type": "code",
   "execution_count": null,
   "metadata": {},
   "outputs": [],
   "source": [
    "from pymatgen.io.ase import AseAtomsAdaptor as aa"
   ]
  },
  {
   "cell_type": "code",
   "execution_count": null,
   "metadata": {},
   "outputs": [
    {
     "ename": "KeyError",
     "evalue": "'H9C5O'",
     "output_type": "error",
     "traceback": [
      "\u001b[0;31m---------------------------------------------------------------------------\u001b[0m",
      "\u001b[0;31mKeyError\u001b[0m                                  Traceback (most recent call last)",
      "Cell \u001b[0;32mIn[34], line 3\u001b[0m\n\u001b[1;32m      1\u001b[0m \u001b[38;5;28;01mfrom\u001b[39;00m \u001b[38;5;21;01mase\u001b[39;00m\u001b[38;5;21;01m.\u001b[39;00m\u001b[38;5;21;01mbuild\u001b[39;00m \u001b[38;5;28;01mimport\u001b[39;00m molecule\n\u001b[0;32m----> 3\u001b[0m \u001b[43mmolecule\u001b[49m\u001b[43m(\u001b[49m\u001b[43mdoc\u001b[49m\u001b[38;5;241;43m.\u001b[39;49m\u001b[43mformula_pretty\u001b[49m\u001b[43m)\u001b[49m\n",
      "File \u001b[0;32m/opt/miniconda3/envs/elec-chem-dev/lib/python3.10/site-packages/ase/build/molecule.py:44\u001b[0m, in \u001b[0;36mmolecule\u001b[0;34m(name, vacuum, **kwargs)\u001b[0m\n\u001b[1;32m     42\u001b[0m     mol \u001b[38;5;241m=\u001b[39m Atoms(\u001b[38;5;241m*\u001b[39m\u001b[38;5;241m*\u001b[39mkwargs)\n\u001b[1;32m     43\u001b[0m \u001b[38;5;28;01melse\u001b[39;00m:\n\u001b[0;32m---> 44\u001b[0m     mol \u001b[38;5;241m=\u001b[39m \u001b[43mg2\u001b[49m\u001b[43m[\u001b[49m\u001b[43mname\u001b[49m\u001b[43m]\u001b[49m\n\u001b[1;32m     45\u001b[0m     \u001b[38;5;28;01mif\u001b[39;00m kwargs:\n\u001b[1;32m     46\u001b[0m         mol \u001b[38;5;241m=\u001b[39m Atoms(mol, \u001b[38;5;241m*\u001b[39m\u001b[38;5;241m*\u001b[39mkwargs)\n",
      "File \u001b[0;32m/opt/miniconda3/envs/elec-chem-dev/lib/python3.10/site-packages/ase/collections/collection.py:53\u001b[0m, in \u001b[0;36mCollection.__getitem__\u001b[0;34m(self, name)\u001b[0m\n\u001b[1;32m     51\u001b[0m \u001b[38;5;28;01mdef\u001b[39;00m \u001b[38;5;21m__getitem__\u001b[39m(\u001b[38;5;28mself\u001b[39m, name):\n\u001b[1;32m     52\u001b[0m     \u001b[38;5;28mself\u001b[39m\u001b[38;5;241m.\u001b[39m_read()\n\u001b[0;32m---> 53\u001b[0m     \u001b[38;5;28;01mreturn\u001b[39;00m \u001b[38;5;28;43mself\u001b[39;49m\u001b[38;5;241;43m.\u001b[39;49m\u001b[43m_systems\u001b[49m\u001b[43m[\u001b[49m\u001b[43mname\u001b[49m\u001b[43m]\u001b[49m\u001b[38;5;241m.\u001b[39mcopy()\n",
      "\u001b[0;31mKeyError\u001b[0m: 'H9C5O'"
     ]
    }
   ],
   "source": [
    "from ase.build import molecule\n",
    "\n",
    "molecule(doc.formula_pretty)"
   ]
  },
  {
   "cell_type": "code",
   "execution_count": null,
   "metadata": {},
   "outputs": [
    {
     "data": {
      "text/plain": [
       "<bound method BaseModel.json of \u001b[4m\u001b[1mMPDataDoc<MoleculesDoc>\u001b[0;0m\u001b[0;0m(\n",
       "\u001b[1melements\u001b[0;0m=[Element H, Element C, Element O],\n",
       "\u001b[1mnelements\u001b[0;0m=3,\n",
       "\u001b[1mEA\u001b[0;0m=-0.8165635894587466,\n",
       "\u001b[1mIE\u001b[0;0m=4.761752711044755,\n",
       "\u001b[1mcharge\u001b[0;0m=0,\n",
       "\u001b[1mpointgroup\u001b[0;0m='C1',\n",
       "\u001b[1msmiles\u001b[0;0m='[C@]12(C(C)C)OO[C@](CC1)(CC2)C',\n",
       "\u001b[1mtask_id\u001b[0;0m='mol-45191',\n",
       "\u001b[1mmolecule\u001b[0;0m=Molecule Summary\n",
       "Site: C (-0.6674, -0.0143, 0.2741)\n",
       "Site: C (-2.2189, 0.0132, 0.3086)\n",
       "Site: O (-0.3086, 0.2688, -1.1029)\n",
       "Site: C (-0.0577, -1.3762, 0.6590)\n",
       "Site: C (-0.0160, 1.0799, 1.1499)\n",
       "Site: C (-2.8139, 1.2736, -0.3501)\n",
       "Site: C (-2.8672, -1.2404, -0.3053)\n",
       "Site: O (1.1210, -0.0480, -1.3465)\n",
       "Site: C (1.4852, -1.2453, 0.7070)\n",
       "Site: C (1.4427, 1.2657, 0.6658)\n",
       "Site: C (1.8709, 0.0066, -0.1023)\n",
       "Site: C (3.3286, 0.0280, -0.5423)\n",
       "Site: H (-2.4760, 0.0379, 1.3794)\n",
       "Site: H (-0.3450, -2.1161, -0.0923)\n",
       "Site: H (-0.4630, -1.7067, 1.6233)\n",
       "Site: H (-0.0502, 0.7647, 2.2016)\n",
       "Site: H (-0.5647, 2.0229, 1.0794)\n",
       "Site: H (-2.6242, 1.2775, -1.4283)\n",
       "Site: H (-2.4091, 2.2026, 0.0641)\n",
       "Site: H (-3.8995, 1.2918, -0.1963)\n",
       "Site: H (-2.5624, -1.3674, -1.3504)\n",
       "Site: H (-3.9591, -1.1423, -0.2836)\n",
       "Site: H (-2.6110, -2.1541, 0.2411)\n",
       "Site: H (1.9621, -2.1349, 0.2804)\n",
       "Site: H (1.8504, -1.1419, 1.7376)\n",
       "Site: H (2.1248, 1.4420, 1.5065)\n",
       "Site: H (1.5221, 2.1243, -0.0099)\n",
       "Site: H (3.5427, -0.8135, -1.2104)\n",
       "Site: H (3.9798, -0.0560, 0.3359)\n",
       "Site: H (3.5659, 0.9588, -1.0682),\n",
       "\u001b[1mformula_pretty\u001b[0;0m='H9C5O',\n",
       "\u001b[1msvg\u001b[0;0m='<?xml version=\"1.0\"?>\\n<svg version=\"1.1\" id=\"topsvg\"\\nxmlns=\"http://www.w3.org/2000/svg\" xmlns:xlink=\"http://www.w3.org/1999/xlink\"\\nxmlns:cml=\"http://www.xml-cml.org/schema\" x=\"0\" y=\"0\" width=\"200px\" height=\"200px\" viewBox=\"0 0 100 100\">\\n<title>Multiple Molecules - Open Babel Depiction</title>\\n<rect x=\"0\" y=\"0\" width=\"100\" height=\"100\" fill=\"Beige\"/>\\n<text text-anchor=\"middle\" font-size=\"6\" fill =\"black\" font-family=\"sans-serif\"\\nx=\"50\" y=\"98\" ></text>\\n<g transform=\"translate(0,0)\">\\n<svg width=\"100\" height=\"100\" x=\"0\" y=\"0\" viewBox=\"0 0 249.078 344.54\"\\nfont-family=\"sans-serif\" stroke=\"rgb(0,0,0)\" stroke-width=\"3.0\"  stroke-linecap=\"round\">\\n<line x1=\"196.1\" y1=\"213.7\" x2=\"168.9\" y2=\"210.9\" stroke=\"rgb(0,0,0)\"  stroke-width=\"3.0\"/>\\n<line x1=\"145.7\" y1=\"291.6\" x2=\"148.5\" y2=\"264.3\" stroke=\"rgb(0,0,0)\"  stroke-width=\"3.0\"/>\\n<line x1=\"154.2\" y1=\"56.7\" x2=\"132.0\" y2=\"72.8\" stroke=\"rgb(0,0,0)\"  stroke-width=\"3.0\"/>\\n<line x1=\"157.0\" y1=\"84.0\" x2=\"132.0\" y2=\"72.8\" stroke=\"rgb(0,0,0)\"  stroke-width=\"3.0\"/>\\n<polygon points=\"115.443513 109.657236 128.307796 71.120244 135.609893 74.388175 \" stroke-width=\"2.000000\" fill=\"rgb(0,0,0)\"  stroke=\"rgb(0,0,0)\" />\\n<line x1=\"132.0\" y1=\"72.8\" x2=\"115.9\" y2=\"50.5\" stroke=\"rgb(0,0,0)\"  stroke-width=\"3.0\"/>\\n<line x1=\"168.9\" y1=\"210.9\" x2=\"180.1\" y2=\"235.9\" stroke=\"rgb(0,0,0)\"  stroke-width=\"3.0\"/>\\n<line x1=\"168.9\" y1=\"210.9\" x2=\"171.7\" y2=\"183.6\" stroke=\"rgb(0,0,0)\"  stroke-width=\"3.0\"/>\\n<line x1=\"168.9\" y1=\"210.9\" x2=\"132.0\" y2=\"227.4\" stroke=\"rgb(0,0,0)\"  stroke-width=\"3.0\"/>\\n<line x1=\"148.5\" y1=\"264.3\" x2=\"123.4\" y2=\"275.5\" stroke=\"rgb(0,0,0)\"  stroke-width=\"3.0\"/>\\n<line x1=\"148.5\" y1=\"264.3\" x2=\"175.8\" y2=\"267.1\" stroke=\"rgb(0,0,0)\"  stroke-width=\"3.0\"/>\\n<line x1=\"148.5\" y1=\"264.3\" x2=\"132.0\" y2=\"227.4\" stroke=\"rgb(0,0,0)\"  stroke-width=\"3.0\"/>\\n<line x1=\"71.9\" y1=\"190.7\" x2=\"87.3\" y2=\"168.1\" stroke=\"rgb(0,0,0)\"  stroke-width=\"3.0\"/>\\n<line x1=\"66.7\" y1=\"106.1\" x2=\"80.4\" y2=\"129.9\" stroke=\"rgb(0,0,0)\"  stroke-width=\"3.0\"/>\\n<polygon points=\"115.443513 190.517349 135.609893 225.786409 128.307796 229.054341 \" stroke-width=\"2.000000\" fill=\"rgb(0,0,0)\"  stroke=\"rgb(0,0,0)\" />\\n<line x1=\"60.0\" y1=\"134.1\" x2=\"87.3\" y2=\"132.1\" stroke=\"rgb(0,0,0)\"  stroke-width=\"3.0\"/>\\n<line x1=\"132.0\" y1=\"227.4\" x2=\"106.9\" y2=\"238.6\" stroke=\"rgb(0,0,0)\"  stroke-width=\"3.0\"/>\\n<line x1=\"87.3\" y1=\"168.1\" x2=\"60.0\" y2=\"166.0\" stroke=\"rgb(0,0,0)\"  stroke-width=\"3.0\"/>\\n<line x1=\"80.4\" y1=\"129.9\" x2=\"53.0\" y2=\"129.9\" stroke=\"rgb(0,0,0)\"  stroke-width=\"3.0\"/>\\n<line x1=\"87.3\" y1=\"132.1\" x2=\"71.9\" y2=\"109.4\" stroke=\"rgb(0,0,0)\"  stroke-width=\"3.0\"/>\\n<line x1=\"53.0\" y1=\"170.3\" x2=\"80.4\" y2=\"170.3\" stroke=\"rgb(0,0,0)\"  stroke-width=\"3.0\"/>\\n<line x1=\"80.4\" y1=\"170.3\" x2=\"66.7\" y2=\"194.1\" stroke=\"rgb(0,0,0)\"  stroke-width=\"3.0\"/>\\n<line x1=\"139.2\" y1=\"176.8\" x2=\"115.4\" y2=\"190.5\" stroke=\"rgb(0,0,0)\"  stroke-width=\"3.0\"/>\\n<line x1=\"115.4\" y1=\"190.5\" x2=\"87.3\" y2=\"168.1\" stroke=\"rgb(0,0,0)\"  stroke-width=\"3.0\"/>\\n<line x1=\"87.3\" y1=\"168.1\" x2=\"87.3\" y2=\"132.1\" stroke=\"rgb(0,0,0)\"  stroke-width=\"3.0\"/>\\n<line x1=\"87.3\" y1=\"132.1\" x2=\"115.4\" y2=\"109.7\" stroke=\"rgb(0,0,0)\"  stroke-width=\"3.0\"/>\\n<line x1=\"115.4\" y1=\"109.7\" x2=\"139.2\" y2=\"123.4\" stroke=\"rgb(0,0,0)\"  stroke-width=\"3.0\"/>\\n<line x1=\"150.5\" y1=\"142.9\" x2=\"150.5\" y2=\"157.3\" stroke=\"rgb(0,0,0)\"  stroke-width=\"3.0\"/>\\n<line x1=\"80.4\" y1=\"170.3\" x2=\"115.4\" y2=\"190.5\" stroke=\"rgb(0,0,0)\"  stroke-width=\"3.0\"/>\\n<line x1=\"115.4\" y1=\"109.7\" x2=\"80.4\" y2=\"129.9\" stroke=\"rgb(0,0,0)\"  stroke-width=\"3.0\"/>\\n<line x1=\"80.4\" y1=\"129.9\" x2=\"80.4\" y2=\"170.3\" stroke=\"rgb(0,0,0)\"  stroke-width=\"3.0\"/>\\n<text x=\"144.456969\" y=\"178.302321\" fill=\"rgb(255,12,12)\"  stroke=\"rgb(255,12,12)\" stroke-width=\"1\" font-size=\"16\" >O</text>\\n<text x=\"144.456969\" y=\"137.872264\" fill=\"rgb(255,12,12)\"  stroke=\"rgb(255,12,12)\" stroke-width=\"1\" font-size=\"16\" >O</text>\\n<text x=\"89.055819\" y=\"251.935707\" fill=\"DimGray\"  stroke=\"DimGray\" stroke-width=\"1\" font-size=\"16\" >H</text>\\n<text x=\"58.533357\" y=\"209.485241\" fill=\"DimGray\"  stroke=\"DimGray\" stroke-width=\"1\" font-size=\"16\" >H</text>\\n<text x=\"40.991413\" y=\"173.059018\" fill=\"DimGray\"  stroke=\"DimGray\" stroke-width=\"1\" font-size=\"16\" >H</text>\\n<text x=\"54.215028\" y=\"213.315777\" fill=\"DimGray\"  stroke=\"DimGray\" stroke-width=\"1\" font-size=\"16\" >H</text>\\n<text x=\"34.000000\" y=\"178.302321\" fill=\"DimGray\"  stroke=\"DimGray\" stroke-width=\"1\" font-size=\"16\" >H</text>\\n<text x=\"203.078494\" y=\"223.053860\" fill=\"DimGray\"  stroke=\"DimGray\" stroke-width=\"1\" font-size=\"16\" >H</text>\\n<text x=\"167.010687\" y=\"178.688420\" fill=\"DimGray\"  stroke=\"DimGray\" stroke-width=\"1\" font-size=\"16\" >H</text>\\n<text x=\"179.377202\" y=\"255.808069\" fill=\"DimGray\"  stroke=\"DimGray\" stroke-width=\"1\" font-size=\"16\" >H</text>\\n<text x=\"138.325360\" y=\"312.540025\" fill=\"DimGray\"  stroke=\"DimGray\" stroke-width=\"1\" font-size=\"16\" >H</text>\\n<text x=\"105.571150\" y=\"288.838733\" fill=\"DimGray\"  stroke=\"DimGray\" stroke-width=\"1\" font-size=\"16\" >H</text>\\n<text x=\"182.690800\" y=\"276.472217\" fill=\"DimGray\"  stroke=\"DimGray\" stroke-width=\"1\" font-size=\"16\" >H</text>\\n<text x=\"40.991413\" y=\"143.115566\" fill=\"DimGray\"  stroke=\"DimGray\" stroke-width=\"1\" font-size=\"16\" >H</text>\\n<text x=\"58.533357\" y=\"106.689344\" fill=\"DimGray\"  stroke=\"DimGray\" stroke-width=\"1\" font-size=\"16\" >H</text>\\n<text x=\"34.000000\" y=\"137.872264\" fill=\"DimGray\"  stroke=\"DimGray\" stroke-width=\"1\" font-size=\"16\" >H</text>\\n<text x=\"54.215028\" y=\"102.858808\" fill=\"DimGray\"  stroke=\"DimGray\" stroke-width=\"1\" font-size=\"16\" >H</text>\\n<text x=\"158.713054\" y=\"57.052918\" fill=\"DimGray\"  stroke=\"DimGray\" stroke-width=\"1\" font-size=\"16\" >H</text>\\n<text x=\"102.257553\" y=\"48.000000\" fill=\"DimGray\"  stroke=\"DimGray\" stroke-width=\"1\" font-size=\"16\" >H</text>\\n<text x=\"162.861871\" y=\"97.269541\" fill=\"DimGray\"  stroke=\"DimGray\" stroke-width=\"1\" font-size=\"16\" >H</text>\\n</svg>\\n</g>\\n</svg>\\n\\n',\n",
       "\u001b[1mfields_not_requested\u001b[0;0m=[]\n",
       ")>"
      ]
     },
     "execution_count": 37,
     "metadata": {},
     "output_type": "execute_result"
    }
   ],
   "source": [
    "doc.json"
   ]
  }
 ],
 "metadata": {
  "kernelspec": {
   "display_name": "elec-chem-dev",
   "language": "python",
   "name": "python3"
  },
  "language_info": {
   "codemirror_mode": {
    "name": "ipython",
    "version": 3
   },
   "file_extension": ".py",
   "mimetype": "text/x-python",
   "name": "python",
   "nbconvert_exporter": "python",
   "pygments_lexer": "ipython3",
   "version": "3.10.14"
  }
 },
 "nbformat": 4,
 "nbformat_minor": 2
}
