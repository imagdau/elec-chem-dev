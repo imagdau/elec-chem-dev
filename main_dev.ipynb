{
 "cells": [
  {
   "cell_type": "markdown",
   "metadata": {},
   "source": [
    "# 29th March 2024"
   ]
  },
  {
   "cell_type": "code",
   "execution_count": 27,
   "metadata": {},
   "outputs": [],
   "source": [
    "import warnings\n",
    "from mp_api.client import MPRester\n",
    "warnings.filterwarnings(\"ignore\")\n",
    "\n",
    "with open(\"api.key\", \"r\") as keyFile:\n",
    "    API_KEY = keyFile.readline().rstrip()\n",
    "\n",
    "mpr = MPRester(API_KEY)"
   ]
  },
  {
   "cell_type": "code",
   "execution_count": 28,
   "metadata": {},
   "outputs": [
    {
     "data": {
      "application/vnd.jupyter.widget-view+json": {
       "model_id": "42421118477840368d11e24b7802f665",
       "version_major": 2,
       "version_minor": 0
      },
      "text/plain": [
       "Retrieving SummaryDoc documents:   0%|          | 0/3 [00:00<?, ?it/s]"
      ]
     },
     "metadata": {},
     "output_type": "display_data"
    }
   ],
   "source": [
    "docs = mpr.summary.search(material_ids=[\"mp-149\", \"mp-13\", \"mp-22526\"])"
   ]
  },
  {
   "cell_type": "code",
   "execution_count": 29,
   "metadata": {},
   "outputs": [],
   "source": [
    "example_doc = docs[0]\n",
    "\n",
    "mpid = example_doc.material_id\n",
    "formula = example_doc.formula_pretty"
   ]
  },
  {
   "cell_type": "code",
   "execution_count": 30,
   "metadata": {},
   "outputs": [
    {
     "name": "stdout",
     "output_type": "stream",
     "text": [
      "['builder_meta', 'nsites', 'elements', 'nelements', 'composition', 'composition_reduced', 'formula_pretty', 'formula_anonymous', 'chemsys', 'volume', 'density', 'density_atomic', 'symmetry', 'property_name', 'material_id', 'deprecated', 'deprecation_reasons', 'last_updated', 'origins', 'warnings', 'structure', 'task_ids', 'uncorrected_energy_per_atom', 'energy_per_atom', 'formation_energy_per_atom', 'energy_above_hull', 'is_stable', 'equilibrium_reaction_energy_per_atom', 'decomposes_to', 'xas', 'grain_boundaries', 'band_gap', 'cbm', 'vbm', 'efermi', 'is_gap_direct', 'is_metal', 'es_source_calc_id', 'bandstructure', 'dos', 'dos_energy_up', 'dos_energy_down', 'is_magnetic', 'ordering', 'total_magnetization', 'total_magnetization_normalized_vol', 'total_magnetization_normalized_formula_units', 'num_magnetic_sites', 'num_unique_magnetic_sites', 'types_of_magnetic_species', 'bulk_modulus', 'shear_modulus', 'universal_anisotropy', 'homogeneous_poisson', 'e_total', 'e_ionic', 'e_electronic', 'n', 'e_ij_max', 'weighted_surface_energy_EV_PER_ANG2', 'weighted_surface_energy', 'weighted_work_function', 'surface_anisotropy', 'shape_factor', 'has_reconstructed', 'possible_species', 'has_props', 'theoretical', 'database_IDs']\n"
     ]
    }
   ],
   "source": [
    "list_of_available_fields = mpr.summary.available_fields\n",
    "print(list_of_available_fields)"
   ]
  },
  {
   "cell_type": "code",
   "execution_count": 31,
   "metadata": {},
   "outputs": [
    {
     "data": {
      "text/plain": [
       "['builder_meta',\n",
       " 'nsites',\n",
       " 'elements',\n",
       " 'nelements',\n",
       " 'composition',\n",
       " 'composition_reduced',\n",
       " 'formula_pretty',\n",
       " 'formula_anonymous',\n",
       " 'chemsys',\n",
       " 'volume',\n",
       " 'density',\n",
       " 'density_atomic',\n",
       " 'symmetry',\n",
       " 'property_name',\n",
       " 'material_id',\n",
       " 'deprecated',\n",
       " 'deprecation_reasons',\n",
       " 'last_updated',\n",
       " 'origins',\n",
       " 'warnings',\n",
       " 'structure',\n",
       " 'task_ids',\n",
       " 'uncorrected_energy_per_atom',\n",
       " 'energy_per_atom',\n",
       " 'formation_energy_per_atom',\n",
       " 'energy_above_hull',\n",
       " 'is_stable',\n",
       " 'equilibrium_reaction_energy_per_atom',\n",
       " 'decomposes_to',\n",
       " 'xas',\n",
       " 'grain_boundaries',\n",
       " 'band_gap',\n",
       " 'cbm',\n",
       " 'vbm',\n",
       " 'efermi',\n",
       " 'is_gap_direct',\n",
       " 'is_metal',\n",
       " 'es_source_calc_id',\n",
       " 'bandstructure',\n",
       " 'dos',\n",
       " 'dos_energy_up',\n",
       " 'dos_energy_down',\n",
       " 'is_magnetic',\n",
       " 'ordering',\n",
       " 'total_magnetization',\n",
       " 'total_magnetization_normalized_vol',\n",
       " 'total_magnetization_normalized_formula_units',\n",
       " 'num_magnetic_sites',\n",
       " 'num_unique_magnetic_sites',\n",
       " 'types_of_magnetic_species',\n",
       " 'bulk_modulus',\n",
       " 'shear_modulus',\n",
       " 'universal_anisotropy',\n",
       " 'homogeneous_poisson',\n",
       " 'e_total',\n",
       " 'e_ionic',\n",
       " 'e_electronic',\n",
       " 'n',\n",
       " 'e_ij_max',\n",
       " 'weighted_surface_energy_EV_PER_ANG2',\n",
       " 'weighted_surface_energy',\n",
       " 'weighted_work_function',\n",
       " 'surface_anisotropy',\n",
       " 'shape_factor',\n",
       " 'has_reconstructed',\n",
       " 'possible_species',\n",
       " 'has_props',\n",
       " 'theoretical',\n",
       " 'database_IDs']"
      ]
     },
     "execution_count": 31,
     "metadata": {},
     "output_type": "execute_result"
    }
   ],
   "source": [
    "list_of_available_fields"
   ]
  },
  {
   "cell_type": "code",
   "execution_count": 32,
   "metadata": {},
   "outputs": [
    {
     "data": {
      "application/vnd.jupyter.widget-view+json": {
       "model_id": "b3ce0e36beb448668afd13cf3aeb608a",
       "version_major": 2,
       "version_minor": 0
      },
      "text/plain": [
       "Retrieving MoleculesDoc documents:   0%|          | 0/1813 [00:00<?, ?it/s]"
      ]
     },
     "metadata": {},
     "output_type": "display_data"
    }
   ],
   "source": [
    "docs = mpr.molecules.jcesr.search(elements=['H', 'C', 'O'], nelements=(3,3), charge=(0,0))"
   ]
  },
  {
   "cell_type": "code",
   "execution_count": 33,
   "metadata": {},
   "outputs": [
    {
     "data": {
      "image/svg+xml": [
       "<svg xmlns=\"http://www.w3.org/2000/svg\" xmlns:xlink=\"http://www.w3.org/1999/xlink\" xmlns:cml=\"http://www.xml-cml.org/schema\" version=\"1.1\" id=\"topsvg\" x=\"0\" y=\"0\" width=\"200px\" height=\"200px\" viewBox=\"0 0 100 100\">\n",
       "<title>Multiple Molecules - Open Babel Depiction</title>\n",
       "<rect x=\"0\" y=\"0\" width=\"100\" height=\"100\" fill=\"Beige\"/>\n",
       "<text text-anchor=\"middle\" font-size=\"6\" fill=\"black\" font-family=\"sans-serif\" x=\"50\" y=\"98\"/>\n",
       "<g transform=\"translate(0,0)\">\n",
       "<svg width=\"100\" height=\"100\" x=\"0\" y=\"0\" viewBox=\"0 0 391.458 304.426\" font-family=\"sans-serif\" stroke=\"rgb(0,0,0)\" stroke-width=\"3.0\" stroke-linecap=\"round\">\n",
       "<line x1=\"181.8\" y1=\"220.4\" x2=\"181.8\" y2=\"247.4\" stroke=\"rgb(0,0,0)\" stroke-width=\"3.0\"/>\n",
       "<line x1=\"175.8\" y1=\"220.4\" x2=\"175.8\" y2=\"247.4\" stroke=\"rgb(0,0,0)\" stroke-width=\"3.0\"/>\n",
       "<polygon points=\"178.842351 100.055903 182.842860 140.166775 174.842860 140.166876 \" stroke-width=\"2.000000\" fill=\"rgb(0,0,0)\" stroke=\"rgb(0,0,0)\"/>\n",
       "<line x1=\"216.6\" y1=\"53.0\" x2=\"216.6\" y2=\"80.0\" stroke=\"rgb(0,0,0)\" stroke-width=\"3.0\"/>\n",
       "<line x1=\"210.6\" y1=\"53.0\" x2=\"210.6\" y2=\"80.0\" stroke=\"rgb(0,0,0)\" stroke-width=\"3.0\"/>\n",
       "<line x1=\"109.4\" y1=\"247.4\" x2=\"109.4\" y2=\"220.4\" stroke=\"rgb(0,0,0)\" stroke-width=\"3.0\"/>\n",
       "<line x1=\"283.0\" y1=\"200.3\" x2=\"311.4\" y2=\"228.7\" stroke=\"rgb(0,0,0)\" stroke-width=\"3.0\"/>\n",
       "<line x1=\"338.5\" y1=\"227.3\" x2=\"311.4\" y2=\"228.7\" stroke=\"rgb(0,0,0)\" stroke-width=\"3.0\"/>\n",
       "<line x1=\"144.1\" y1=\"80.0\" x2=\"144.1\" y2=\"53.0\" stroke=\"rgb(0,0,0)\" stroke-width=\"3.0\"/>\n",
       "<line x1=\"109.4\" y1=\"100.1\" x2=\"86.0\" y2=\"86.6\" stroke=\"rgb(0,0,0)\" stroke-width=\"3.0\"/>\n",
       "<line x1=\"277.8\" y1=\"90.9\" x2=\"282.1\" y2=\"62.8\" stroke=\"rgb(0,0,0)\" stroke-width=\"3.0\"/>\n",
       "<line x1=\"305.7\" y1=\"139.2\" x2=\"332.2\" y2=\"149.6\" stroke=\"rgb(0,0,0)\" stroke-width=\"3.0\"/>\n",
       "<line x1=\"311.4\" y1=\"228.7\" x2=\"299.1\" y2=\"252.8\" stroke=\"rgb(0,0,0)\" stroke-width=\"3.0\"/>\n",
       "<line x1=\"303.4\" y1=\"108.3\" x2=\"328.0\" y2=\"94.1\" stroke=\"rgb(0,0,0)\" stroke-width=\"3.0\"/>\n",
       "<line x1=\"74.6\" y1=\"200.3\" x2=\"51.3\" y2=\"213.8\" stroke=\"rgb(0,0,0)\" stroke-width=\"3.0\"/>\n",
       "<line x1=\"74.6\" y1=\"160.2\" x2=\"51.3\" y2=\"146.7\" stroke=\"rgb(0,0,0)\" stroke-width=\"3.0\"/>\n",
       "<line x1=\"213.6\" y1=\"160.2\" x2=\"213.6\" y2=\"200.3\" stroke=\"rgb(0,0,0)\" stroke-width=\"3.0\"/>\n",
       "<line x1=\"213.6\" y1=\"200.3\" x2=\"283.0\" y2=\"200.3\" stroke=\"rgb(0,0,0)\" stroke-width=\"3.0\"/>\n",
       "<line x1=\"219.6\" y1=\"193.1\" x2=\"277.0\" y2=\"193.1\" stroke=\"rgb(0,0,0)\" stroke-width=\"3.0\"/>\n",
       "<line x1=\"283.0\" y1=\"200.3\" x2=\"283.0\" y2=\"160.2\" stroke=\"rgb(0,0,0)\" stroke-width=\"3.0\"/>\n",
       "<line x1=\"283.0\" y1=\"160.2\" x2=\"248.3\" y2=\"140.2\" stroke=\"rgb(0,0,0)\" stroke-width=\"3.0\"/>\n",
       "<line x1=\"248.3\" y1=\"140.2\" x2=\"213.6\" y2=\"160.2\" stroke=\"rgb(0,0,0)\" stroke-width=\"3.0\"/>\n",
       "<line x1=\"178.8\" y1=\"220.4\" x2=\"213.6\" y2=\"200.3\" stroke=\"rgb(0,0,0)\" stroke-width=\"3.0\"/>\n",
       "<line x1=\"213.6\" y1=\"160.2\" x2=\"178.8\" y2=\"140.2\" stroke=\"rgb(0,0,0)\" stroke-width=\"3.0\"/>\n",
       "<line x1=\"204.8\" y1=\"163.4\" x2=\"180.4\" y2=\"149.4\" stroke=\"rgb(0,0,0)\" stroke-width=\"3.0\"/>\n",
       "<line x1=\"178.8\" y1=\"140.2\" x2=\"144.1\" y2=\"160.2\" stroke=\"rgb(0,0,0)\" stroke-width=\"3.0\"/>\n",
       "<line x1=\"144.1\" y1=\"160.2\" x2=\"144.1\" y2=\"200.3\" stroke=\"rgb(0,0,0)\" stroke-width=\"3.0\"/>\n",
       "<line x1=\"144.1\" y1=\"200.3\" x2=\"178.8\" y2=\"220.4\" stroke=\"rgb(0,0,0)\" stroke-width=\"3.0\"/>\n",
       "<line x1=\"213.6\" y1=\"80.0\" x2=\"178.8\" y2=\"100.1\" stroke=\"rgb(0,0,0)\" stroke-width=\"3.0\"/>\n",
       "<line x1=\"178.8\" y1=\"100.1\" x2=\"178.8\" y2=\"140.2\" stroke=\"rgb(0,0,0)\" stroke-width=\"3.0\"/>\n",
       "<line x1=\"248.3\" y1=\"140.2\" x2=\"248.3\" y2=\"100.0\" stroke=\"rgb(0,0,0)\" stroke-width=\"3.0\"/>\n",
       "<line x1=\"241.1\" y1=\"134.2\" x2=\"241.1\" y2=\"106.0\" stroke=\"rgb(0,0,0)\" stroke-width=\"3.0\"/>\n",
       "<line x1=\"248.3\" y1=\"100.0\" x2=\"213.6\" y2=\"80.0\" stroke=\"rgb(0,0,0)\" stroke-width=\"3.0\"/>\n",
       "<line x1=\"303.4\" y1=\"108.3\" x2=\"277.8\" y2=\"90.9\" stroke=\"rgb(0,0,0)\" stroke-width=\"3.0\"/>\n",
       "<line x1=\"294.4\" y1=\"110.9\" x2=\"278.7\" y2=\"100.3\" stroke=\"rgb(0,0,0)\" stroke-width=\"3.0\"/>\n",
       "<line x1=\"277.8\" y1=\"90.9\" x2=\"248.3\" y2=\"100.0\" stroke=\"rgb(0,0,0)\" stroke-width=\"3.0\"/>\n",
       "<line x1=\"283.0\" y1=\"160.2\" x2=\"305.7\" y2=\"139.2\" stroke=\"rgb(0,0,0)\" stroke-width=\"3.0\"/>\n",
       "<line x1=\"282.5\" y1=\"150.9\" x2=\"296.4\" y2=\"138.0\" stroke=\"rgb(0,0,0)\" stroke-width=\"3.0\"/>\n",
       "<line x1=\"305.7\" y1=\"139.2\" x2=\"303.4\" y2=\"108.3\" stroke=\"rgb(0,0,0)\" stroke-width=\"3.0\"/>\n",
       "<line x1=\"109.4\" y1=\"100.1\" x2=\"109.4\" y2=\"140.2\" stroke=\"rgb(0,0,0)\" stroke-width=\"3.0\"/>\n",
       "<line x1=\"109.4\" y1=\"140.2\" x2=\"144.1\" y2=\"160.2\" stroke=\"rgb(0,0,0)\" stroke-width=\"3.0\"/>\n",
       "<line x1=\"118.2\" y1=\"136.9\" x2=\"142.5\" y2=\"151.0\" stroke=\"rgb(0,0,0)\" stroke-width=\"3.0\"/>\n",
       "<line x1=\"178.8\" y1=\"100.1\" x2=\"144.1\" y2=\"80.0\" stroke=\"rgb(0,0,0)\" stroke-width=\"3.0\"/>\n",
       "<line x1=\"144.1\" y1=\"80.0\" x2=\"109.4\" y2=\"100.1\" stroke=\"rgb(0,0,0)\" stroke-width=\"3.0\"/>\n",
       "<line x1=\"142.5\" y1=\"89.2\" x2=\"118.2\" y2=\"103.3\" stroke=\"rgb(0,0,0)\" stroke-width=\"3.0\"/>\n",
       "<line x1=\"144.1\" y1=\"200.3\" x2=\"109.4\" y2=\"220.4\" stroke=\"rgb(0,0,0)\" stroke-width=\"3.0\"/>\n",
       "<line x1=\"135.3\" y1=\"197.1\" x2=\"111.0\" y2=\"211.1\" stroke=\"rgb(0,0,0)\" stroke-width=\"3.0\"/>\n",
       "<line x1=\"109.4\" y1=\"220.4\" x2=\"74.6\" y2=\"200.3\" stroke=\"rgb(0,0,0)\" stroke-width=\"3.0\"/>\n",
       "<line x1=\"74.6\" y1=\"200.3\" x2=\"74.6\" y2=\"160.2\" stroke=\"rgb(0,0,0)\" stroke-width=\"3.0\"/>\n",
       "<line x1=\"81.8\" y1=\"194.3\" x2=\"81.8\" y2=\"166.2\" stroke=\"rgb(0,0,0)\" stroke-width=\"3.0\"/>\n",
       "<line x1=\"74.6\" y1=\"160.2\" x2=\"109.4\" y2=\"140.2\" stroke=\"rgb(0,0,0)\" stroke-width=\"3.0\"/>\n",
       "<text x=\"183.642351\" y=\"96.023903\" fill=\"rgb(102,102,102)\" stroke=\"rgb(102,102,102)\" stroke-width=\"1\" font-size=\"16\"/>\n",
       "<text x=\"183.642351\" y=\"96.023903\" fill=\"rgb(102,102,102)\" stroke=\"rgb(102,102,102)\" stroke-width=\"1\" font-size=\"32\">.</text>\n",
       "<text x=\"316.201724\" y=\"224.655211\" fill=\"rgb(102,102,102)\" stroke=\"rgb(102,102,102)\" stroke-width=\"1\" font-size=\"16\"/>\n",
       "<text x=\"316.201724\" y=\"224.655211\" fill=\"rgb(102,102,102)\" stroke=\"rgb(102,102,102)\" stroke-width=\"1\" font-size=\"32\">.</text>\n",
       "<text x=\"172.831283\" y=\"268.350875\" fill=\"rgb(255,12,12)\" stroke=\"rgb(255,12,12)\" stroke-width=\"1\" font-size=\"16\">O</text>\n",
       "<text x=\"207.584939\" y=\"48.011282\" fill=\"rgb(255,12,12)\" stroke=\"rgb(255,12,12)\" stroke-width=\"1\" font-size=\"16\">O</text>\n",
       "<text x=\"287.191746\" y=\"272.426305\" fill=\"DimGray\" stroke=\"DimGray\" stroke-width=\"1\" font-size=\"16\">H</text>\n",
       "<text x=\"138.104762\" y=\"48.000000\" fill=\"DimGray\" stroke=\"DimGray\" stroke-width=\"1\" font-size=\"16\">H</text>\n",
       "<text x=\"278.021659\" y=\"57.954682\" fill=\"DimGray\" stroke=\"DimGray\" stroke-width=\"1\" font-size=\"16\">H</text>\n",
       "<text x=\"345.457676\" y=\"234.587968\" fill=\"DimGray\" stroke=\"DimGray\" stroke-width=\"1\" font-size=\"16\">H</text>\n",
       "<text x=\"338.280120\" y=\"162.322337\" fill=\"DimGray\" stroke=\"DimGray\" stroke-width=\"1\" font-size=\"16\">H</text>\n",
       "<text x=\"103.373477\" y=\"268.360021\" fill=\"DimGray\" stroke=\"DimGray\" stroke-width=\"1\" font-size=\"16\">H</text>\n",
       "<text x=\"68.726159\" y=\"88.055020\" fill=\"DimGray\" stroke=\"DimGray\" stroke-width=\"1\" font-size=\"16\">H</text>\n",
       "<text x=\"34.001865\" y=\"148.199262\" fill=\"DimGray\" stroke=\"DimGray\" stroke-width=\"1\" font-size=\"16\">H</text>\n",
       "<text x=\"333.281296\" y=\"95.629037\" fill=\"DimGray\" stroke=\"DimGray\" stroke-width=\"1\" font-size=\"16\">H</text>\n",
       "<text x=\"34.000000\" y=\"228.314737\" fill=\"DimGray\" stroke=\"DimGray\" stroke-width=\"1\" font-size=\"16\">H</text>\n",
       "</svg>\n",
       "</g>\n",
       "</svg>"
      ],
      "text/plain": [
       "<IPython.core.display.SVG object>"
      ]
     },
     "metadata": {},
     "output_type": "display_data"
    },
    {
     "name": "stdout",
     "output_type": "stream",
     "text": [
      "H5C11O:mol-45827\n"
     ]
    },
    {
     "data": {
      "image/svg+xml": [
       "<svg xmlns=\"http://www.w3.org/2000/svg\" xmlns:xlink=\"http://www.w3.org/1999/xlink\" xmlns:cml=\"http://www.xml-cml.org/schema\" version=\"1.1\" id=\"topsvg\" x=\"0\" y=\"0\" width=\"200px\" height=\"200px\" viewBox=\"0 0 100 100\">\n",
       "<title>Multiple Molecules - Open Babel Depiction</title>\n",
       "<rect x=\"0\" y=\"0\" width=\"100\" height=\"100\" fill=\"Beige\"/>\n",
       "<text text-anchor=\"middle\" font-size=\"6\" fill=\"black\" font-family=\"sans-serif\" x=\"50\" y=\"98\"/>\n",
       "<g transform=\"translate(0,0)\">\n",
       "<svg width=\"100\" height=\"100\" x=\"0\" y=\"0\" viewBox=\"0 0 357.128 300\" font-family=\"sans-serif\" stroke=\"rgb(0,0,0)\" stroke-width=\"3.0\" stroke-linecap=\"round\">\n",
       "<line x1=\"153.7\" y1=\"210.9\" x2=\"177.1\" y2=\"197.4\" stroke=\"rgb(0,0,0)\" stroke-width=\"3.0\"/>\n",
       "<line x1=\"156.7\" y1=\"216.1\" x2=\"180.1\" y2=\"202.6\" stroke=\"rgb(0,0,0)\" stroke-width=\"3.0\"/>\n",
       "<line x1=\"109.3\" y1=\"187.0\" x2=\"109.3\" y2=\"160.0\" stroke=\"rgb(0,0,0)\" stroke-width=\"3.0\"/>\n",
       "<line x1=\"247.8\" y1=\"187.0\" x2=\"247.8\" y2=\"160.0\" stroke=\"rgb(0,0,0)\" stroke-width=\"3.0\"/>\n",
       "<line x1=\"51.3\" y1=\"153.5\" x2=\"74.6\" y2=\"140.0\" stroke=\"rgb(0,0,0)\" stroke-width=\"3.0\"/>\n",
       "<line x1=\"178.6\" y1=\"200.0\" x2=\"178.6\" y2=\"160.0\" stroke=\"rgb(0,0,0)\" stroke-width=\"3.0\"/>\n",
       "<line x1=\"178.6\" y1=\"200.0\" x2=\"213.2\" y2=\"220.0\" stroke=\"rgb(0,0,0)\" stroke-width=\"3.0\"/>\n",
       "<line x1=\"305.9\" y1=\"153.5\" x2=\"282.5\" y2=\"140.0\" stroke=\"rgb(0,0,0)\" stroke-width=\"3.0\"/>\n",
       "<line x1=\"74.6\" y1=\"100.0\" x2=\"51.3\" y2=\"86.5\" stroke=\"rgb(0,0,0)\" stroke-width=\"3.0\"/>\n",
       "<line x1=\"109.3\" y1=\"80.0\" x2=\"109.3\" y2=\"53.0\" stroke=\"rgb(0,0,0)\" stroke-width=\"3.0\"/>\n",
       "<line x1=\"282.5\" y1=\"100.0\" x2=\"305.9\" y2=\"86.5\" stroke=\"rgb(0,0,0)\" stroke-width=\"3.0\"/>\n",
       "<line x1=\"178.6\" y1=\"80.0\" x2=\"178.6\" y2=\"53.0\" stroke=\"rgb(0,0,0)\" stroke-width=\"3.0\"/>\n",
       "<line x1=\"247.8\" y1=\"80.0\" x2=\"247.8\" y2=\"53.0\" stroke=\"rgb(0,0,0)\" stroke-width=\"3.0\"/>\n",
       "<line x1=\"240.2\" y1=\"220.0\" x2=\"213.2\" y2=\"220.0\" stroke=\"rgb(0,0,0)\" stroke-width=\"3.0\"/>\n",
       "<line x1=\"213.2\" y1=\"220.0\" x2=\"226.7\" y2=\"196.6\" stroke=\"rgb(0,0,0)\" stroke-width=\"3.0\"/>\n",
       "<line x1=\"213.2\" y1=\"220.0\" x2=\"213.2\" y2=\"247.0\" stroke=\"rgb(0,0,0)\" stroke-width=\"3.0\"/>\n",
       "<line x1=\"143.9\" y1=\"140.0\" x2=\"178.6\" y2=\"160.0\" stroke=\"rgb(0,0,0)\" stroke-width=\"3.0\"/>\n",
       "<line x1=\"152.7\" y1=\"136.8\" x2=\"177.0\" y2=\"150.8\" stroke=\"rgb(0,0,0)\" stroke-width=\"3.0\"/>\n",
       "<line x1=\"178.6\" y1=\"160.0\" x2=\"213.2\" y2=\"140.0\" stroke=\"rgb(0,0,0)\" stroke-width=\"3.0\"/>\n",
       "<line x1=\"213.2\" y1=\"140.0\" x2=\"213.2\" y2=\"100.0\" stroke=\"rgb(0,0,0)\" stroke-width=\"3.0\"/>\n",
       "<line x1=\"213.2\" y1=\"100.0\" x2=\"178.6\" y2=\"80.0\" stroke=\"rgb(0,0,0)\" stroke-width=\"3.0\"/>\n",
       "<line x1=\"178.6\" y1=\"80.0\" x2=\"143.9\" y2=\"100.0\" stroke=\"rgb(0,0,0)\" stroke-width=\"3.0\"/>\n",
       "<line x1=\"177.0\" y1=\"89.2\" x2=\"152.7\" y2=\"103.2\" stroke=\"rgb(0,0,0)\" stroke-width=\"3.0\"/>\n",
       "<line x1=\"143.9\" y1=\"100.0\" x2=\"143.9\" y2=\"140.0\" stroke=\"rgb(0,0,0)\" stroke-width=\"3.0\"/>\n",
       "<line x1=\"247.8\" y1=\"160.0\" x2=\"282.5\" y2=\"140.0\" stroke=\"rgb(0,0,0)\" stroke-width=\"3.0\"/>\n",
       "<line x1=\"282.5\" y1=\"140.0\" x2=\"282.5\" y2=\"100.0\" stroke=\"rgb(0,0,0)\" stroke-width=\"3.0\"/>\n",
       "<line x1=\"275.3\" y1=\"134.0\" x2=\"275.3\" y2=\"106.0\" stroke=\"rgb(0,0,0)\" stroke-width=\"3.0\"/>\n",
       "<line x1=\"282.5\" y1=\"100.0\" x2=\"247.8\" y2=\"80.0\" stroke=\"rgb(0,0,0)\" stroke-width=\"3.0\"/>\n",
       "<line x1=\"247.8\" y1=\"80.0\" x2=\"213.2\" y2=\"100.0\" stroke=\"rgb(0,0,0)\" stroke-width=\"3.0\"/>\n",
       "<line x1=\"246.2\" y1=\"89.2\" x2=\"222.0\" y2=\"103.2\" stroke=\"rgb(0,0,0)\" stroke-width=\"3.0\"/>\n",
       "<line x1=\"213.2\" y1=\"140.0\" x2=\"247.8\" y2=\"160.0\" stroke=\"rgb(0,0,0)\" stroke-width=\"3.0\"/>\n",
       "<line x1=\"222.0\" y1=\"136.8\" x2=\"246.2\" y2=\"150.8\" stroke=\"rgb(0,0,0)\" stroke-width=\"3.0\"/>\n",
       "<line x1=\"109.3\" y1=\"160.0\" x2=\"143.9\" y2=\"140.0\" stroke=\"rgb(0,0,0)\" stroke-width=\"3.0\"/>\n",
       "<line x1=\"143.9\" y1=\"100.0\" x2=\"109.3\" y2=\"80.0\" stroke=\"rgb(0,0,0)\" stroke-width=\"3.0\"/>\n",
       "<line x1=\"109.3\" y1=\"80.0\" x2=\"74.6\" y2=\"100.0\" stroke=\"rgb(0,0,0)\" stroke-width=\"3.0\"/>\n",
       "<line x1=\"107.7\" y1=\"89.2\" x2=\"83.4\" y2=\"103.2\" stroke=\"rgb(0,0,0)\" stroke-width=\"3.0\"/>\n",
       "<line x1=\"74.6\" y1=\"100.0\" x2=\"74.6\" y2=\"140.0\" stroke=\"rgb(0,0,0)\" stroke-width=\"3.0\"/>\n",
       "<line x1=\"74.6\" y1=\"140.0\" x2=\"109.3\" y2=\"160.0\" stroke=\"rgb(0,0,0)\" stroke-width=\"3.0\"/>\n",
       "<line x1=\"83.4\" y1=\"136.8\" x2=\"107.7\" y2=\"150.8\" stroke=\"rgb(0,0,0)\" stroke-width=\"3.0\"/>\n",
       "<text x=\"137.923048\" y=\"228.000000\" fill=\"rgb(255,12,12)\" stroke=\"rgb(255,12,12)\" stroke-width=\"1\" font-size=\"16\">O</text>\n",
       "<text x=\"241.846097\" y=\"208.000000\" fill=\"DimGray\" stroke=\"DimGray\" stroke-width=\"1\" font-size=\"16\">H</text>\n",
       "<text x=\"103.282032\" y=\"208.000000\" fill=\"DimGray\" stroke=\"DimGray\" stroke-width=\"1\" font-size=\"16\">H</text>\n",
       "<text x=\"227.205081\" y=\"193.358984\" fill=\"DimGray\" stroke=\"DimGray\" stroke-width=\"1\" font-size=\"16\">H</text>\n",
       "<text x=\"247.205081\" y=\"228.000000\" fill=\"DimGray\" stroke=\"DimGray\" stroke-width=\"1\" font-size=\"16\">H</text>\n",
       "<text x=\"207.205081\" y=\"268.000000\" fill=\"DimGray\" stroke=\"DimGray\" stroke-width=\"1\" font-size=\"16\">H</text>\n",
       "<text x=\"172.564065\" y=\"48.000000\" fill=\"DimGray\" stroke=\"DimGray\" stroke-width=\"1\" font-size=\"16\">H</text>\n",
       "<text x=\"241.846097\" y=\"48.000000\" fill=\"DimGray\" stroke=\"DimGray\" stroke-width=\"1\" font-size=\"16\">H</text>\n",
       "<text x=\"311.128129\" y=\"168.000000\" fill=\"DimGray\" stroke=\"DimGray\" stroke-width=\"1\" font-size=\"16\">H</text>\n",
       "<text x=\"103.282032\" y=\"48.000000\" fill=\"DimGray\" stroke=\"DimGray\" stroke-width=\"1\" font-size=\"16\">H</text>\n",
       "<text x=\"34.000000\" y=\"168.000000\" fill=\"DimGray\" stroke=\"DimGray\" stroke-width=\"1\" font-size=\"16\">H</text>\n",
       "<text x=\"311.128129\" y=\"88.000000\" fill=\"DimGray\" stroke=\"DimGray\" stroke-width=\"1\" font-size=\"16\">H</text>\n",
       "<text x=\"34.000000\" y=\"88.000000\" fill=\"DimGray\" stroke=\"DimGray\" stroke-width=\"1\" font-size=\"16\">H</text>\n",
       "</svg>\n",
       "</g>\n",
       "</svg>"
      ],
      "text/plain": [
       "<IPython.core.display.SVG object>"
      ]
     },
     "metadata": {},
     "output_type": "display_data"
    },
    {
     "name": "stdout",
     "output_type": "stream",
     "text": [
      "H12C16O:mol-54787\n"
     ]
    },
    {
     "data": {
      "image/svg+xml": [
       "<svg xmlns=\"http://www.w3.org/2000/svg\" xmlns:xlink=\"http://www.w3.org/1999/xlink\" xmlns:cml=\"http://www.xml-cml.org/schema\" version=\"1.1\" id=\"topsvg\" x=\"0\" y=\"0\" width=\"200px\" height=\"200px\" viewBox=\"0 0 100 100\">\n",
       "<title>Multiple Molecules - Open Babel Depiction</title>\n",
       "<rect x=\"0\" y=\"0\" width=\"100\" height=\"100\" fill=\"Beige\"/>\n",
       "<text text-anchor=\"middle\" font-size=\"6\" fill=\"black\" font-family=\"sans-serif\" x=\"50\" y=\"98\"/>\n",
       "<g transform=\"translate(0,0)\">\n",
       "<svg width=\"100\" height=\"100\" x=\"0\" y=\"0\" viewBox=\"0 0 223.923 349.282\" font-family=\"sans-serif\" stroke=\"rgb(0,0,0)\" stroke-width=\"3.0\" stroke-linecap=\"round\">\n",
       "<line x1=\"172.7\" y1=\"221.1\" x2=\"149.3\" y2=\"234.6\" stroke=\"rgb(0,0,0)\" stroke-width=\"3.0\"/>\n",
       "<line x1=\"149.3\" y1=\"207.6\" x2=\"149.3\" y2=\"234.6\" stroke=\"rgb(0,0,0)\" stroke-width=\"3.0\"/>\n",
       "<line x1=\"162.8\" y1=\"258.0\" x2=\"149.3\" y2=\"234.6\" stroke=\"rgb(0,0,0)\" stroke-width=\"3.0\"/>\n",
       "<line x1=\"149.3\" y1=\"234.6\" x2=\"109.3\" y2=\"234.6\" stroke=\"rgb(0,0,0)\" stroke-width=\"3.0\"/>\n",
       "<line x1=\"122.8\" y1=\"51.3\" x2=\"109.3\" y2=\"74.6\" stroke=\"rgb(0,0,0)\" stroke-width=\"3.0\"/>\n",
       "<line x1=\"167.3\" y1=\"121.1\" x2=\"143.9\" y2=\"134.6\" stroke=\"rgb(0,0,0)\" stroke-width=\"3.0\"/>\n",
       "<line x1=\"178.6\" y1=\"101.6\" x2=\"178.6\" y2=\"87.6\" stroke=\"rgb(0,0,0)\" stroke-width=\"3.0\"/>\n",
       "<line x1=\"136.3\" y1=\"74.6\" x2=\"109.3\" y2=\"74.6\" stroke=\"rgb(0,0,0)\" stroke-width=\"3.0\"/>\n",
       "<line x1=\"109.3\" y1=\"74.6\" x2=\"109.3\" y2=\"114.6\" stroke=\"rgb(0,0,0)\" stroke-width=\"3.0\"/>\n",
       "<line x1=\"109.3\" y1=\"74.6\" x2=\"85.9\" y2=\"61.1\" stroke=\"rgb(0,0,0)\" stroke-width=\"3.0\"/>\n",
       "<line x1=\"109.3\" y1=\"234.6\" x2=\"82.3\" y2=\"234.6\" stroke=\"rgb(0,0,0)\" stroke-width=\"3.0\"/>\n",
       "<line x1=\"109.3\" y1=\"234.6\" x2=\"109.3\" y2=\"194.6\" stroke=\"rgb(0,0,0)\" stroke-width=\"3.0\"/>\n",
       "<line x1=\"109.3\" y1=\"234.6\" x2=\"109.3\" y2=\"274.6\" stroke=\"rgb(0,0,0)\" stroke-width=\"3.0\"/>\n",
       "<line x1=\"51.3\" y1=\"121.1\" x2=\"74.6\" y2=\"134.6\" stroke=\"rgb(0,0,0)\" stroke-width=\"3.0\"/>\n",
       "<line x1=\"143.9\" y1=\"174.6\" x2=\"167.3\" y2=\"188.1\" stroke=\"rgb(0,0,0)\" stroke-width=\"3.0\"/>\n",
       "<line x1=\"74.6\" y1=\"174.6\" x2=\"51.3\" y2=\"188.1\" stroke=\"rgb(0,0,0)\" stroke-width=\"3.0\"/>\n",
       "<line x1=\"109.3\" y1=\"274.6\" x2=\"95.8\" y2=\"298.0\" stroke=\"rgb(0,0,0)\" stroke-width=\"3.0\"/>\n",
       "<line x1=\"109.3\" y1=\"274.6\" x2=\"82.3\" y2=\"274.6\" stroke=\"rgb(0,0,0)\" stroke-width=\"3.0\"/>\n",
       "<line x1=\"109.3\" y1=\"274.6\" x2=\"132.7\" y2=\"288.1\" stroke=\"rgb(0,0,0)\" stroke-width=\"3.0\"/>\n",
       "<line x1=\"143.9\" y1=\"174.6\" x2=\"109.3\" y2=\"194.6\" stroke=\"rgb(0,0,0)\" stroke-width=\"3.0\"/>\n",
       "<line x1=\"135.1\" y1=\"171.4\" x2=\"110.9\" y2=\"185.4\" stroke=\"rgb(0,0,0)\" stroke-width=\"3.0\"/>\n",
       "<line x1=\"109.3\" y1=\"194.6\" x2=\"74.6\" y2=\"174.6\" stroke=\"rgb(0,0,0)\" stroke-width=\"3.0\"/>\n",
       "<line x1=\"74.6\" y1=\"174.6\" x2=\"74.6\" y2=\"134.6\" stroke=\"rgb(0,0,0)\" stroke-width=\"3.0\"/>\n",
       "<line x1=\"81.8\" y1=\"168.6\" x2=\"81.8\" y2=\"140.6\" stroke=\"rgb(0,0,0)\" stroke-width=\"3.0\"/>\n",
       "<line x1=\"74.6\" y1=\"134.6\" x2=\"109.3\" y2=\"114.6\" stroke=\"rgb(0,0,0)\" stroke-width=\"3.0\"/>\n",
       "<line x1=\"109.3\" y1=\"114.6\" x2=\"143.9\" y2=\"134.6\" stroke=\"rgb(0,0,0)\" stroke-width=\"3.0\"/>\n",
       "<line x1=\"110.9\" y1=\"123.9\" x2=\"135.1\" y2=\"137.9\" stroke=\"rgb(0,0,0)\" stroke-width=\"3.0\"/>\n",
       "<line x1=\"143.9\" y1=\"134.6\" x2=\"143.9\" y2=\"174.6\" stroke=\"rgb(0,0,0)\" stroke-width=\"3.0\"/>\n",
       "<text x=\"172.564065\" y=\"122.641016\" fill=\"rgb(255,12,12)\" stroke=\"rgb(255,12,12)\" stroke-width=\"1\" font-size=\"16\">O</text>\n",
       "<text x=\"172.564065\" y=\"202.641016\" fill=\"DimGray\" stroke=\"DimGray\" stroke-width=\"1\" font-size=\"16\">H</text>\n",
       "<text x=\"34.000000\" y=\"202.641016\" fill=\"DimGray\" stroke=\"DimGray\" stroke-width=\"1\" font-size=\"16\">H</text>\n",
       "<text x=\"63.282032\" y=\"242.641016\" fill=\"DimGray\" stroke=\"DimGray\" stroke-width=\"1\" font-size=\"16\">H</text>\n",
       "<text x=\"34.000000\" y=\"122.641016\" fill=\"DimGray\" stroke=\"DimGray\" stroke-width=\"1\" font-size=\"16\">H</text>\n",
       "<text x=\"143.282032\" y=\"202.641016\" fill=\"DimGray\" stroke=\"DimGray\" stroke-width=\"1\" font-size=\"16\">H</text>\n",
       "<text x=\"177.923048\" y=\"222.641016\" fill=\"DimGray\" stroke=\"DimGray\" stroke-width=\"1\" font-size=\"16\">H</text>\n",
       "<text x=\"163.282032\" y=\"277.282032\" fill=\"DimGray\" stroke=\"DimGray\" stroke-width=\"1\" font-size=\"16\">H</text>\n",
       "<text x=\"63.282032\" y=\"282.641016\" fill=\"DimGray\" stroke=\"DimGray\" stroke-width=\"1\" font-size=\"16\">H</text>\n",
       "<text x=\"83.282032\" y=\"317.282032\" fill=\"DimGray\" stroke=\"DimGray\" stroke-width=\"1\" font-size=\"16\">H</text>\n",
       "<text x=\"137.923048\" y=\"302.641016\" fill=\"DimGray\" stroke=\"DimGray\" stroke-width=\"1\" font-size=\"16\">H</text>\n",
       "<text x=\"172.564065\" y=\"82.641016\" fill=\"DimGray\" stroke=\"DimGray\" stroke-width=\"1\" font-size=\"16\">H</text>\n",
       "<text x=\"68.641016\" y=\"62.641016\" fill=\"DimGray\" stroke=\"DimGray\" stroke-width=\"1\" font-size=\"16\">H</text>\n",
       "<text x=\"143.282032\" y=\"82.641016\" fill=\"DimGray\" stroke=\"DimGray\" stroke-width=\"1\" font-size=\"16\">H</text>\n",
       "<text x=\"123.282032\" y=\"48.000000\" fill=\"DimGray\" stroke=\"DimGray\" stroke-width=\"1\" font-size=\"16\">H</text>\n",
       "</svg>\n",
       "</g>\n",
       "</svg>"
      ],
      "text/plain": [
       "<IPython.core.display.SVG object>"
      ]
     },
     "metadata": {},
     "output_type": "display_data"
    },
    {
     "name": "stdout",
     "output_type": "stream",
     "text": [
      "H14C10O:mol-44317\n"
     ]
    }
   ],
   "source": [
    "from IPython.display import SVG\n",
    "for doc in docs[:3]:\n",
    "    formula = doc.formula_pretty\n",
    "    mpid = doc.task_id\n",
    "    pic = doc.svg\n",
    "    display(SVG(doc.svg))\n",
    "    print(formula+':'+mpid)"
   ]
  },
  {
   "cell_type": "code",
   "execution_count": 34,
   "metadata": {},
   "outputs": [
    {
     "data": {
      "text/plain": [
       "Molecule Summary\n",
       "Site: C (0.8587, -0.3736, 0.0007)\n",
       "Site: C (0.1160, 0.8173, 0.0004)\n",
       "Site: C (0.1554, -1.5828, 0.0007)\n",
       "Site: C (2.3820, -0.3582, 0.0002)\n",
       "Site: C (-1.2794, 0.7937, -0.0000)\n",
       "Site: C (-1.2436, -1.5951, 0.0003)\n",
       "Site: C (2.9566, 0.3004, -1.2695)\n",
       "Site: C (2.9579, 0.3020, 1.2683)\n",
       "Site: C (-1.9947, -0.4174, -0.0000)\n",
       "Site: O (-2.0268, 1.9500, -0.0005)\n",
       "Site: C (-3.5030, -0.4194, -0.0001)\n",
       "Site: H (0.6275, 1.7797, 0.0005)\n",
       "Site: H (0.7021, -2.5232, 0.0010)\n",
       "Site: H (2.7073, -1.4077, 0.0006)\n",
       "Site: H (-1.7685, -2.5484, 0.0002)\n",
       "Site: H (2.6992, 1.3660, -1.3178)\n",
       "Site: H (2.5702, -0.1789, -2.1762)\n",
       "Site: H (4.0512, 0.2230, -1.2816)\n",
       "Site: H (2.7003, 1.3676, 1.3157)\n",
       "Site: H (4.0525, 0.2249, 1.2794)\n",
       "Site: H (2.5727, -0.1763, 2.1761)\n",
       "Site: H (-1.4371, 2.7196, 0.0007)\n",
       "Site: H (-3.9055, 0.0984, 0.8794)\n",
       "Site: H (-3.8874, -1.4446, -0.0004)\n",
       "Site: H (-3.9055, 0.0988, -0.8795)"
      ]
     },
     "execution_count": 34,
     "metadata": {},
     "output_type": "execute_result"
    }
   ],
   "source": [
    "doc.molecule"
   ]
  },
  {
   "cell_type": "code",
   "execution_count": 35,
   "metadata": {},
   "outputs": [],
   "source": [
    "from pymatgen.io.ase import AseAtomsAdaptor\n",
    "from ase import Atoms\n",
    "\n",
    "at = Atoms(AseAtomsAdaptor.get_atoms(doc.molecule))"
   ]
  },
  {
   "cell_type": "code",
   "execution_count": 36,
   "metadata": {},
   "outputs": [
    {
     "data": {
      "application/vnd.jupyter.widget-view+json": {
       "model_id": "4d98729d0a424edcbf23e1aefc8d334e",
       "version_major": 2,
       "version_minor": 0
      },
      "text/plain": [
       "NGLWidget()"
      ]
     },
     "metadata": {},
     "output_type": "display_data"
    }
   ],
   "source": [
    "import nglview as ngl\n",
    "\n",
    "ngl.show_ase(at)"
   ]
  }
 ],
 "metadata": {
  "kernelspec": {
   "display_name": "elec-chem-dev",
   "language": "python",
   "name": "python3"
  },
  "language_info": {
   "codemirror_mode": {
    "name": "ipython",
    "version": 3
   },
   "file_extension": ".py",
   "mimetype": "text/x-python",
   "name": "python",
   "nbconvert_exporter": "python",
   "pygments_lexer": "ipython3",
   "version": "3.10.14"
  }
 },
 "nbformat": 4,
 "nbformat_minor": 2
}
