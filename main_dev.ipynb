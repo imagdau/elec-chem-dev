{
 "cells": [
  {
   "cell_type": "markdown",
   "metadata": {},
   "source": [
    "# 29th March 2024"
   ]
  },
  {
   "cell_type": "code",
   "execution_count": 1,
   "metadata": {},
   "outputs": [],
   "source": [
    "import warnings\n",
    "from mp_api.client import MPRester\n",
    "warnings.filterwarnings(\"ignore\")\n",
    "\n",
    "with open(\"api.key\", \"r\") as keyFile:\n",
    "    API_KEY = keyFile.readline().rstrip()\n",
    "\n",
    "mpr = MPRester(API_KEY)"
   ]
  },
  {
   "cell_type": "code",
   "execution_count": 2,
   "metadata": {},
   "outputs": [
    {
     "data": {
      "application/vnd.jupyter.widget-view+json": {
       "model_id": "7d4a4405433a445989d88fe1872df606",
       "version_major": 2,
       "version_minor": 0
      },
      "text/plain": [
       "Retrieving SummaryDoc documents:   0%|          | 0/3 [00:00<?, ?it/s]"
      ]
     },
     "metadata": {},
     "output_type": "display_data"
    }
   ],
   "source": [
    "docs = mpr.summary.search(material_ids=[\"mp-149\", \"mp-13\", \"mp-22526\"])"
   ]
  },
  {
   "cell_type": "code",
   "execution_count": 3,
   "metadata": {},
   "outputs": [],
   "source": [
    "example_doc = docs[0]\n",
    "\n",
    "mpid = example_doc.material_id\n",
    "formula = example_doc.formula_pretty"
   ]
  },
  {
   "cell_type": "code",
   "execution_count": 4,
   "metadata": {},
   "outputs": [
    {
     "name": "stdout",
     "output_type": "stream",
     "text": [
      "['builder_meta', 'nsites', 'elements', 'nelements', 'composition', 'composition_reduced', 'formula_pretty', 'formula_anonymous', 'chemsys', 'volume', 'density', 'density_atomic', 'symmetry', 'property_name', 'material_id', 'deprecated', 'deprecation_reasons', 'last_updated', 'origins', 'warnings', 'structure', 'task_ids', 'uncorrected_energy_per_atom', 'energy_per_atom', 'formation_energy_per_atom', 'energy_above_hull', 'is_stable', 'equilibrium_reaction_energy_per_atom', 'decomposes_to', 'xas', 'grain_boundaries', 'band_gap', 'cbm', 'vbm', 'efermi', 'is_gap_direct', 'is_metal', 'es_source_calc_id', 'bandstructure', 'dos', 'dos_energy_up', 'dos_energy_down', 'is_magnetic', 'ordering', 'total_magnetization', 'total_magnetization_normalized_vol', 'total_magnetization_normalized_formula_units', 'num_magnetic_sites', 'num_unique_magnetic_sites', 'types_of_magnetic_species', 'bulk_modulus', 'shear_modulus', 'universal_anisotropy', 'homogeneous_poisson', 'e_total', 'e_ionic', 'e_electronic', 'n', 'e_ij_max', 'weighted_surface_energy_EV_PER_ANG2', 'weighted_surface_energy', 'weighted_work_function', 'surface_anisotropy', 'shape_factor', 'has_reconstructed', 'possible_species', 'has_props', 'theoretical', 'database_IDs']\n"
     ]
    }
   ],
   "source": [
    "list_of_available_fields = mpr.summary.available_fields\n",
    "print(list_of_available_fields)"
   ]
  },
  {
   "cell_type": "code",
   "execution_count": 5,
   "metadata": {},
   "outputs": [
    {
     "data": {
      "text/plain": [
       "['builder_meta',\n",
       " 'nsites',\n",
       " 'elements',\n",
       " 'nelements',\n",
       " 'composition',\n",
       " 'composition_reduced',\n",
       " 'formula_pretty',\n",
       " 'formula_anonymous',\n",
       " 'chemsys',\n",
       " 'volume',\n",
       " 'density',\n",
       " 'density_atomic',\n",
       " 'symmetry',\n",
       " 'property_name',\n",
       " 'material_id',\n",
       " 'deprecated',\n",
       " 'deprecation_reasons',\n",
       " 'last_updated',\n",
       " 'origins',\n",
       " 'warnings',\n",
       " 'structure',\n",
       " 'task_ids',\n",
       " 'uncorrected_energy_per_atom',\n",
       " 'energy_per_atom',\n",
       " 'formation_energy_per_atom',\n",
       " 'energy_above_hull',\n",
       " 'is_stable',\n",
       " 'equilibrium_reaction_energy_per_atom',\n",
       " 'decomposes_to',\n",
       " 'xas',\n",
       " 'grain_boundaries',\n",
       " 'band_gap',\n",
       " 'cbm',\n",
       " 'vbm',\n",
       " 'efermi',\n",
       " 'is_gap_direct',\n",
       " 'is_metal',\n",
       " 'es_source_calc_id',\n",
       " 'bandstructure',\n",
       " 'dos',\n",
       " 'dos_energy_up',\n",
       " 'dos_energy_down',\n",
       " 'is_magnetic',\n",
       " 'ordering',\n",
       " 'total_magnetization',\n",
       " 'total_magnetization_normalized_vol',\n",
       " 'total_magnetization_normalized_formula_units',\n",
       " 'num_magnetic_sites',\n",
       " 'num_unique_magnetic_sites',\n",
       " 'types_of_magnetic_species',\n",
       " 'bulk_modulus',\n",
       " 'shear_modulus',\n",
       " 'universal_anisotropy',\n",
       " 'homogeneous_poisson',\n",
       " 'e_total',\n",
       " 'e_ionic',\n",
       " 'e_electronic',\n",
       " 'n',\n",
       " 'e_ij_max',\n",
       " 'weighted_surface_energy_EV_PER_ANG2',\n",
       " 'weighted_surface_energy',\n",
       " 'weighted_work_function',\n",
       " 'surface_anisotropy',\n",
       " 'shape_factor',\n",
       " 'has_reconstructed',\n",
       " 'possible_species',\n",
       " 'has_props',\n",
       " 'theoretical',\n",
       " 'database_IDs']"
      ]
     },
     "execution_count": 5,
     "metadata": {},
     "output_type": "execute_result"
    }
   ],
   "source": [
    "list_of_available_fields"
   ]
  },
  {
   "cell_type": "code",
   "execution_count": 6,
   "metadata": {},
   "outputs": [
    {
     "data": {
      "application/vnd.jupyter.widget-view+json": {
       "model_id": "e45e4e87107a4e99b7a390f5bb7d02ac",
       "version_major": 2,
       "version_minor": 0
      },
      "text/plain": [
       "Retrieving MoleculesDoc documents:   0%|          | 0/1813 [00:00<?, ?it/s]"
      ]
     },
     "metadata": {},
     "output_type": "display_data"
    }
   ],
   "source": [
    "docs = mpr.molecules.jcesr.search(elements=['H', 'C', 'O'], nelements=(3,3), charge=(0,0))"
   ]
  },
  {
   "cell_type": "code",
   "execution_count": 7,
   "metadata": {},
   "outputs": [
    {
     "data": {
      "image/svg+xml": [
       "<svg xmlns=\"http://www.w3.org/2000/svg\" xmlns:xlink=\"http://www.w3.org/1999/xlink\" xmlns:cml=\"http://www.xml-cml.org/schema\" version=\"1.1\" id=\"topsvg\" x=\"0\" y=\"0\" width=\"200px\" height=\"200px\" viewBox=\"0 0 100 100\">\n",
       "<title>Multiple Molecules - Open Babel Depiction</title>\n",
       "<rect x=\"0\" y=\"0\" width=\"100\" height=\"100\" fill=\"Beige\"/>\n",
       "<text text-anchor=\"middle\" font-size=\"6\" fill=\"black\" font-family=\"sans-serif\" x=\"50\" y=\"98\"/>\n",
       "<g transform=\"translate(0,0)\">\n",
       "<svg width=\"100\" height=\"100\" x=\"0\" y=\"0\" viewBox=\"0 0 391.458 304.426\" font-family=\"sans-serif\" stroke=\"rgb(0,0,0)\" stroke-width=\"3.0\" stroke-linecap=\"round\">\n",
       "<line x1=\"181.8\" y1=\"220.4\" x2=\"181.8\" y2=\"247.4\" stroke=\"rgb(0,0,0)\" stroke-width=\"3.0\"/>\n",
       "<line x1=\"175.8\" y1=\"220.4\" x2=\"175.8\" y2=\"247.4\" stroke=\"rgb(0,0,0)\" stroke-width=\"3.0\"/>\n",
       "<polygon points=\"178.842351 100.055903 182.842860 140.166775 174.842860 140.166876 \" stroke-width=\"2.000000\" fill=\"rgb(0,0,0)\" stroke=\"rgb(0,0,0)\"/>\n",
       "<line x1=\"216.6\" y1=\"53.0\" x2=\"216.6\" y2=\"80.0\" stroke=\"rgb(0,0,0)\" stroke-width=\"3.0\"/>\n",
       "<line x1=\"210.6\" y1=\"53.0\" x2=\"210.6\" y2=\"80.0\" stroke=\"rgb(0,0,0)\" stroke-width=\"3.0\"/>\n",
       "<line x1=\"109.4\" y1=\"247.4\" x2=\"109.4\" y2=\"220.4\" stroke=\"rgb(0,0,0)\" stroke-width=\"3.0\"/>\n",
       "<line x1=\"283.0\" y1=\"200.3\" x2=\"311.4\" y2=\"228.7\" stroke=\"rgb(0,0,0)\" stroke-width=\"3.0\"/>\n",
       "<line x1=\"338.5\" y1=\"227.3\" x2=\"311.4\" y2=\"228.7\" stroke=\"rgb(0,0,0)\" stroke-width=\"3.0\"/>\n",
       "<line x1=\"144.1\" y1=\"80.0\" x2=\"144.1\" y2=\"53.0\" stroke=\"rgb(0,0,0)\" stroke-width=\"3.0\"/>\n",
       "<line x1=\"109.4\" y1=\"100.1\" x2=\"86.0\" y2=\"86.6\" stroke=\"rgb(0,0,0)\" stroke-width=\"3.0\"/>\n",
       "<line x1=\"277.8\" y1=\"90.9\" x2=\"282.1\" y2=\"62.8\" stroke=\"rgb(0,0,0)\" stroke-width=\"3.0\"/>\n",
       "<line x1=\"305.7\" y1=\"139.2\" x2=\"332.2\" y2=\"149.6\" stroke=\"rgb(0,0,0)\" stroke-width=\"3.0\"/>\n",
       "<line x1=\"311.4\" y1=\"228.7\" x2=\"299.1\" y2=\"252.8\" stroke=\"rgb(0,0,0)\" stroke-width=\"3.0\"/>\n",
       "<line x1=\"303.4\" y1=\"108.3\" x2=\"328.0\" y2=\"94.1\" stroke=\"rgb(0,0,0)\" stroke-width=\"3.0\"/>\n",
       "<line x1=\"74.6\" y1=\"200.3\" x2=\"51.3\" y2=\"213.8\" stroke=\"rgb(0,0,0)\" stroke-width=\"3.0\"/>\n",
       "<line x1=\"74.6\" y1=\"160.2\" x2=\"51.3\" y2=\"146.7\" stroke=\"rgb(0,0,0)\" stroke-width=\"3.0\"/>\n",
       "<line x1=\"213.6\" y1=\"160.2\" x2=\"213.6\" y2=\"200.3\" stroke=\"rgb(0,0,0)\" stroke-width=\"3.0\"/>\n",
       "<line x1=\"213.6\" y1=\"200.3\" x2=\"283.0\" y2=\"200.3\" stroke=\"rgb(0,0,0)\" stroke-width=\"3.0\"/>\n",
       "<line x1=\"219.6\" y1=\"193.1\" x2=\"277.0\" y2=\"193.1\" stroke=\"rgb(0,0,0)\" stroke-width=\"3.0\"/>\n",
       "<line x1=\"283.0\" y1=\"200.3\" x2=\"283.0\" y2=\"160.2\" stroke=\"rgb(0,0,0)\" stroke-width=\"3.0\"/>\n",
       "<line x1=\"283.0\" y1=\"160.2\" x2=\"248.3\" y2=\"140.2\" stroke=\"rgb(0,0,0)\" stroke-width=\"3.0\"/>\n",
       "<line x1=\"248.3\" y1=\"140.2\" x2=\"213.6\" y2=\"160.2\" stroke=\"rgb(0,0,0)\" stroke-width=\"3.0\"/>\n",
       "<line x1=\"178.8\" y1=\"220.4\" x2=\"213.6\" y2=\"200.3\" stroke=\"rgb(0,0,0)\" stroke-width=\"3.0\"/>\n",
       "<line x1=\"213.6\" y1=\"160.2\" x2=\"178.8\" y2=\"140.2\" stroke=\"rgb(0,0,0)\" stroke-width=\"3.0\"/>\n",
       "<line x1=\"204.8\" y1=\"163.4\" x2=\"180.4\" y2=\"149.4\" stroke=\"rgb(0,0,0)\" stroke-width=\"3.0\"/>\n",
       "<line x1=\"178.8\" y1=\"140.2\" x2=\"144.1\" y2=\"160.2\" stroke=\"rgb(0,0,0)\" stroke-width=\"3.0\"/>\n",
       "<line x1=\"144.1\" y1=\"160.2\" x2=\"144.1\" y2=\"200.3\" stroke=\"rgb(0,0,0)\" stroke-width=\"3.0\"/>\n",
       "<line x1=\"144.1\" y1=\"200.3\" x2=\"178.8\" y2=\"220.4\" stroke=\"rgb(0,0,0)\" stroke-width=\"3.0\"/>\n",
       "<line x1=\"213.6\" y1=\"80.0\" x2=\"178.8\" y2=\"100.1\" stroke=\"rgb(0,0,0)\" stroke-width=\"3.0\"/>\n",
       "<line x1=\"178.8\" y1=\"100.1\" x2=\"178.8\" y2=\"140.2\" stroke=\"rgb(0,0,0)\" stroke-width=\"3.0\"/>\n",
       "<line x1=\"248.3\" y1=\"140.2\" x2=\"248.3\" y2=\"100.0\" stroke=\"rgb(0,0,0)\" stroke-width=\"3.0\"/>\n",
       "<line x1=\"241.1\" y1=\"134.2\" x2=\"241.1\" y2=\"106.0\" stroke=\"rgb(0,0,0)\" stroke-width=\"3.0\"/>\n",
       "<line x1=\"248.3\" y1=\"100.0\" x2=\"213.6\" y2=\"80.0\" stroke=\"rgb(0,0,0)\" stroke-width=\"3.0\"/>\n",
       "<line x1=\"303.4\" y1=\"108.3\" x2=\"277.8\" y2=\"90.9\" stroke=\"rgb(0,0,0)\" stroke-width=\"3.0\"/>\n",
       "<line x1=\"294.4\" y1=\"110.9\" x2=\"278.7\" y2=\"100.3\" stroke=\"rgb(0,0,0)\" stroke-width=\"3.0\"/>\n",
       "<line x1=\"277.8\" y1=\"90.9\" x2=\"248.3\" y2=\"100.0\" stroke=\"rgb(0,0,0)\" stroke-width=\"3.0\"/>\n",
       "<line x1=\"283.0\" y1=\"160.2\" x2=\"305.7\" y2=\"139.2\" stroke=\"rgb(0,0,0)\" stroke-width=\"3.0\"/>\n",
       "<line x1=\"282.5\" y1=\"150.9\" x2=\"296.4\" y2=\"138.0\" stroke=\"rgb(0,0,0)\" stroke-width=\"3.0\"/>\n",
       "<line x1=\"305.7\" y1=\"139.2\" x2=\"303.4\" y2=\"108.3\" stroke=\"rgb(0,0,0)\" stroke-width=\"3.0\"/>\n",
       "<line x1=\"109.4\" y1=\"100.1\" x2=\"109.4\" y2=\"140.2\" stroke=\"rgb(0,0,0)\" stroke-width=\"3.0\"/>\n",
       "<line x1=\"109.4\" y1=\"140.2\" x2=\"144.1\" y2=\"160.2\" stroke=\"rgb(0,0,0)\" stroke-width=\"3.0\"/>\n",
       "<line x1=\"118.2\" y1=\"136.9\" x2=\"142.5\" y2=\"151.0\" stroke=\"rgb(0,0,0)\" stroke-width=\"3.0\"/>\n",
       "<line x1=\"178.8\" y1=\"100.1\" x2=\"144.1\" y2=\"80.0\" stroke=\"rgb(0,0,0)\" stroke-width=\"3.0\"/>\n",
       "<line x1=\"144.1\" y1=\"80.0\" x2=\"109.4\" y2=\"100.1\" stroke=\"rgb(0,0,0)\" stroke-width=\"3.0\"/>\n",
       "<line x1=\"142.5\" y1=\"89.2\" x2=\"118.2\" y2=\"103.3\" stroke=\"rgb(0,0,0)\" stroke-width=\"3.0\"/>\n",
       "<line x1=\"144.1\" y1=\"200.3\" x2=\"109.4\" y2=\"220.4\" stroke=\"rgb(0,0,0)\" stroke-width=\"3.0\"/>\n",
       "<line x1=\"135.3\" y1=\"197.1\" x2=\"111.0\" y2=\"211.1\" stroke=\"rgb(0,0,0)\" stroke-width=\"3.0\"/>\n",
       "<line x1=\"109.4\" y1=\"220.4\" x2=\"74.6\" y2=\"200.3\" stroke=\"rgb(0,0,0)\" stroke-width=\"3.0\"/>\n",
       "<line x1=\"74.6\" y1=\"200.3\" x2=\"74.6\" y2=\"160.2\" stroke=\"rgb(0,0,0)\" stroke-width=\"3.0\"/>\n",
       "<line x1=\"81.8\" y1=\"194.3\" x2=\"81.8\" y2=\"166.2\" stroke=\"rgb(0,0,0)\" stroke-width=\"3.0\"/>\n",
       "<line x1=\"74.6\" y1=\"160.2\" x2=\"109.4\" y2=\"140.2\" stroke=\"rgb(0,0,0)\" stroke-width=\"3.0\"/>\n",
       "<text x=\"183.642351\" y=\"96.023903\" fill=\"rgb(102,102,102)\" stroke=\"rgb(102,102,102)\" stroke-width=\"1\" font-size=\"16\"/>\n",
       "<text x=\"183.642351\" y=\"96.023903\" fill=\"rgb(102,102,102)\" stroke=\"rgb(102,102,102)\" stroke-width=\"1\" font-size=\"32\">.</text>\n",
       "<text x=\"316.201724\" y=\"224.655211\" fill=\"rgb(102,102,102)\" stroke=\"rgb(102,102,102)\" stroke-width=\"1\" font-size=\"16\"/>\n",
       "<text x=\"316.201724\" y=\"224.655211\" fill=\"rgb(102,102,102)\" stroke=\"rgb(102,102,102)\" stroke-width=\"1\" font-size=\"32\">.</text>\n",
       "<text x=\"172.831283\" y=\"268.350875\" fill=\"rgb(255,12,12)\" stroke=\"rgb(255,12,12)\" stroke-width=\"1\" font-size=\"16\">O</text>\n",
       "<text x=\"207.584939\" y=\"48.011282\" fill=\"rgb(255,12,12)\" stroke=\"rgb(255,12,12)\" stroke-width=\"1\" font-size=\"16\">O</text>\n",
       "<text x=\"287.191746\" y=\"272.426305\" fill=\"DimGray\" stroke=\"DimGray\" stroke-width=\"1\" font-size=\"16\">H</text>\n",
       "<text x=\"138.104762\" y=\"48.000000\" fill=\"DimGray\" stroke=\"DimGray\" stroke-width=\"1\" font-size=\"16\">H</text>\n",
       "<text x=\"278.021659\" y=\"57.954682\" fill=\"DimGray\" stroke=\"DimGray\" stroke-width=\"1\" font-size=\"16\">H</text>\n",
       "<text x=\"345.457676\" y=\"234.587968\" fill=\"DimGray\" stroke=\"DimGray\" stroke-width=\"1\" font-size=\"16\">H</text>\n",
       "<text x=\"338.280120\" y=\"162.322337\" fill=\"DimGray\" stroke=\"DimGray\" stroke-width=\"1\" font-size=\"16\">H</text>\n",
       "<text x=\"103.373477\" y=\"268.360021\" fill=\"DimGray\" stroke=\"DimGray\" stroke-width=\"1\" font-size=\"16\">H</text>\n",
       "<text x=\"68.726159\" y=\"88.055020\" fill=\"DimGray\" stroke=\"DimGray\" stroke-width=\"1\" font-size=\"16\">H</text>\n",
       "<text x=\"34.001865\" y=\"148.199262\" fill=\"DimGray\" stroke=\"DimGray\" stroke-width=\"1\" font-size=\"16\">H</text>\n",
       "<text x=\"333.281296\" y=\"95.629037\" fill=\"DimGray\" stroke=\"DimGray\" stroke-width=\"1\" font-size=\"16\">H</text>\n",
       "<text x=\"34.000000\" y=\"228.314737\" fill=\"DimGray\" stroke=\"DimGray\" stroke-width=\"1\" font-size=\"16\">H</text>\n",
       "</svg>\n",
       "</g>\n",
       "</svg>"
      ],
      "text/plain": [
       "<IPython.core.display.SVG object>"
      ]
     },
     "metadata": {},
     "output_type": "display_data"
    },
    {
     "name": "stdout",
     "output_type": "stream",
     "text": [
      "H5C11O:mol-45827\n"
     ]
    },
    {
     "data": {
      "image/svg+xml": [
       "<svg xmlns=\"http://www.w3.org/2000/svg\" xmlns:xlink=\"http://www.w3.org/1999/xlink\" xmlns:cml=\"http://www.xml-cml.org/schema\" version=\"1.1\" id=\"topsvg\" x=\"0\" y=\"0\" width=\"200px\" height=\"200px\" viewBox=\"0 0 100 100\">\n",
       "<title>Multiple Molecules - Open Babel Depiction</title>\n",
       "<rect x=\"0\" y=\"0\" width=\"100\" height=\"100\" fill=\"Beige\"/>\n",
       "<text text-anchor=\"middle\" font-size=\"6\" fill=\"black\" font-family=\"sans-serif\" x=\"50\" y=\"98\"/>\n",
       "<g transform=\"translate(0,0)\">\n",
       "<svg width=\"100\" height=\"100\" x=\"0\" y=\"0\" viewBox=\"0 0 357.128 300\" font-family=\"sans-serif\" stroke=\"rgb(0,0,0)\" stroke-width=\"3.0\" stroke-linecap=\"round\">\n",
       "<line x1=\"153.7\" y1=\"210.9\" x2=\"177.1\" y2=\"197.4\" stroke=\"rgb(0,0,0)\" stroke-width=\"3.0\"/>\n",
       "<line x1=\"156.7\" y1=\"216.1\" x2=\"180.1\" y2=\"202.6\" stroke=\"rgb(0,0,0)\" stroke-width=\"3.0\"/>\n",
       "<line x1=\"109.3\" y1=\"187.0\" x2=\"109.3\" y2=\"160.0\" stroke=\"rgb(0,0,0)\" stroke-width=\"3.0\"/>\n",
       "<line x1=\"247.8\" y1=\"187.0\" x2=\"247.8\" y2=\"160.0\" stroke=\"rgb(0,0,0)\" stroke-width=\"3.0\"/>\n",
       "<line x1=\"51.3\" y1=\"153.5\" x2=\"74.6\" y2=\"140.0\" stroke=\"rgb(0,0,0)\" stroke-width=\"3.0\"/>\n",
       "<line x1=\"178.6\" y1=\"200.0\" x2=\"178.6\" y2=\"160.0\" stroke=\"rgb(0,0,0)\" stroke-width=\"3.0\"/>\n",
       "<line x1=\"178.6\" y1=\"200.0\" x2=\"213.2\" y2=\"220.0\" stroke=\"rgb(0,0,0)\" stroke-width=\"3.0\"/>\n",
       "<line x1=\"305.9\" y1=\"153.5\" x2=\"282.5\" y2=\"140.0\" stroke=\"rgb(0,0,0)\" stroke-width=\"3.0\"/>\n",
       "<line x1=\"74.6\" y1=\"100.0\" x2=\"51.3\" y2=\"86.5\" stroke=\"rgb(0,0,0)\" stroke-width=\"3.0\"/>\n",
       "<line x1=\"109.3\" y1=\"80.0\" x2=\"109.3\" y2=\"53.0\" stroke=\"rgb(0,0,0)\" stroke-width=\"3.0\"/>\n",
       "<line x1=\"282.5\" y1=\"100.0\" x2=\"305.9\" y2=\"86.5\" stroke=\"rgb(0,0,0)\" stroke-width=\"3.0\"/>\n",
       "<line x1=\"178.6\" y1=\"80.0\" x2=\"178.6\" y2=\"53.0\" stroke=\"rgb(0,0,0)\" stroke-width=\"3.0\"/>\n",
       "<line x1=\"247.8\" y1=\"80.0\" x2=\"247.8\" y2=\"53.0\" stroke=\"rgb(0,0,0)\" stroke-width=\"3.0\"/>\n",
       "<line x1=\"240.2\" y1=\"220.0\" x2=\"213.2\" y2=\"220.0\" stroke=\"rgb(0,0,0)\" stroke-width=\"3.0\"/>\n",
       "<line x1=\"213.2\" y1=\"220.0\" x2=\"226.7\" y2=\"196.6\" stroke=\"rgb(0,0,0)\" stroke-width=\"3.0\"/>\n",
       "<line x1=\"213.2\" y1=\"220.0\" x2=\"213.2\" y2=\"247.0\" stroke=\"rgb(0,0,0)\" stroke-width=\"3.0\"/>\n",
       "<line x1=\"143.9\" y1=\"140.0\" x2=\"178.6\" y2=\"160.0\" stroke=\"rgb(0,0,0)\" stroke-width=\"3.0\"/>\n",
       "<line x1=\"152.7\" y1=\"136.8\" x2=\"177.0\" y2=\"150.8\" stroke=\"rgb(0,0,0)\" stroke-width=\"3.0\"/>\n",
       "<line x1=\"178.6\" y1=\"160.0\" x2=\"213.2\" y2=\"140.0\" stroke=\"rgb(0,0,0)\" stroke-width=\"3.0\"/>\n",
       "<line x1=\"213.2\" y1=\"140.0\" x2=\"213.2\" y2=\"100.0\" stroke=\"rgb(0,0,0)\" stroke-width=\"3.0\"/>\n",
       "<line x1=\"213.2\" y1=\"100.0\" x2=\"178.6\" y2=\"80.0\" stroke=\"rgb(0,0,0)\" stroke-width=\"3.0\"/>\n",
       "<line x1=\"178.6\" y1=\"80.0\" x2=\"143.9\" y2=\"100.0\" stroke=\"rgb(0,0,0)\" stroke-width=\"3.0\"/>\n",
       "<line x1=\"177.0\" y1=\"89.2\" x2=\"152.7\" y2=\"103.2\" stroke=\"rgb(0,0,0)\" stroke-width=\"3.0\"/>\n",
       "<line x1=\"143.9\" y1=\"100.0\" x2=\"143.9\" y2=\"140.0\" stroke=\"rgb(0,0,0)\" stroke-width=\"3.0\"/>\n",
       "<line x1=\"247.8\" y1=\"160.0\" x2=\"282.5\" y2=\"140.0\" stroke=\"rgb(0,0,0)\" stroke-width=\"3.0\"/>\n",
       "<line x1=\"282.5\" y1=\"140.0\" x2=\"282.5\" y2=\"100.0\" stroke=\"rgb(0,0,0)\" stroke-width=\"3.0\"/>\n",
       "<line x1=\"275.3\" y1=\"134.0\" x2=\"275.3\" y2=\"106.0\" stroke=\"rgb(0,0,0)\" stroke-width=\"3.0\"/>\n",
       "<line x1=\"282.5\" y1=\"100.0\" x2=\"247.8\" y2=\"80.0\" stroke=\"rgb(0,0,0)\" stroke-width=\"3.0\"/>\n",
       "<line x1=\"247.8\" y1=\"80.0\" x2=\"213.2\" y2=\"100.0\" stroke=\"rgb(0,0,0)\" stroke-width=\"3.0\"/>\n",
       "<line x1=\"246.2\" y1=\"89.2\" x2=\"222.0\" y2=\"103.2\" stroke=\"rgb(0,0,0)\" stroke-width=\"3.0\"/>\n",
       "<line x1=\"213.2\" y1=\"140.0\" x2=\"247.8\" y2=\"160.0\" stroke=\"rgb(0,0,0)\" stroke-width=\"3.0\"/>\n",
       "<line x1=\"222.0\" y1=\"136.8\" x2=\"246.2\" y2=\"150.8\" stroke=\"rgb(0,0,0)\" stroke-width=\"3.0\"/>\n",
       "<line x1=\"109.3\" y1=\"160.0\" x2=\"143.9\" y2=\"140.0\" stroke=\"rgb(0,0,0)\" stroke-width=\"3.0\"/>\n",
       "<line x1=\"143.9\" y1=\"100.0\" x2=\"109.3\" y2=\"80.0\" stroke=\"rgb(0,0,0)\" stroke-width=\"3.0\"/>\n",
       "<line x1=\"109.3\" y1=\"80.0\" x2=\"74.6\" y2=\"100.0\" stroke=\"rgb(0,0,0)\" stroke-width=\"3.0\"/>\n",
       "<line x1=\"107.7\" y1=\"89.2\" x2=\"83.4\" y2=\"103.2\" stroke=\"rgb(0,0,0)\" stroke-width=\"3.0\"/>\n",
       "<line x1=\"74.6\" y1=\"100.0\" x2=\"74.6\" y2=\"140.0\" stroke=\"rgb(0,0,0)\" stroke-width=\"3.0\"/>\n",
       "<line x1=\"74.6\" y1=\"140.0\" x2=\"109.3\" y2=\"160.0\" stroke=\"rgb(0,0,0)\" stroke-width=\"3.0\"/>\n",
       "<line x1=\"83.4\" y1=\"136.8\" x2=\"107.7\" y2=\"150.8\" stroke=\"rgb(0,0,0)\" stroke-width=\"3.0\"/>\n",
       "<text x=\"137.923048\" y=\"228.000000\" fill=\"rgb(255,12,12)\" stroke=\"rgb(255,12,12)\" stroke-width=\"1\" font-size=\"16\">O</text>\n",
       "<text x=\"241.846097\" y=\"208.000000\" fill=\"DimGray\" stroke=\"DimGray\" stroke-width=\"1\" font-size=\"16\">H</text>\n",
       "<text x=\"103.282032\" y=\"208.000000\" fill=\"DimGray\" stroke=\"DimGray\" stroke-width=\"1\" font-size=\"16\">H</text>\n",
       "<text x=\"227.205081\" y=\"193.358984\" fill=\"DimGray\" stroke=\"DimGray\" stroke-width=\"1\" font-size=\"16\">H</text>\n",
       "<text x=\"247.205081\" y=\"228.000000\" fill=\"DimGray\" stroke=\"DimGray\" stroke-width=\"1\" font-size=\"16\">H</text>\n",
       "<text x=\"207.205081\" y=\"268.000000\" fill=\"DimGray\" stroke=\"DimGray\" stroke-width=\"1\" font-size=\"16\">H</text>\n",
       "<text x=\"172.564065\" y=\"48.000000\" fill=\"DimGray\" stroke=\"DimGray\" stroke-width=\"1\" font-size=\"16\">H</text>\n",
       "<text x=\"241.846097\" y=\"48.000000\" fill=\"DimGray\" stroke=\"DimGray\" stroke-width=\"1\" font-size=\"16\">H</text>\n",
       "<text x=\"311.128129\" y=\"168.000000\" fill=\"DimGray\" stroke=\"DimGray\" stroke-width=\"1\" font-size=\"16\">H</text>\n",
       "<text x=\"103.282032\" y=\"48.000000\" fill=\"DimGray\" stroke=\"DimGray\" stroke-width=\"1\" font-size=\"16\">H</text>\n",
       "<text x=\"34.000000\" y=\"168.000000\" fill=\"DimGray\" stroke=\"DimGray\" stroke-width=\"1\" font-size=\"16\">H</text>\n",
       "<text x=\"311.128129\" y=\"88.000000\" fill=\"DimGray\" stroke=\"DimGray\" stroke-width=\"1\" font-size=\"16\">H</text>\n",
       "<text x=\"34.000000\" y=\"88.000000\" fill=\"DimGray\" stroke=\"DimGray\" stroke-width=\"1\" font-size=\"16\">H</text>\n",
       "</svg>\n",
       "</g>\n",
       "</svg>"
      ],
      "text/plain": [
       "<IPython.core.display.SVG object>"
      ]
     },
     "metadata": {},
     "output_type": "display_data"
    },
    {
     "name": "stdout",
     "output_type": "stream",
     "text": [
      "H12C16O:mol-54787\n"
     ]
    },
    {
     "data": {
      "image/svg+xml": [
       "<svg xmlns=\"http://www.w3.org/2000/svg\" xmlns:xlink=\"http://www.w3.org/1999/xlink\" xmlns:cml=\"http://www.xml-cml.org/schema\" version=\"1.1\" id=\"topsvg\" x=\"0\" y=\"0\" width=\"200px\" height=\"200px\" viewBox=\"0 0 100 100\">\n",
       "<title>Multiple Molecules - Open Babel Depiction</title>\n",
       "<rect x=\"0\" y=\"0\" width=\"100\" height=\"100\" fill=\"Beige\"/>\n",
       "<text text-anchor=\"middle\" font-size=\"6\" fill=\"black\" font-family=\"sans-serif\" x=\"50\" y=\"98\"/>\n",
       "<g transform=\"translate(0,0)\">\n",
       "<svg width=\"100\" height=\"100\" x=\"0\" y=\"0\" viewBox=\"0 0 249.078 344.54\" font-family=\"sans-serif\" stroke=\"rgb(0,0,0)\" stroke-width=\"3.0\" stroke-linecap=\"round\">\n",
       "<line x1=\"196.1\" y1=\"213.7\" x2=\"168.9\" y2=\"210.9\" stroke=\"rgb(0,0,0)\" stroke-width=\"3.0\"/>\n",
       "<line x1=\"145.7\" y1=\"291.6\" x2=\"148.5\" y2=\"264.3\" stroke=\"rgb(0,0,0)\" stroke-width=\"3.0\"/>\n",
       "<line x1=\"154.2\" y1=\"56.7\" x2=\"132.0\" y2=\"72.8\" stroke=\"rgb(0,0,0)\" stroke-width=\"3.0\"/>\n",
       "<line x1=\"157.0\" y1=\"84.0\" x2=\"132.0\" y2=\"72.8\" stroke=\"rgb(0,0,0)\" stroke-width=\"3.0\"/>\n",
       "<polygon points=\"115.443513 109.657236 128.307796 71.120244 135.609893 74.388175 \" stroke-width=\"2.000000\" fill=\"rgb(0,0,0)\" stroke=\"rgb(0,0,0)\"/>\n",
       "<line x1=\"132.0\" y1=\"72.8\" x2=\"115.9\" y2=\"50.5\" stroke=\"rgb(0,0,0)\" stroke-width=\"3.0\"/>\n",
       "<line x1=\"168.9\" y1=\"210.9\" x2=\"180.1\" y2=\"235.9\" stroke=\"rgb(0,0,0)\" stroke-width=\"3.0\"/>\n",
       "<line x1=\"168.9\" y1=\"210.9\" x2=\"171.7\" y2=\"183.6\" stroke=\"rgb(0,0,0)\" stroke-width=\"3.0\"/>\n",
       "<line x1=\"168.9\" y1=\"210.9\" x2=\"132.0\" y2=\"227.4\" stroke=\"rgb(0,0,0)\" stroke-width=\"3.0\"/>\n",
       "<line x1=\"148.5\" y1=\"264.3\" x2=\"123.4\" y2=\"275.5\" stroke=\"rgb(0,0,0)\" stroke-width=\"3.0\"/>\n",
       "<line x1=\"148.5\" y1=\"264.3\" x2=\"175.8\" y2=\"267.1\" stroke=\"rgb(0,0,0)\" stroke-width=\"3.0\"/>\n",
       "<line x1=\"148.5\" y1=\"264.3\" x2=\"132.0\" y2=\"227.4\" stroke=\"rgb(0,0,0)\" stroke-width=\"3.0\"/>\n",
       "<line x1=\"71.9\" y1=\"190.7\" x2=\"87.3\" y2=\"168.1\" stroke=\"rgb(0,0,0)\" stroke-width=\"3.0\"/>\n",
       "<line x1=\"66.7\" y1=\"106.1\" x2=\"80.4\" y2=\"129.9\" stroke=\"rgb(0,0,0)\" stroke-width=\"3.0\"/>\n",
       "<polygon points=\"115.443513 190.517349 135.609893 225.786409 128.307796 229.054341 \" stroke-width=\"2.000000\" fill=\"rgb(0,0,0)\" stroke=\"rgb(0,0,0)\"/>\n",
       "<line x1=\"60.0\" y1=\"134.1\" x2=\"87.3\" y2=\"132.1\" stroke=\"rgb(0,0,0)\" stroke-width=\"3.0\"/>\n",
       "<line x1=\"132.0\" y1=\"227.4\" x2=\"106.9\" y2=\"238.6\" stroke=\"rgb(0,0,0)\" stroke-width=\"3.0\"/>\n",
       "<line x1=\"87.3\" y1=\"168.1\" x2=\"60.0\" y2=\"166.0\" stroke=\"rgb(0,0,0)\" stroke-width=\"3.0\"/>\n",
       "<line x1=\"80.4\" y1=\"129.9\" x2=\"53.0\" y2=\"129.9\" stroke=\"rgb(0,0,0)\" stroke-width=\"3.0\"/>\n",
       "<line x1=\"87.3\" y1=\"132.1\" x2=\"71.9\" y2=\"109.4\" stroke=\"rgb(0,0,0)\" stroke-width=\"3.0\"/>\n",
       "<line x1=\"53.0\" y1=\"170.3\" x2=\"80.4\" y2=\"170.3\" stroke=\"rgb(0,0,0)\" stroke-width=\"3.0\"/>\n",
       "<line x1=\"80.4\" y1=\"170.3\" x2=\"66.7\" y2=\"194.1\" stroke=\"rgb(0,0,0)\" stroke-width=\"3.0\"/>\n",
       "<line x1=\"139.2\" y1=\"176.8\" x2=\"115.4\" y2=\"190.5\" stroke=\"rgb(0,0,0)\" stroke-width=\"3.0\"/>\n",
       "<line x1=\"115.4\" y1=\"190.5\" x2=\"87.3\" y2=\"168.1\" stroke=\"rgb(0,0,0)\" stroke-width=\"3.0\"/>\n",
       "<line x1=\"87.3\" y1=\"168.1\" x2=\"87.3\" y2=\"132.1\" stroke=\"rgb(0,0,0)\" stroke-width=\"3.0\"/>\n",
       "<line x1=\"87.3\" y1=\"132.1\" x2=\"115.4\" y2=\"109.7\" stroke=\"rgb(0,0,0)\" stroke-width=\"3.0\"/>\n",
       "<line x1=\"115.4\" y1=\"109.7\" x2=\"139.2\" y2=\"123.4\" stroke=\"rgb(0,0,0)\" stroke-width=\"3.0\"/>\n",
       "<line x1=\"150.5\" y1=\"142.9\" x2=\"150.5\" y2=\"157.3\" stroke=\"rgb(0,0,0)\" stroke-width=\"3.0\"/>\n",
       "<line x1=\"80.4\" y1=\"170.3\" x2=\"115.4\" y2=\"190.5\" stroke=\"rgb(0,0,0)\" stroke-width=\"3.0\"/>\n",
       "<line x1=\"115.4\" y1=\"109.7\" x2=\"80.4\" y2=\"129.9\" stroke=\"rgb(0,0,0)\" stroke-width=\"3.0\"/>\n",
       "<line x1=\"80.4\" y1=\"129.9\" x2=\"80.4\" y2=\"170.3\" stroke=\"rgb(0,0,0)\" stroke-width=\"3.0\"/>\n",
       "<text x=\"144.456969\" y=\"178.302321\" fill=\"rgb(255,12,12)\" stroke=\"rgb(255,12,12)\" stroke-width=\"1\" font-size=\"16\">O</text>\n",
       "<text x=\"144.456969\" y=\"137.872264\" fill=\"rgb(255,12,12)\" stroke=\"rgb(255,12,12)\" stroke-width=\"1\" font-size=\"16\">O</text>\n",
       "<text x=\"89.055819\" y=\"251.935707\" fill=\"DimGray\" stroke=\"DimGray\" stroke-width=\"1\" font-size=\"16\">H</text>\n",
       "<text x=\"58.533357\" y=\"209.485241\" fill=\"DimGray\" stroke=\"DimGray\" stroke-width=\"1\" font-size=\"16\">H</text>\n",
       "<text x=\"40.991413\" y=\"173.059018\" fill=\"DimGray\" stroke=\"DimGray\" stroke-width=\"1\" font-size=\"16\">H</text>\n",
       "<text x=\"54.215028\" y=\"213.315777\" fill=\"DimGray\" stroke=\"DimGray\" stroke-width=\"1\" font-size=\"16\">H</text>\n",
       "<text x=\"34.000000\" y=\"178.302321\" fill=\"DimGray\" stroke=\"DimGray\" stroke-width=\"1\" font-size=\"16\">H</text>\n",
       "<text x=\"203.078494\" y=\"223.053860\" fill=\"DimGray\" stroke=\"DimGray\" stroke-width=\"1\" font-size=\"16\">H</text>\n",
       "<text x=\"167.010687\" y=\"178.688420\" fill=\"DimGray\" stroke=\"DimGray\" stroke-width=\"1\" font-size=\"16\">H</text>\n",
       "<text x=\"179.377202\" y=\"255.808069\" fill=\"DimGray\" stroke=\"DimGray\" stroke-width=\"1\" font-size=\"16\">H</text>\n",
       "<text x=\"138.325360\" y=\"312.540025\" fill=\"DimGray\" stroke=\"DimGray\" stroke-width=\"1\" font-size=\"16\">H</text>\n",
       "<text x=\"105.571150\" y=\"288.838733\" fill=\"DimGray\" stroke=\"DimGray\" stroke-width=\"1\" font-size=\"16\">H</text>\n",
       "<text x=\"182.690800\" y=\"276.472217\" fill=\"DimGray\" stroke=\"DimGray\" stroke-width=\"1\" font-size=\"16\">H</text>\n",
       "<text x=\"40.991413\" y=\"143.115566\" fill=\"DimGray\" stroke=\"DimGray\" stroke-width=\"1\" font-size=\"16\">H</text>\n",
       "<text x=\"58.533357\" y=\"106.689344\" fill=\"DimGray\" stroke=\"DimGray\" stroke-width=\"1\" font-size=\"16\">H</text>\n",
       "<text x=\"34.000000\" y=\"137.872264\" fill=\"DimGray\" stroke=\"DimGray\" stroke-width=\"1\" font-size=\"16\">H</text>\n",
       "<text x=\"54.215028\" y=\"102.858808\" fill=\"DimGray\" stroke=\"DimGray\" stroke-width=\"1\" font-size=\"16\">H</text>\n",
       "<text x=\"158.713054\" y=\"57.052918\" fill=\"DimGray\" stroke=\"DimGray\" stroke-width=\"1\" font-size=\"16\">H</text>\n",
       "<text x=\"102.257553\" y=\"48.000000\" fill=\"DimGray\" stroke=\"DimGray\" stroke-width=\"1\" font-size=\"16\">H</text>\n",
       "<text x=\"162.861871\" y=\"97.269541\" fill=\"DimGray\" stroke=\"DimGray\" stroke-width=\"1\" font-size=\"16\">H</text>\n",
       "</svg>\n",
       "</g>\n",
       "</svg>"
      ],
      "text/plain": [
       "<IPython.core.display.SVG object>"
      ]
     },
     "metadata": {},
     "output_type": "display_data"
    },
    {
     "name": "stdout",
     "output_type": "stream",
     "text": [
      "H9C5O:mol-45191\n"
     ]
    },
    {
     "data": {
      "image/svg+xml": [
       "<svg xmlns=\"http://www.w3.org/2000/svg\" xmlns:xlink=\"http://www.w3.org/1999/xlink\" xmlns:cml=\"http://www.xml-cml.org/schema\" version=\"1.1\" id=\"topsvg\" x=\"0\" y=\"0\" width=\"200px\" height=\"200px\" viewBox=\"0 0 100 100\">\n",
       "<title>Multiple Molecules - Open Babel Depiction</title>\n",
       "<rect x=\"0\" y=\"0\" width=\"100\" height=\"100\" fill=\"Beige\"/>\n",
       "<text text-anchor=\"middle\" font-size=\"6\" fill=\"black\" font-family=\"sans-serif\" x=\"50\" y=\"98\"/>\n",
       "<g transform=\"translate(0,0)\">\n",
       "<svg width=\"100\" height=\"100\" x=\"0\" y=\"0\" viewBox=\"0 0 205.778 241.883\" font-family=\"sans-serif\" stroke=\"rgb(0,0,0)\" stroke-width=\"3.0\" stroke-linecap=\"round\">\n",
       "<line x1=\"81.9\" y1=\"120.8\" x2=\"108.9\" y2=\"120.8\" stroke=\"rgb(0,0,0)\" stroke-width=\"3.0\"/>\n",
       "<line x1=\"93.5\" y1=\"143.0\" x2=\"108.9\" y2=\"120.8\" stroke=\"rgb(0,0,0)\" stroke-width=\"3.0\"/>\n",
       "<line x1=\"52.0\" y1=\"149.7\" x2=\"76.8\" y2=\"139.2\" stroke=\"rgb(0,0,0)\" stroke-width=\"3.0\"/>\n",
       "<line x1=\"92.7\" y1=\"52.0\" x2=\"103.2\" y2=\"76.8\" stroke=\"rgb(0,0,0)\" stroke-width=\"3.0\"/>\n",
       "<polygon points=\"139.397332 76.842950 149.035741 51.518237 156.010557 55.436391 \" stroke-width=\"2.000000\" fill=\"rgb(0,0,0)\" stroke=\"rgb(0,0,0)\"/>\n",
       "<line x1=\"93.1\" y1=\"189.8\" x2=\"103.2\" y2=\"164.8\" stroke=\"rgb(0,0,0)\" stroke-width=\"3.0\"/>\n",
       "<polygon points=\"139.397332 164.817555 156.011716 186.223214 149.037112 190.141746 \" stroke-width=\"2.000000\" fill=\"rgb(0,0,0)\" stroke=\"rgb(0,0,0)\"/>\n",
       "<line x1=\"103.2\" y1=\"76.8\" x2=\"122.6\" y2=\"58.0\" stroke=\"rgb(0,0,0)\" stroke-width=\"3.0\"/>\n",
       "<line x1=\"76.8\" y1=\"139.2\" x2=\"76.8\" y2=\"166.2\" stroke=\"rgb(0,0,0)\" stroke-width=\"3.0\"/>\n",
       "<line x1=\"103.2\" y1=\"164.8\" x2=\"122.6\" y2=\"183.6\" stroke=\"rgb(0,0,0)\" stroke-width=\"3.0\"/>\n",
       "<line x1=\"76.8\" y1=\"102.5\" x2=\"52.0\" y2=\"92.0\" stroke=\"rgb(0,0,0)\" stroke-width=\"3.0\"/>\n",
       "<line x1=\"76.8\" y1=\"102.5\" x2=\"76.8\" y2=\"75.5\" stroke=\"rgb(0,0,0)\" stroke-width=\"3.0\"/>\n",
       "<line x1=\"108.9\" y1=\"120.8\" x2=\"139.4\" y2=\"76.8\" stroke=\"rgb(0,0,0)\" stroke-width=\"3.0\"/>\n",
       "<line x1=\"139.4\" y1=\"76.8\" x2=\"156.5\" y2=\"93.4\" stroke=\"rgb(0,0,0)\" stroke-width=\"3.0\"/>\n",
       "<line x1=\"165.8\" y1=\"115.5\" x2=\"165.8\" y2=\"126.2\" stroke=\"rgb(0,0,0)\" stroke-width=\"3.0\"/>\n",
       "<line x1=\"156.5\" y1=\"148.3\" x2=\"139.4\" y2=\"164.8\" stroke=\"rgb(0,0,0)\" stroke-width=\"3.0\"/>\n",
       "<line x1=\"139.4\" y1=\"164.8\" x2=\"108.9\" y2=\"120.8\" stroke=\"rgb(0,0,0)\" stroke-width=\"3.0\"/>\n",
       "<line x1=\"139.4\" y1=\"76.8\" x2=\"103.2\" y2=\"76.8\" stroke=\"rgb(0,0,0)\" stroke-width=\"3.0\"/>\n",
       "<line x1=\"103.2\" y1=\"76.8\" x2=\"76.8\" y2=\"102.5\" stroke=\"rgb(0,0,0)\" stroke-width=\"3.0\"/>\n",
       "<line x1=\"76.8\" y1=\"102.5\" x2=\"76.8\" y2=\"139.2\" stroke=\"rgb(0,0,0)\" stroke-width=\"3.0\"/>\n",
       "<line x1=\"76.8\" y1=\"139.2\" x2=\"103.2\" y2=\"164.8\" stroke=\"rgb(0,0,0)\" stroke-width=\"3.0\"/>\n",
       "<line x1=\"103.2\" y1=\"164.8\" x2=\"139.4\" y2=\"164.8\" stroke=\"rgb(0,0,0)\" stroke-width=\"3.0\"/>\n",
       "<text x=\"159.778151\" y=\"110.467744\" fill=\"rgb(255,12,12)\" stroke=\"rgb(255,12,12)\" stroke-width=\"1\" font-size=\"16\">O</text>\n",
       "<text x=\"159.778151\" y=\"147.192761\" fill=\"rgb(255,12,12)\" stroke=\"rgb(255,12,12)\" stroke-width=\"1\" font-size=\"16\">O</text>\n",
       "<text x=\"152.988104\" y=\"49.968867\" fill=\"DimGray\" stroke=\"DimGray\" stroke-width=\"1\" font-size=\"16\">H</text>\n",
       "<text x=\"62.862824\" y=\"128.834699\" fill=\"DimGray\" stroke=\"DimGray\" stroke-width=\"1\" font-size=\"16\">H</text>\n",
       "<text x=\"80.054712\" y=\"161.694858\" fill=\"DimGray\" stroke=\"DimGray\" stroke-width=\"1\" font-size=\"16\">H</text>\n",
       "<text x=\"125.916187\" y=\"56.972802\" fill=\"DimGray\" stroke=\"DimGray\" stroke-width=\"1\" font-size=\"16\">H</text>\n",
       "<text x=\"81.648241\" y=\"48.000000\" fill=\"DimGray\" stroke=\"DimGray\" stroke-width=\"1\" font-size=\"16\">H</text>\n",
       "<text x=\"152.989992\" y=\"207.690577\" fill=\"DimGray\" stroke=\"DimGray\" stroke-width=\"1\" font-size=\"16\">H</text>\n",
       "<text x=\"70.842950\" y=\"70.467744\" fill=\"DimGray\" stroke=\"DimGray\" stroke-width=\"1\" font-size=\"16\">H</text>\n",
       "<text x=\"34.000000\" y=\"94.892216\" fill=\"DimGray\" stroke=\"DimGray\" stroke-width=\"1\" font-size=\"16\">H</text>\n",
       "<text x=\"82.185430\" y=\"209.883015\" fill=\"DimGray\" stroke=\"DimGray\" stroke-width=\"1\" font-size=\"16\">H</text>\n",
       "<text x=\"125.916187\" y=\"200.687702\" fill=\"DimGray\" stroke=\"DimGray\" stroke-width=\"1\" font-size=\"16\">H</text>\n",
       "<text x=\"70.842950\" y=\"187.192761\" fill=\"DimGray\" stroke=\"DimGray\" stroke-width=\"1\" font-size=\"16\">H</text>\n",
       "<text x=\"34.000000\" y=\"162.768288\" fill=\"DimGray\" stroke=\"DimGray\" stroke-width=\"1\" font-size=\"16\">H</text>\n",
       "</svg>\n",
       "</g>\n",
       "</svg>"
      ],
      "text/plain": [
       "<IPython.core.display.SVG object>"
      ]
     },
     "metadata": {},
     "output_type": "display_data"
    },
    {
     "name": "stdout",
     "output_type": "stream",
     "text": [
      "H12C7O2:mol-45261\n"
     ]
    },
    {
     "data": {
      "image/svg+xml": [
       "<svg xmlns=\"http://www.w3.org/2000/svg\" xmlns:xlink=\"http://www.w3.org/1999/xlink\" xmlns:cml=\"http://www.xml-cml.org/schema\" version=\"1.1\" id=\"topsvg\" x=\"0\" y=\"0\" width=\"200px\" height=\"200px\" viewBox=\"0 0 100 100\">\n",
       "<title>Multiple Molecules - Open Babel Depiction</title>\n",
       "<rect x=\"0\" y=\"0\" width=\"100\" height=\"100\" fill=\"Beige\"/>\n",
       "<text text-anchor=\"middle\" font-size=\"6\" fill=\"black\" font-family=\"sans-serif\" x=\"50\" y=\"98\"/>\n",
       "<g transform=\"translate(0,0)\">\n",
       "<svg width=\"100\" height=\"100\" x=\"0\" y=\"0\" viewBox=\"0 0 267.1 263.3\" font-family=\"sans-serif\" stroke=\"rgb(0,0,0)\" stroke-width=\"3.0\" stroke-linecap=\"round\">\n",
       "<line x1=\"163.2\" y1=\"84.2\" x2=\"142.2\" y2=\"96.3\" stroke=\"rgb(0,0,0)\" stroke-width=\"3.0\"/>\n",
       "<line x1=\"216.1\" y1=\"195.4\" x2=\"164.2\" y2=\"162.5\" stroke=\"rgb(0,0,0)\" stroke-width=\"3.0\"/>\n",
       "<line x1=\"147.1\" y1=\"135.7\" x2=\"147.2\" y2=\"137.3\" stroke=\"rgb(0,0,0)\" stroke-width=\"3.0\"/>\n",
       "<line x1=\"151.0\" y1=\"134.6\" x2=\"151.3\" y2=\"137.5\" stroke=\"rgb(0,0,0)\" stroke-width=\"3.0\"/>\n",
       "<line x1=\"154.9\" y1=\"133.6\" x2=\"155.3\" y2=\"137.7\" stroke=\"rgb(0,0,0)\" stroke-width=\"3.0\"/>\n",
       "<line x1=\"158.8\" y1=\"132.5\" x2=\"159.4\" y2=\"137.9\" stroke=\"rgb(0,0,0)\" stroke-width=\"3.0\"/>\n",
       "<line x1=\"162.7\" y1=\"131.4\" x2=\"163.4\" y2=\"138.1\" stroke=\"rgb(0,0,0)\" stroke-width=\"3.0\"/>\n",
       "<line x1=\"166.6\" y1=\"130.3\" x2=\"167.4\" y2=\"138.3\" stroke=\"rgb(0,0,0)\" stroke-width=\"3.0\"/>\n",
       "<line x1=\"142.2\" y1=\"72.1\" x2=\"142.2\" y2=\"96.3\" stroke=\"rgb(0,0,0)\" stroke-width=\"3.0\"/>\n",
       "<line x1=\"180.1\" y1=\"180.8\" x2=\"164.2\" y2=\"162.5\" stroke=\"rgb(0,0,0)\" stroke-width=\"3.0\"/>\n",
       "<line x1=\"127.5\" y1=\"107.4\" x2=\"150.9\" y2=\"101.1\" stroke=\"rgb(0,0,0)\" stroke-width=\"3.0\"/>\n",
       "<line x1=\"129.0\" y1=\"113.2\" x2=\"152.4\" y2=\"106.9\" stroke=\"rgb(0,0,0)\" stroke-width=\"3.0\"/>\n",
       "<polygon points=\"109.127040 77.241379 105.125916 52.289835 113.125916 52.289475 \" stroke-width=\"2.000000\" fill=\"rgb(0,0,0)\" stroke=\"rgb(0,0,0)\"/>\n",
       "<polygon points=\"128.233628 152.287438 132.234752 177.238982 124.234752 177.239343 \" stroke-width=\"2.000000\" fill=\"rgb(0,0,0)\" stroke=\"rgb(0,0,0)\"/>\n",
       "<line x1=\"98.3\" y1=\"149.8\" x2=\"88.5\" y2=\"210.5\" stroke=\"rgb(0,0,0)\" stroke-width=\"3.0\"/>\n",
       "<line x1=\"98.3\" y1=\"149.8\" x2=\"102.2\" y2=\"125.8\" stroke=\"rgb(0,0,0)\" stroke-width=\"3.0\"/>\n",
       "<line x1=\"71.0\" y1=\"134.0\" x2=\"71.4\" y2=\"132.5\" stroke=\"rgb(0,0,0)\" stroke-width=\"3.0\"/>\n",
       "<line x1=\"67.0\" y1=\"133.6\" x2=\"67.7\" y2=\"130.8\" stroke=\"rgb(0,0,0)\" stroke-width=\"3.0\"/>\n",
       "<line x1=\"63.0\" y1=\"133.3\" x2=\"64.0\" y2=\"129.2\" stroke=\"rgb(0,0,0)\" stroke-width=\"3.0\"/>\n",
       "<line x1=\"59.0\" y1=\"132.9\" x2=\"60.3\" y2=\"127.6\" stroke=\"rgb(0,0,0)\" stroke-width=\"3.0\"/>\n",
       "<line x1=\"54.9\" y1=\"132.5\" x2=\"56.6\" y2=\"126.0\" stroke=\"rgb(0,0,0)\" stroke-width=\"3.0\"/>\n",
       "<line x1=\"50.9\" y1=\"132.1\" x2=\"52.9\" y2=\"124.4\" stroke=\"rgb(0,0,0)\" stroke-width=\"3.0\"/>\n",
       "<line x1=\"76.1\" y1=\"96.3\" x2=\"55.1\" y2=\"84.2\" stroke=\"rgb(0,0,0)\" stroke-width=\"3.0\"/>\n",
       "<line x1=\"76.1\" y1=\"96.3\" x2=\"76.1\" y2=\"72.1\" stroke=\"rgb(0,0,0)\" stroke-width=\"3.0\"/>\n",
       "<line x1=\"97.1\" y1=\"162.5\" x2=\"89.9\" y2=\"185.6\" stroke=\"rgb(0,0,0)\" stroke-width=\"3.0\"/>\n",
       "<line x1=\"97.1\" y1=\"162.5\" x2=\"74.1\" y2=\"170.0\" stroke=\"rgb(0,0,0)\" stroke-width=\"3.0\"/>\n",
       "<line x1=\"109.1\" y1=\"77.2\" x2=\"142.2\" y2=\"96.3\" stroke=\"rgb(0,0,0)\" stroke-width=\"3.0\"/>\n",
       "<line x1=\"142.2\" y1=\"96.3\" x2=\"142.2\" y2=\"137.1\" stroke=\"rgb(0,0,0)\" stroke-width=\"3.0\"/>\n",
       "<line x1=\"142.2\" y1=\"137.1\" x2=\"98.3\" y2=\"149.8\" stroke=\"rgb(0,0,0)\" stroke-width=\"3.0\"/>\n",
       "<line x1=\"98.3\" y1=\"149.8\" x2=\"76.1\" y2=\"134.5\" stroke=\"rgb(0,0,0)\" stroke-width=\"3.0\"/>\n",
       "<line x1=\"76.1\" y1=\"134.5\" x2=\"76.1\" y2=\"96.3\" stroke=\"rgb(0,0,0)\" stroke-width=\"3.0\"/>\n",
       "<line x1=\"76.1\" y1=\"96.3\" x2=\"109.1\" y2=\"77.2\" stroke=\"rgb(0,0,0)\" stroke-width=\"3.0\"/>\n",
       "<line x1=\"128.2\" y1=\"152.3\" x2=\"164.2\" y2=\"162.5\" stroke=\"rgb(0,0,0)\" stroke-width=\"3.0\"/>\n",
       "<line x1=\"164.2\" y1=\"162.5\" x2=\"142.2\" y2=\"137.1\" stroke=\"rgb(0,0,0)\" stroke-width=\"3.0\"/>\n",
       "<line x1=\"76.1\" y1=\"134.5\" x2=\"97.1\" y2=\"162.5\" stroke=\"rgb(0,0,0)\" stroke-width=\"3.0\"/>\n",
       "<line x1=\"97.1\" y1=\"162.5\" x2=\"128.2\" y2=\"152.3\" stroke=\"rgb(0,0,0)\" stroke-width=\"3.0\"/>\n",
       "<line x1=\"109.1\" y1=\"77.2\" x2=\"128.2\" y2=\"110.3\" stroke=\"rgb(0,0,0)\" stroke-width=\"3.0\"/>\n",
       "<line x1=\"128.2\" y1=\"110.3\" x2=\"128.2\" y2=\"152.3\" stroke=\"rgb(0,0,0)\" stroke-width=\"3.0\"/>\n",
       "<text x=\"158.204270\" y=\"108.651098\" fill=\"rgb(255,12,12)\" stroke=\"rgb(255,12,12)\" stroke-width=\"1\" font-size=\"16\">O</text>\n",
       "<text x=\"103.125362\" y=\"48.000000\" fill=\"DimGray\" stroke=\"DimGray\" stroke-width=\"1\" font-size=\"16\">H</text>\n",
       "<text x=\"122.235305\" y=\"197.528818\" fill=\"DimGray\" stroke=\"DimGray\" stroke-width=\"1\" font-size=\"16\">H</text>\n",
       "<text x=\"168.444554\" y=\"85.711221\" fill=\"DimGray\" stroke=\"DimGray\" stroke-width=\"1\" font-size=\"16\">H</text>\n",
       "<text x=\"136.192928\" y=\"67.090326\" fill=\"DimGray\" stroke=\"DimGray\" stroke-width=\"1\" font-size=\"16\">H</text>\n",
       "<text x=\"37.817256\" y=\"85.711424\" fill=\"DimGray\" stroke=\"DimGray\" stroke-width=\"1\" font-size=\"16\">H</text>\n",
       "<text x=\"70.070430\" y=\"67.089486\" fill=\"DimGray\" stroke=\"DimGray\" stroke-width=\"1\" font-size=\"16\">H</text>\n",
       "<text x=\"182.633347\" y=\"198.608569\" fill=\"DimGray\" stroke=\"DimGray\" stroke-width=\"1\" font-size=\"16\">H</text>\n",
       "<text x=\"221.100142\" y=\"210.418381\" fill=\"DimGray\" stroke=\"DimGray\" stroke-width=\"1\" font-size=\"16\">H</text>\n",
       "<text x=\"55.742002\" y=\"182.060767\" fill=\"DimGray\" stroke=\"DimGray\" stroke-width=\"1\" font-size=\"16\">H</text>\n",
       "<text x=\"79.963380\" y=\"205.997796\" fill=\"DimGray\" stroke=\"DimGray\" stroke-width=\"1\" font-size=\"16\">H</text>\n",
       "<text x=\"173.206339\" y=\"140.945542\" fill=\"DimGray\" stroke=\"DimGray\" stroke-width=\"1\" font-size=\"16\">H</text>\n",
       "<text x=\"34.000000\" y=\"133.206456\" fill=\"DimGray\" stroke=\"DimGray\" stroke-width=\"1\" font-size=\"16\">H</text>\n",
       "<text x=\"80.389953\" y=\"231.300148\" fill=\"DimGray\" stroke=\"DimGray\" stroke-width=\"1\" font-size=\"16\">H</text>\n",
       "<text x=\"98.239124\" y=\"121.011028\" fill=\"DimGray\" stroke=\"DimGray\" stroke-width=\"1\" font-size=\"16\">H</text>\n",
       "</svg>\n",
       "</g>\n",
       "</svg>"
      ],
      "text/plain": [
       "<IPython.core.display.SVG object>"
      ]
     },
     "metadata": {},
     "output_type": "display_data"
    },
    {
     "name": "stdout",
     "output_type": "stream",
     "text": [
      "H14C10O:mol-45820\n"
     ]
    },
    {
     "data": {
      "image/svg+xml": [
       "<svg xmlns=\"http://www.w3.org/2000/svg\" xmlns:xlink=\"http://www.w3.org/1999/xlink\" xmlns:cml=\"http://www.xml-cml.org/schema\" version=\"1.1\" id=\"topsvg\" x=\"0\" y=\"0\" width=\"200px\" height=\"200px\" viewBox=\"0 0 100 100\">\n",
       "<title>Multiple Molecules - Open Babel Depiction</title>\n",
       "<rect x=\"0\" y=\"0\" width=\"100\" height=\"100\" fill=\"Beige\"/>\n",
       "<text text-anchor=\"middle\" font-size=\"6\" fill=\"black\" font-family=\"sans-serif\" x=\"50\" y=\"98\"/>\n",
       "<g transform=\"translate(0,0)\">\n",
       "<svg width=\"100\" height=\"100\" x=\"0\" y=\"0\" viewBox=\"0 0 293.205 274.641\" font-family=\"sans-serif\" stroke=\"rgb(0,0,0)\" stroke-width=\"3.0\" stroke-linecap=\"round\">\n",
       "<line x1=\"53.0\" y1=\"140.0\" x2=\"80.0\" y2=\"140.0\" stroke=\"rgb(0,0,0)\" stroke-width=\"3.0\"/>\n",
       "<line x1=\"66.5\" y1=\"163.4\" x2=\"80.0\" y2=\"140.0\" stroke=\"rgb(0,0,0)\" stroke-width=\"3.0\"/>\n",
       "<line x1=\"80.0\" y1=\"140.0\" x2=\"80.0\" y2=\"113.0\" stroke=\"rgb(0,0,0)\" stroke-width=\"3.0\"/>\n",
       "<line x1=\"80.0\" y1=\"140.0\" x2=\"103.4\" y2=\"153.5\" stroke=\"rgb(0,0,0)\" stroke-width=\"3.0\"/>\n",
       "<line x1=\"197.4\" y1=\"223.4\" x2=\"183.9\" y2=\"200.0\" stroke=\"rgb(0,0,0)\" stroke-width=\"3.0\"/>\n",
       "<line x1=\"87.6\" y1=\"80.0\" x2=\"114.6\" y2=\"80.0\" stroke=\"rgb(0,0,0)\" stroke-width=\"3.0\"/>\n",
       "<line x1=\"241.9\" y1=\"86.5\" x2=\"218.6\" y2=\"100.0\" stroke=\"rgb(0,0,0)\" stroke-width=\"3.0\"/>\n",
       "<line x1=\"183.9\" y1=\"53.0\" x2=\"183.9\" y2=\"80.0\" stroke=\"rgb(0,0,0)\" stroke-width=\"3.0\"/>\n",
       "<line x1=\"241.9\" y1=\"153.5\" x2=\"218.6\" y2=\"140.0\" stroke=\"rgb(0,0,0)\" stroke-width=\"3.0\"/>\n",
       "<line x1=\"149.3\" y1=\"100.0\" x2=\"114.6\" y2=\"80.0\" stroke=\"rgb(0,0,0)\" stroke-width=\"3.0\"/>\n",
       "<line x1=\"183.9\" y1=\"160.0\" x2=\"183.9\" y2=\"200.0\" stroke=\"rgb(0,0,0)\" stroke-width=\"3.0\"/>\n",
       "<line x1=\"149.3\" y1=\"140.0\" x2=\"125.9\" y2=\"153.5\" stroke=\"rgb(0,0,0)\" stroke-width=\"3.0\"/>\n",
       "<line x1=\"114.6\" y1=\"80.0\" x2=\"101.1\" y2=\"103.4\" stroke=\"rgb(0,0,0)\" stroke-width=\"3.0\"/>\n",
       "<line x1=\"114.6\" y1=\"80.0\" x2=\"114.6\" y2=\"53.0\" stroke=\"rgb(0,0,0)\" stroke-width=\"3.0\"/>\n",
       "<line x1=\"183.9\" y1=\"200.0\" x2=\"210.9\" y2=\"200.0\" stroke=\"rgb(0,0,0)\" stroke-width=\"3.0\"/>\n",
       "<line x1=\"183.9\" y1=\"200.0\" x2=\"160.5\" y2=\"213.5\" stroke=\"rgb(0,0,0)\" stroke-width=\"3.0\"/>\n",
       "<line x1=\"149.3\" y1=\"100.0\" x2=\"183.9\" y2=\"80.0\" stroke=\"rgb(0,0,0)\" stroke-width=\"3.0\"/>\n",
       "<line x1=\"183.9\" y1=\"80.0\" x2=\"218.6\" y2=\"100.0\" stroke=\"rgb(0,0,0)\" stroke-width=\"3.0\"/>\n",
       "<line x1=\"185.5\" y1=\"89.2\" x2=\"209.8\" y2=\"103.2\" stroke=\"rgb(0,0,0)\" stroke-width=\"3.0\"/>\n",
       "<line x1=\"218.6\" y1=\"100.0\" x2=\"218.6\" y2=\"140.0\" stroke=\"rgb(0,0,0)\" stroke-width=\"3.0\"/>\n",
       "<line x1=\"218.6\" y1=\"140.0\" x2=\"183.9\" y2=\"160.0\" stroke=\"rgb(0,0,0)\" stroke-width=\"3.0\"/>\n",
       "<line x1=\"209.8\" y1=\"136.8\" x2=\"185.5\" y2=\"150.8\" stroke=\"rgb(0,0,0)\" stroke-width=\"3.0\"/>\n",
       "<line x1=\"183.9\" y1=\"160.0\" x2=\"149.3\" y2=\"140.0\" stroke=\"rgb(0,0,0)\" stroke-width=\"3.0\"/>\n",
       "<line x1=\"149.3\" y1=\"140.0\" x2=\"149.3\" y2=\"100.0\" stroke=\"rgb(0,0,0)\" stroke-width=\"3.0\"/>\n",
       "<line x1=\"156.5\" y1=\"134.0\" x2=\"156.5\" y2=\"106.0\" stroke=\"rgb(0,0,0)\" stroke-width=\"3.0\"/>\n",
       "<text x=\"108.641016\" y=\"168.000000\" fill=\"rgb(255,12,12)\" stroke=\"rgb(255,12,12)\" stroke-width=\"1\" font-size=\"16\">O</text>\n",
       "<text x=\"177.923048\" y=\"48.000000\" fill=\"DimGray\" stroke=\"DimGray\" stroke-width=\"1\" font-size=\"16\">H</text>\n",
       "<text x=\"68.641016\" y=\"88.000000\" fill=\"DimGray\" stroke=\"DimGray\" stroke-width=\"1\" font-size=\"16\">H</text>\n",
       "<text x=\"108.641016\" y=\"48.000000\" fill=\"DimGray\" stroke=\"DimGray\" stroke-width=\"1\" font-size=\"16\">H</text>\n",
       "<text x=\"88.641016\" y=\"122.641016\" fill=\"DimGray\" stroke=\"DimGray\" stroke-width=\"1\" font-size=\"16\">H</text>\n",
       "<text x=\"247.205081\" y=\"168.000000\" fill=\"DimGray\" stroke=\"DimGray\" stroke-width=\"1\" font-size=\"16\">H</text>\n",
       "<text x=\"197.923048\" y=\"242.641016\" fill=\"DimGray\" stroke=\"DimGray\" stroke-width=\"1\" font-size=\"16\">H</text>\n",
       "<text x=\"217.923048\" y=\"208.000000\" fill=\"DimGray\" stroke=\"DimGray\" stroke-width=\"1\" font-size=\"16\">H</text>\n",
       "<text x=\"143.282032\" y=\"228.000000\" fill=\"DimGray\" stroke=\"DimGray\" stroke-width=\"1\" font-size=\"16\">H</text>\n",
       "<text x=\"74.000000\" y=\"108.000000\" fill=\"DimGray\" stroke=\"DimGray\" stroke-width=\"1\" font-size=\"16\">H</text>\n",
       "<text x=\"34.000000\" y=\"148.000000\" fill=\"DimGray\" stroke=\"DimGray\" stroke-width=\"1\" font-size=\"16\">H</text>\n",
       "<text x=\"54.000000\" y=\"182.641016\" fill=\"DimGray\" stroke=\"DimGray\" stroke-width=\"1\" font-size=\"16\">H</text>\n",
       "<text x=\"247.205081\" y=\"88.000000\" fill=\"DimGray\" stroke=\"DimGray\" stroke-width=\"1\" font-size=\"16\">H</text>\n",
       "</svg>\n",
       "</g>\n",
       "</svg>"
      ],
      "text/plain": [
       "<IPython.core.display.SVG object>"
      ]
     },
     "metadata": {},
     "output_type": "display_data"
    },
    {
     "name": "stdout",
     "output_type": "stream",
     "text": [
      "H12C9O:mol-45007\n"
     ]
    },
    {
     "data": {
      "image/svg+xml": [
       "<svg xmlns=\"http://www.w3.org/2000/svg\" xmlns:xlink=\"http://www.w3.org/1999/xlink\" xmlns:cml=\"http://www.xml-cml.org/schema\" version=\"1.1\" id=\"topsvg\" x=\"0\" y=\"0\" width=\"200px\" height=\"200px\" viewBox=\"0 0 100 100\">\n",
       "<title>Multiple Molecules - Open Babel Depiction</title>\n",
       "<rect x=\"0\" y=\"0\" width=\"100\" height=\"100\" fill=\"Beige\"/>\n",
       "<text text-anchor=\"middle\" font-size=\"6\" fill=\"black\" font-family=\"sans-serif\" x=\"50\" y=\"98\"/>\n",
       "<g transform=\"translate(0,0)\">\n",
       "<svg width=\"100\" height=\"100\" x=\"0\" y=\"0\" viewBox=\"0 0 223.923 349.282\" font-family=\"sans-serif\" stroke=\"rgb(0,0,0)\" stroke-width=\"3.0\" stroke-linecap=\"round\">\n",
       "<line x1=\"172.7\" y1=\"221.1\" x2=\"149.3\" y2=\"234.6\" stroke=\"rgb(0,0,0)\" stroke-width=\"3.0\"/>\n",
       "<line x1=\"149.3\" y1=\"207.6\" x2=\"149.3\" y2=\"234.6\" stroke=\"rgb(0,0,0)\" stroke-width=\"3.0\"/>\n",
       "<line x1=\"162.8\" y1=\"258.0\" x2=\"149.3\" y2=\"234.6\" stroke=\"rgb(0,0,0)\" stroke-width=\"3.0\"/>\n",
       "<line x1=\"149.3\" y1=\"234.6\" x2=\"109.3\" y2=\"234.6\" stroke=\"rgb(0,0,0)\" stroke-width=\"3.0\"/>\n",
       "<line x1=\"122.8\" y1=\"51.3\" x2=\"109.3\" y2=\"74.6\" stroke=\"rgb(0,0,0)\" stroke-width=\"3.0\"/>\n",
       "<line x1=\"167.3\" y1=\"121.1\" x2=\"143.9\" y2=\"134.6\" stroke=\"rgb(0,0,0)\" stroke-width=\"3.0\"/>\n",
       "<line x1=\"178.6\" y1=\"101.6\" x2=\"178.6\" y2=\"87.6\" stroke=\"rgb(0,0,0)\" stroke-width=\"3.0\"/>\n",
       "<line x1=\"136.3\" y1=\"74.6\" x2=\"109.3\" y2=\"74.6\" stroke=\"rgb(0,0,0)\" stroke-width=\"3.0\"/>\n",
       "<line x1=\"109.3\" y1=\"74.6\" x2=\"109.3\" y2=\"114.6\" stroke=\"rgb(0,0,0)\" stroke-width=\"3.0\"/>\n",
       "<line x1=\"109.3\" y1=\"74.6\" x2=\"85.9\" y2=\"61.1\" stroke=\"rgb(0,0,0)\" stroke-width=\"3.0\"/>\n",
       "<line x1=\"109.3\" y1=\"234.6\" x2=\"82.3\" y2=\"234.6\" stroke=\"rgb(0,0,0)\" stroke-width=\"3.0\"/>\n",
       "<line x1=\"109.3\" y1=\"234.6\" x2=\"109.3\" y2=\"194.6\" stroke=\"rgb(0,0,0)\" stroke-width=\"3.0\"/>\n",
       "<line x1=\"109.3\" y1=\"234.6\" x2=\"109.3\" y2=\"274.6\" stroke=\"rgb(0,0,0)\" stroke-width=\"3.0\"/>\n",
       "<line x1=\"51.3\" y1=\"121.1\" x2=\"74.6\" y2=\"134.6\" stroke=\"rgb(0,0,0)\" stroke-width=\"3.0\"/>\n",
       "<line x1=\"143.9\" y1=\"174.6\" x2=\"167.3\" y2=\"188.1\" stroke=\"rgb(0,0,0)\" stroke-width=\"3.0\"/>\n",
       "<line x1=\"74.6\" y1=\"174.6\" x2=\"51.3\" y2=\"188.1\" stroke=\"rgb(0,0,0)\" stroke-width=\"3.0\"/>\n",
       "<line x1=\"109.3\" y1=\"274.6\" x2=\"95.8\" y2=\"298.0\" stroke=\"rgb(0,0,0)\" stroke-width=\"3.0\"/>\n",
       "<line x1=\"109.3\" y1=\"274.6\" x2=\"82.3\" y2=\"274.6\" stroke=\"rgb(0,0,0)\" stroke-width=\"3.0\"/>\n",
       "<line x1=\"109.3\" y1=\"274.6\" x2=\"132.7\" y2=\"288.1\" stroke=\"rgb(0,0,0)\" stroke-width=\"3.0\"/>\n",
       "<line x1=\"143.9\" y1=\"174.6\" x2=\"109.3\" y2=\"194.6\" stroke=\"rgb(0,0,0)\" stroke-width=\"3.0\"/>\n",
       "<line x1=\"135.1\" y1=\"171.4\" x2=\"110.9\" y2=\"185.4\" stroke=\"rgb(0,0,0)\" stroke-width=\"3.0\"/>\n",
       "<line x1=\"109.3\" y1=\"194.6\" x2=\"74.6\" y2=\"174.6\" stroke=\"rgb(0,0,0)\" stroke-width=\"3.0\"/>\n",
       "<line x1=\"74.6\" y1=\"174.6\" x2=\"74.6\" y2=\"134.6\" stroke=\"rgb(0,0,0)\" stroke-width=\"3.0\"/>\n",
       "<line x1=\"81.8\" y1=\"168.6\" x2=\"81.8\" y2=\"140.6\" stroke=\"rgb(0,0,0)\" stroke-width=\"3.0\"/>\n",
       "<line x1=\"74.6\" y1=\"134.6\" x2=\"109.3\" y2=\"114.6\" stroke=\"rgb(0,0,0)\" stroke-width=\"3.0\"/>\n",
       "<line x1=\"109.3\" y1=\"114.6\" x2=\"143.9\" y2=\"134.6\" stroke=\"rgb(0,0,0)\" stroke-width=\"3.0\"/>\n",
       "<line x1=\"110.9\" y1=\"123.9\" x2=\"135.1\" y2=\"137.9\" stroke=\"rgb(0,0,0)\" stroke-width=\"3.0\"/>\n",
       "<line x1=\"143.9\" y1=\"134.6\" x2=\"143.9\" y2=\"174.6\" stroke=\"rgb(0,0,0)\" stroke-width=\"3.0\"/>\n",
       "<text x=\"172.564065\" y=\"122.641016\" fill=\"rgb(255,12,12)\" stroke=\"rgb(255,12,12)\" stroke-width=\"1\" font-size=\"16\">O</text>\n",
       "<text x=\"172.564065\" y=\"202.641016\" fill=\"DimGray\" stroke=\"DimGray\" stroke-width=\"1\" font-size=\"16\">H</text>\n",
       "<text x=\"34.000000\" y=\"202.641016\" fill=\"DimGray\" stroke=\"DimGray\" stroke-width=\"1\" font-size=\"16\">H</text>\n",
       "<text x=\"63.282032\" y=\"242.641016\" fill=\"DimGray\" stroke=\"DimGray\" stroke-width=\"1\" font-size=\"16\">H</text>\n",
       "<text x=\"34.000000\" y=\"122.641016\" fill=\"DimGray\" stroke=\"DimGray\" stroke-width=\"1\" font-size=\"16\">H</text>\n",
       "<text x=\"143.282032\" y=\"202.641016\" fill=\"DimGray\" stroke=\"DimGray\" stroke-width=\"1\" font-size=\"16\">H</text>\n",
       "<text x=\"177.923048\" y=\"222.641016\" fill=\"DimGray\" stroke=\"DimGray\" stroke-width=\"1\" font-size=\"16\">H</text>\n",
       "<text x=\"163.282032\" y=\"277.282032\" fill=\"DimGray\" stroke=\"DimGray\" stroke-width=\"1\" font-size=\"16\">H</text>\n",
       "<text x=\"63.282032\" y=\"282.641016\" fill=\"DimGray\" stroke=\"DimGray\" stroke-width=\"1\" font-size=\"16\">H</text>\n",
       "<text x=\"83.282032\" y=\"317.282032\" fill=\"DimGray\" stroke=\"DimGray\" stroke-width=\"1\" font-size=\"16\">H</text>\n",
       "<text x=\"137.923048\" y=\"302.641016\" fill=\"DimGray\" stroke=\"DimGray\" stroke-width=\"1\" font-size=\"16\">H</text>\n",
       "<text x=\"172.564065\" y=\"82.641016\" fill=\"DimGray\" stroke=\"DimGray\" stroke-width=\"1\" font-size=\"16\">H</text>\n",
       "<text x=\"68.641016\" y=\"62.641016\" fill=\"DimGray\" stroke=\"DimGray\" stroke-width=\"1\" font-size=\"16\">H</text>\n",
       "<text x=\"143.282032\" y=\"82.641016\" fill=\"DimGray\" stroke=\"DimGray\" stroke-width=\"1\" font-size=\"16\">H</text>\n",
       "<text x=\"123.282032\" y=\"48.000000\" fill=\"DimGray\" stroke=\"DimGray\" stroke-width=\"1\" font-size=\"16\">H</text>\n",
       "</svg>\n",
       "</g>\n",
       "</svg>"
      ],
      "text/plain": [
       "<IPython.core.display.SVG object>"
      ]
     },
     "metadata": {},
     "output_type": "display_data"
    },
    {
     "name": "stdout",
     "output_type": "stream",
     "text": [
      "H14C10O:mol-44317\n"
     ]
    },
    {
     "data": {
      "image/svg+xml": [
       "<svg xmlns=\"http://www.w3.org/2000/svg\" xmlns:xlink=\"http://www.w3.org/1999/xlink\" xmlns:cml=\"http://www.xml-cml.org/schema\" version=\"1.1\" id=\"topsvg\" x=\"0\" y=\"0\" width=\"200px\" height=\"200px\" viewBox=\"0 0 100 100\">\n",
       "<title>Multiple Molecules - Open Babel Depiction</title>\n",
       "<rect x=\"0\" y=\"0\" width=\"100\" height=\"100\" fill=\"Beige\"/>\n",
       "<text text-anchor=\"middle\" font-size=\"6\" fill=\"black\" font-family=\"sans-serif\" x=\"50\" y=\"98\"/>\n",
       "<g transform=\"translate(0,0)\">\n",
       "<svg width=\"100\" height=\"100\" x=\"0\" y=\"0\" viewBox=\"0 0 290.158 276.08\" font-family=\"sans-serif\" stroke=\"rgb(0,0,0)\" stroke-width=\"3.0\" stroke-linecap=\"round\">\n",
       "<line x1=\"238.9\" y1=\"215.5\" x2=\"216.8\" y2=\"202.8\" stroke=\"rgb(0,0,0)\" stroke-width=\"3.0\"/>\n",
       "<line x1=\"203.8\" y1=\"97.7\" x2=\"178.4\" y2=\"97.7\" stroke=\"rgb(0,0,0)\" stroke-width=\"3.0\"/>\n",
       "<line x1=\"157.8\" y1=\"177.4\" x2=\"145.1\" y2=\"155.4\" stroke=\"rgb(0,0,0)\" stroke-width=\"3.0\"/>\n",
       "<line x1=\"65.7\" y1=\"215.9\" x2=\"78.5\" y2=\"193.8\" stroke=\"rgb(0,0,0)\" stroke-width=\"3.0\"/>\n",
       "<line x1=\"216.8\" y1=\"202.8\" x2=\"238.9\" y2=\"190.0\" stroke=\"rgb(0,0,0)\" stroke-width=\"3.0\"/>\n",
       "<line x1=\"216.8\" y1=\"202.8\" x2=\"204.1\" y2=\"224.8\" stroke=\"rgb(0,0,0)\" stroke-width=\"3.0\"/>\n",
       "<line x1=\"216.8\" y1=\"202.8\" x2=\"178.4\" y2=\"136.2\" stroke=\"rgb(0,0,0)\" stroke-width=\"3.0\"/>\n",
       "<line x1=\"178.4\" y1=\"97.7\" x2=\"191.1\" y2=\"75.6\" stroke=\"rgb(0,0,0)\" stroke-width=\"3.0\"/>\n",
       "<line x1=\"145.1\" y1=\"155.4\" x2=\"132.3\" y2=\"177.4\" stroke=\"rgb(0,0,0)\" stroke-width=\"3.0\"/>\n",
       "<line x1=\"111.8\" y1=\"136.2\" x2=\"89.7\" y2=\"148.9\" stroke=\"rgb(0,0,0)\" stroke-width=\"3.0\"/>\n",
       "<line x1=\"142.1\" y1=\"78.5\" x2=\"142.1\" y2=\"53.0\" stroke=\"rgb(0,0,0)\" stroke-width=\"3.0\"/>\n",
       "<line x1=\"148.1\" y1=\"78.5\" x2=\"148.1\" y2=\"53.0\" stroke=\"rgb(0,0,0)\" stroke-width=\"3.0\"/>\n",
       "<line x1=\"78.5\" y1=\"168.4\" x2=\"78.5\" y2=\"193.8\" stroke=\"rgb(0,0,0)\" stroke-width=\"3.0\"/>\n",
       "<line x1=\"111.8\" y1=\"97.7\" x2=\"89.7\" y2=\"85.0\" stroke=\"rgb(0,0,0)\" stroke-width=\"3.0\"/>\n",
       "<line x1=\"178.4\" y1=\"136.2\" x2=\"216.8\" y2=\"136.2\" stroke=\"rgb(0,0,0)\" stroke-width=\"3.0\"/>\n",
       "<line x1=\"78.5\" y1=\"193.8\" x2=\"53.0\" y2=\"193.8\" stroke=\"rgb(0,0,0)\" stroke-width=\"3.0\"/>\n",
       "<line x1=\"78.5\" y1=\"193.8\" x2=\"100.5\" y2=\"206.6\" stroke=\"rgb(0,0,0)\" stroke-width=\"3.0\"/>\n",
       "<line x1=\"216.8\" y1=\"136.2\" x2=\"238.9\" y2=\"148.9\" stroke=\"rgb(0,0,0)\" stroke-width=\"3.0\"/>\n",
       "<line x1=\"216.8\" y1=\"136.2\" x2=\"216.8\" y2=\"161.6\" stroke=\"rgb(0,0,0)\" stroke-width=\"3.0\"/>\n",
       "<line x1=\"216.8\" y1=\"136.2\" x2=\"229.6\" y2=\"114.1\" stroke=\"rgb(0,0,0)\" stroke-width=\"3.0\"/>\n",
       "<line x1=\"111.8\" y1=\"136.2\" x2=\"145.1\" y2=\"155.4\" stroke=\"rgb(0,0,0)\" stroke-width=\"3.0\"/>\n",
       "<line x1=\"145.1\" y1=\"155.4\" x2=\"178.4\" y2=\"136.2\" stroke=\"rgb(0,0,0)\" stroke-width=\"3.0\"/>\n",
       "<line x1=\"178.4\" y1=\"136.2\" x2=\"178.4\" y2=\"97.7\" stroke=\"rgb(0,0,0)\" stroke-width=\"3.0\"/>\n",
       "<line x1=\"178.4\" y1=\"97.7\" x2=\"145.1\" y2=\"78.5\" stroke=\"rgb(0,0,0)\" stroke-width=\"3.0\"/>\n",
       "<line x1=\"145.1\" y1=\"78.5\" x2=\"111.8\" y2=\"97.7\" stroke=\"rgb(0,0,0)\" stroke-width=\"3.0\"/>\n",
       "<line x1=\"111.8\" y1=\"97.7\" x2=\"111.8\" y2=\"136.2\" stroke=\"rgb(0,0,0)\" stroke-width=\"3.0\"/>\n",
       "<line x1=\"119.0\" y1=\"103.7\" x2=\"119.0\" y2=\"130.2\" stroke=\"rgb(0,0,0)\" stroke-width=\"3.0\"/>\n",
       "<text x=\"72.461538\" y=\"163.384615\" fill=\"rgb(255,12,12)\" stroke=\"rgb(255,12,12)\" stroke-width=\"1\" font-size=\"16\">O</text>\n",
       "<text x=\"139.078877\" y=\"48.000000\" fill=\"rgb(255,12,12)\" stroke=\"rgb(255,12,12)\" stroke-width=\"1\" font-size=\"16\">O</text>\n",
       "<text x=\"158.309646\" y=\"196.693285\" fill=\"DimGray\" stroke=\"DimGray\" stroke-width=\"1\" font-size=\"16\">H</text>\n",
       "<text x=\"119.848108\" y=\"196.693285\" fill=\"DimGray\" stroke=\"DimGray\" stroke-width=\"1\" font-size=\"16\">H</text>\n",
       "<text x=\"191.618316\" y=\"72.383638\" fill=\"DimGray\" stroke=\"DimGray\" stroke-width=\"1\" font-size=\"16\">H</text>\n",
       "<text x=\"210.849085\" y=\"105.692308\" fill=\"DimGray\" stroke=\"DimGray\" stroke-width=\"1\" font-size=\"16\">H</text>\n",
       "<text x=\"230.079854\" y=\"110.845177\" fill=\"DimGray\" stroke=\"DimGray\" stroke-width=\"1\" font-size=\"16\">H</text>\n",
       "<text x=\"210.849085\" y=\"182.615385\" fill=\"DimGray\" stroke=\"DimGray\" stroke-width=\"1\" font-size=\"16\">H</text>\n",
       "<text x=\"244.157754\" y=\"163.384615\" fill=\"DimGray\" stroke=\"DimGray\" stroke-width=\"1\" font-size=\"16\">H</text>\n",
       "<text x=\"244.157754\" y=\"230.001954\" fill=\"DimGray\" stroke=\"DimGray\" stroke-width=\"1\" font-size=\"16\">H</text>\n",
       "<text x=\"244.157754\" y=\"191.540416\" fill=\"DimGray\" stroke=\"DimGray\" stroke-width=\"1\" font-size=\"16\">H</text>\n",
       "<text x=\"191.618316\" y=\"244.079854\" fill=\"DimGray\" stroke=\"DimGray\" stroke-width=\"1\" font-size=\"16\">H</text>\n",
       "<text x=\"72.461538\" y=\"86.461538\" fill=\"DimGray\" stroke=\"DimGray\" stroke-width=\"1\" font-size=\"16\">H</text>\n",
       "<text x=\"34.000000\" y=\"201.846154\" fill=\"DimGray\" stroke=\"DimGray\" stroke-width=\"1\" font-size=\"16\">H</text>\n",
       "<text x=\"105.770208\" y=\"221.076923\" fill=\"DimGray\" stroke=\"DimGray\" stroke-width=\"1\" font-size=\"16\">H</text>\n",
       "<text x=\"53.230769\" y=\"235.154823\" fill=\"DimGray\" stroke=\"DimGray\" stroke-width=\"1\" font-size=\"16\">H</text>\n",
       "</svg>\n",
       "</g>\n",
       "</svg>"
      ],
      "text/plain": [
       "<IPython.core.display.SVG object>"
      ]
     },
     "metadata": {},
     "output_type": "display_data"
    },
    {
     "name": "stdout",
     "output_type": "stream",
     "text": [
      "H14C9O2:mol-44766\n"
     ]
    },
    {
     "data": {
      "image/svg+xml": [
       "<svg xmlns=\"http://www.w3.org/2000/svg\" xmlns:xlink=\"http://www.w3.org/1999/xlink\" xmlns:cml=\"http://www.xml-cml.org/schema\" version=\"1.1\" id=\"topsvg\" x=\"0\" y=\"0\" width=\"200px\" height=\"200px\" viewBox=\"0 0 100 100\">\n",
       "<title>Multiple Molecules - Open Babel Depiction</title>\n",
       "<rect x=\"0\" y=\"0\" width=\"100\" height=\"100\" fill=\"Beige\"/>\n",
       "<text text-anchor=\"middle\" font-size=\"6\" fill=\"black\" font-family=\"sans-serif\" x=\"50\" y=\"98\"/>\n",
       "<g transform=\"translate(0,0)\">\n",
       "<svg width=\"100\" height=\"100\" x=\"0\" y=\"0\" viewBox=\"0 0 289.282 249.282\" font-family=\"sans-serif\" stroke=\"rgb(0,0,0)\" stroke-width=\"3.0\" stroke-linecap=\"round\">\n",
       "<line x1=\"126.5\" y1=\"71.3\" x2=\"140.0\" y2=\"94.6\" stroke=\"rgb(0,0,0)\" stroke-width=\"3.0\"/>\n",
       "<line x1=\"236.3\" y1=\"94.6\" x2=\"209.3\" y2=\"94.6\" stroke=\"rgb(0,0,0)\" stroke-width=\"3.0\"/>\n",
       "<line x1=\"153.5\" y1=\"198.0\" x2=\"140.0\" y2=\"174.6\" stroke=\"rgb(0,0,0)\" stroke-width=\"3.0\"/>\n",
       "<line x1=\"93.5\" y1=\"123.4\" x2=\"86.5\" y2=\"111.3\" stroke=\"rgb(0,0,0)\" stroke-width=\"3.0\"/>\n",
       "<line x1=\"113.0\" y1=\"134.6\" x2=\"140.0\" y2=\"134.6\" stroke=\"rgb(0,0,0)\" stroke-width=\"3.0\"/>\n",
       "<line x1=\"140.0\" y1=\"94.6\" x2=\"113.0\" y2=\"94.6\" stroke=\"rgb(0,0,0)\" stroke-width=\"3.0\"/>\n",
       "<line x1=\"140.0\" y1=\"94.6\" x2=\"140.0\" y2=\"134.6\" stroke=\"rgb(0,0,0)\" stroke-width=\"3.0\"/>\n",
       "<line x1=\"140.0\" y1=\"94.6\" x2=\"174.6\" y2=\"74.6\" stroke=\"rgb(0,0,0)\" stroke-width=\"3.0\"/>\n",
       "<line x1=\"188.1\" y1=\"51.3\" x2=\"174.6\" y2=\"74.6\" stroke=\"rgb(0,0,0)\" stroke-width=\"3.0\"/>\n",
       "<line x1=\"209.3\" y1=\"94.6\" x2=\"222.8\" y2=\"71.3\" stroke=\"rgb(0,0,0)\" stroke-width=\"3.0\"/>\n",
       "<line x1=\"209.3\" y1=\"94.6\" x2=\"174.6\" y2=\"74.6\" stroke=\"rgb(0,0,0)\" stroke-width=\"3.0\"/>\n",
       "<line x1=\"209.3\" y1=\"94.6\" x2=\"209.3\" y2=\"121.6\" stroke=\"rgb(0,0,0)\" stroke-width=\"3.0\"/>\n",
       "<line x1=\"140.0\" y1=\"174.6\" x2=\"167.0\" y2=\"174.6\" stroke=\"rgb(0,0,0)\" stroke-width=\"3.0\"/>\n",
       "<line x1=\"140.0\" y1=\"174.6\" x2=\"140.0\" y2=\"134.6\" stroke=\"rgb(0,0,0)\" stroke-width=\"3.0\"/>\n",
       "<line x1=\"140.0\" y1=\"174.6\" x2=\"116.6\" y2=\"188.1\" stroke=\"rgb(0,0,0)\" stroke-width=\"3.0\"/>\n",
       "<line x1=\"67.0\" y1=\"100.0\" x2=\"53.0\" y2=\"100.0\" stroke=\"rgb(0,0,0)\" stroke-width=\"3.0\"/>\n",
       "<polygon points=\"140.000000 134.641016 166.800000 130.641016 166.800000 138.641016 \" stroke-width=\"2.000000\" fill=\"rgb(0,0,0)\" stroke=\"rgb(0,0,0)\"/>\n",
       "<line x1=\"174.6\" y1=\"74.6\" x2=\"161.1\" y2=\"51.3\" stroke=\"rgb(0,0,0)\" stroke-width=\"3.0\"/>\n",
       "<text x=\"94.000000\" y=\"142.641016\" fill=\"rgb(255,12,12)\" stroke=\"rgb(255,12,12)\" stroke-width=\"1\" font-size=\"16\">O</text>\n",
       "<text x=\"74.000000\" y=\"108.000000\" fill=\"rgb(255,12,12)\" stroke=\"rgb(255,12,12)\" stroke-width=\"1\" font-size=\"16\">O</text>\n",
       "<text x=\"174.000000\" y=\"142.641016\" fill=\"DimGray\" stroke=\"DimGray\" stroke-width=\"1\" font-size=\"16\">H</text>\n",
       "<text x=\"114.000000\" y=\"68.000000\" fill=\"DimGray\" stroke=\"DimGray\" stroke-width=\"1\" font-size=\"16\">H</text>\n",
       "<text x=\"94.000000\" y=\"102.641016\" fill=\"DimGray\" stroke=\"DimGray\" stroke-width=\"1\" font-size=\"16\">H</text>\n",
       "<text x=\"154.000000\" y=\"217.282032\" fill=\"DimGray\" stroke=\"DimGray\" stroke-width=\"1\" font-size=\"16\">H</text>\n",
       "<text x=\"174.000000\" y=\"182.641016\" fill=\"DimGray\" stroke=\"DimGray\" stroke-width=\"1\" font-size=\"16\">H</text>\n",
       "<text x=\"99.358984\" y=\"202.641016\" fill=\"DimGray\" stroke=\"DimGray\" stroke-width=\"1\" font-size=\"16\">H</text>\n",
       "<text x=\"148.641016\" y=\"48.000000\" fill=\"DimGray\" stroke=\"DimGray\" stroke-width=\"1\" font-size=\"16\">H</text>\n",
       "<text x=\"188.641016\" y=\"48.000000\" fill=\"DimGray\" stroke=\"DimGray\" stroke-width=\"1\" font-size=\"16\">H</text>\n",
       "<text x=\"34.000000\" y=\"108.000000\" fill=\"DimGray\" stroke=\"DimGray\" stroke-width=\"1\" font-size=\"16\">H</text>\n",
       "<text x=\"203.282032\" y=\"142.641016\" fill=\"DimGray\" stroke=\"DimGray\" stroke-width=\"1\" font-size=\"16\">H</text>\n",
       "<text x=\"223.282032\" y=\"68.000000\" fill=\"DimGray\" stroke=\"DimGray\" stroke-width=\"1\" font-size=\"16\">H</text>\n",
       "<text x=\"243.282032\" y=\"102.641016\" fill=\"DimGray\" stroke=\"DimGray\" stroke-width=\"1\" font-size=\"16\">H</text>\n",
       "</svg>\n",
       "</g>\n",
       "</svg>"
      ],
      "text/plain": [
       "<IPython.core.display.SVG object>"
      ]
     },
     "metadata": {},
     "output_type": "display_data"
    },
    {
     "name": "stdout",
     "output_type": "stream",
     "text": [
      "H12C5O2:mol-45231\n"
     ]
    },
    {
     "data": {
      "image/svg+xml": [
       "<svg xmlns=\"http://www.w3.org/2000/svg\" xmlns:xlink=\"http://www.w3.org/1999/xlink\" xmlns:cml=\"http://www.xml-cml.org/schema\" version=\"1.1\" id=\"topsvg\" x=\"0\" y=\"0\" width=\"200px\" height=\"200px\" viewBox=\"0 0 100 100\">\n",
       "<title>Multiple Molecules - Open Babel Depiction</title>\n",
       "<rect x=\"0\" y=\"0\" width=\"100\" height=\"100\" fill=\"Beige\"/>\n",
       "<text text-anchor=\"middle\" font-size=\"6\" fill=\"black\" font-family=\"sans-serif\" x=\"50\" y=\"98\"/>\n",
       "<g transform=\"translate(0,0)\">\n",
       "<svg width=\"100\" height=\"100\" x=\"0\" y=\"0\" viewBox=\"0 0 310 271.667\" font-family=\"sans-serif\" stroke=\"rgb(0,0,0)\" stroke-width=\"3.0\" stroke-linecap=\"round\">\n",
       "<line x1=\"234.4\" y1=\"186.8\" x2=\"212.5\" y2=\"174.2\" stroke=\"rgb(0,0,0)\" stroke-width=\"3.0\"/>\n",
       "<line x1=\"75.6\" y1=\"46.5\" x2=\"86.2\" y2=\"52.7\" stroke=\"rgb(0,0,0)\" stroke-width=\"3.0\"/>\n",
       "<polygon points=\"174.166667 135.833333 170.166667 110.150000 178.166667 110.150000 \" stroke-width=\"2.000000\" fill=\"rgb(0,0,0)\" stroke=\"rgb(0,0,0)\"/>\n",
       "<line x1=\"97.5\" y1=\"72.2\" x2=\"97.5\" y2=\"97.5\" stroke=\"rgb(0,0,0)\" stroke-width=\"3.0\"/>\n",
       "<line x1=\"212.5\" y1=\"174.2\" x2=\"212.5\" y2=\"199.5\" stroke=\"rgb(0,0,0)\" stroke-width=\"3.0\"/>\n",
       "<line x1=\"212.5\" y1=\"174.2\" x2=\"225.2\" y2=\"152.2\" stroke=\"rgb(0,0,0)\" stroke-width=\"3.0\"/>\n",
       "<line x1=\"212.5\" y1=\"174.2\" x2=\"174.2\" y2=\"174.2\" stroke=\"rgb(0,0,0)\" stroke-width=\"3.0\"/>\n",
       "<line x1=\"196.1\" y1=\"225.2\" x2=\"185.4\" y2=\"219.0\" stroke=\"rgb(0,0,0)\" stroke-width=\"3.0\"/>\n",
       "<line x1=\"46.5\" y1=\"157.8\" x2=\"52.7\" y2=\"147.1\" stroke=\"rgb(0,0,0)\" stroke-width=\"3.0\"/>\n",
       "<line x1=\"43.9\" y1=\"117.9\" x2=\"56.6\" y2=\"96.0\" stroke=\"rgb(0,0,0)\" stroke-width=\"3.0\"/>\n",
       "<line x1=\"49.1\" y1=\"120.9\" x2=\"61.8\" y2=\"99.0\" stroke=\"rgb(0,0,0)\" stroke-width=\"3.0\"/>\n",
       "<line x1=\"174.2\" y1=\"135.8\" x2=\"199.5\" y2=\"135.8\" stroke=\"rgb(0,0,0)\" stroke-width=\"3.0\"/>\n",
       "<line x1=\"174.2\" y1=\"135.8\" x2=\"174.2\" y2=\"174.2\" stroke=\"rgb(0,0,0)\" stroke-width=\"3.0\"/>\n",
       "<line x1=\"174.2\" y1=\"135.8\" x2=\"97.5\" y2=\"135.8\" stroke=\"rgb(0,0,0)\" stroke-width=\"3.0\"/>\n",
       "<line x1=\"219.0\" y1=\"124.6\" x2=\"225.2\" y2=\"113.9\" stroke=\"rgb(0,0,0)\" stroke-width=\"3.0\"/>\n",
       "<line x1=\"72.2\" y1=\"135.8\" x2=\"97.5\" y2=\"135.8\" stroke=\"rgb(0,0,0)\" stroke-width=\"3.0\"/>\n",
       "<line x1=\"244.7\" y1=\"141.0\" x2=\"257.0\" y2=\"141.0\" stroke=\"rgb(0,0,0)\" stroke-width=\"3.0\"/>\n",
       "<line x1=\"97.5\" y1=\"97.5\" x2=\"97.5\" y2=\"135.8\" stroke=\"rgb(0,0,0)\" stroke-width=\"3.0\"/>\n",
       "<line x1=\"97.5\" y1=\"97.5\" x2=\"59.2\" y2=\"97.5\" stroke=\"rgb(0,0,0)\" stroke-width=\"3.0\"/>\n",
       "<polygon points=\"97.500000 97.500000 123.183333 93.500000 123.183333 101.500000 \" stroke-width=\"2.000000\" fill=\"rgb(0,0,0)\" stroke=\"rgb(0,0,0)\"/>\n",
       "<line x1=\"174.2\" y1=\"174.2\" x2=\"174.2\" y2=\"199.5\" stroke=\"rgb(0,0,0)\" stroke-width=\"3.0\"/>\n",
       "<line x1=\"169.0\" y1=\"175.0\" x2=\"169.0\" y2=\"173.4\" stroke=\"rgb(0,0,0)\" stroke-width=\"3.0\"/>\n",
       "<line x1=\"164.9\" y1=\"175.6\" x2=\"164.9\" y2=\"172.7\" stroke=\"rgb(0,0,0)\" stroke-width=\"3.0\"/>\n",
       "<line x1=\"160.8\" y1=\"176.2\" x2=\"160.8\" y2=\"172.1\" stroke=\"rgb(0,0,0)\" stroke-width=\"3.0\"/>\n",
       "<line x1=\"156.7\" y1=\"176.9\" x2=\"156.7\" y2=\"171.4\" stroke=\"rgb(0,0,0)\" stroke-width=\"3.0\"/>\n",
       "<line x1=\"152.6\" y1=\"177.5\" x2=\"152.6\" y2=\"170.8\" stroke=\"rgb(0,0,0)\" stroke-width=\"3.0\"/>\n",
       "<line x1=\"148.5\" y1=\"178.2\" x2=\"148.5\" y2=\"170.2\" stroke=\"rgb(0,0,0)\" stroke-width=\"3.0\"/>\n",
       "<polygon points=\"97.500000 135.833333 101.500000 161.516667 93.500000 161.516667 \" stroke-width=\"2.000000\" fill=\"rgb(0,0,0)\" stroke=\"rgb(0,0,0)\"/>\n",
       "<line x1=\"59.2\" y1=\"97.5\" x2=\"46.5\" y2=\"75.6\" stroke=\"rgb(0,0,0)\" stroke-width=\"3.0\"/>\n",
       "<text x=\"206.500000\" y=\"143.833333\" fill=\"rgb(255,12,12)\" stroke=\"rgb(255,12,12)\" stroke-width=\"1\" font-size=\"16\">O</text>\n",
       "<text x=\"53.166667\" y=\"143.833333\" fill=\"rgb(255,12,12)\" stroke=\"rgb(255,12,12)\" stroke-width=\"1\" font-size=\"16\">O</text>\n",
       "<text x=\"168.166667\" y=\"220.500000\" fill=\"rgb(255,12,12)\" stroke=\"rgb(255,12,12)\" stroke-width=\"1\" font-size=\"16\">O</text>\n",
       "<text x=\"91.500000\" y=\"67.166667\" fill=\"rgb(255,12,12)\" stroke=\"rgb(255,12,12)\" stroke-width=\"1\" font-size=\"16\">O</text>\n",
       "<text x=\"225.666667\" y=\"148.969026\" fill=\"rgb(255,12,12)\" stroke=\"rgb(255,12,12)\" stroke-width=\"1\" font-size=\"16\">O</text>\n",
       "<text x=\"34.000000\" y=\"138.697640\" fill=\"rgb(255,12,12)\" stroke=\"rgb(255,12,12)\" stroke-width=\"1\" font-size=\"16\">O</text>\n",
       "<text x=\"168.166667\" y=\"105.500000\" fill=\"DimGray\" stroke=\"DimGray\" stroke-width=\"1\" font-size=\"16\">H</text>\n",
       "<text x=\"91.500000\" y=\"182.166667\" fill=\"DimGray\" stroke=\"DimGray\" stroke-width=\"1\" font-size=\"16\">H</text>\n",
       "<text x=\"129.833333\" y=\"182.166667\" fill=\"DimGray\" stroke=\"DimGray\" stroke-width=\"1\" font-size=\"16\">H</text>\n",
       "<text x=\"225.666667\" y=\"110.635693\" fill=\"DimGray\" stroke=\"DimGray\" stroke-width=\"1\" font-size=\"16\">H</text>\n",
       "<text x=\"129.833333\" y=\"105.500000\" fill=\"DimGray\" stroke=\"DimGray\" stroke-width=\"1\" font-size=\"16\">H</text>\n",
       "<text x=\"34.000000\" y=\"177.030974\" fill=\"DimGray\" stroke=\"DimGray\" stroke-width=\"1\" font-size=\"16\">H</text>\n",
       "<text x=\"239.697640\" y=\"201.333333\" fill=\"DimGray\" stroke=\"DimGray\" stroke-width=\"1\" font-size=\"16\">H</text>\n",
       "<text x=\"206.500000\" y=\"220.500000\" fill=\"DimGray\" stroke=\"DimGray\" stroke-width=\"1\" font-size=\"16\">H</text>\n",
       "<text x=\"201.364307\" y=\"239.666667\" fill=\"DimGray\" stroke=\"DimGray\" stroke-width=\"1\" font-size=\"16\">H</text>\n",
       "<text x=\"34.000000\" y=\"72.302360\" fill=\"DimGray\" stroke=\"DimGray\" stroke-width=\"1\" font-size=\"16\">H</text>\n",
       "<text x=\"58.302360\" y=\"48.000000\" fill=\"DimGray\" stroke=\"DimGray\" stroke-width=\"1\" font-size=\"16\">H</text>\n",
       "<text x=\"264.000000\" y=\"148.969026\" fill=\"DimGray\" stroke=\"DimGray\" stroke-width=\"1\" font-size=\"16\">H</text>\n",
       "</svg>\n",
       "</g>\n",
       "</svg>"
      ],
      "text/plain": [
       "<IPython.core.display.SVG object>"
      ]
     },
     "metadata": {},
     "output_type": "display_data"
    },
    {
     "name": "stdout",
     "output_type": "stream",
     "text": [
      "H2CO:mol-26737\n"
     ]
    }
   ],
   "source": [
    "from IPython.display import SVG\n",
    "for doc in docs[:10]:\n",
    "    formula = doc.formula_pretty\n",
    "    mpid = doc.task_id\n",
    "    pic = doc.svg\n",
    "    display(SVG(doc.svg))\n",
    "    print(formula+':'+mpid)"
   ]
  },
  {
   "cell_type": "code",
   "execution_count": 8,
   "metadata": {},
   "outputs": [
    {
     "data": {
      "application/vnd.jupyter.widget-view+json": {
       "model_id": "a2a5042778a24997bb9baffb01b8cc13",
       "version_major": 2,
       "version_minor": 0
      },
      "text/plain": []
     },
     "metadata": {},
     "output_type": "display_data"
    },
    {
     "data": {
      "application/vnd.jupyter.widget-view+json": {
       "model_id": "df3cf2c526324127a41c92bd3ce0efc1",
       "version_major": 2,
       "version_minor": 0
      },
      "text/plain": [
       "NGLWidget()"
      ]
     },
     "metadata": {},
     "output_type": "display_data"
    }
   ],
   "source": [
    "from pymatgen.io.ase import AseAtomsAdaptor\n",
    "from ase import Atoms\n",
    "import nglview as ngl    \n",
    "\n",
    "atcol = []\n",
    "for doc in docs:\n",
    "    at = Atoms(AseAtomsAdaptor.get_atoms(doc.molecule))\n",
    "    atcol += [at]\n",
    "    \n",
    "ngl.show_ase(atcol[-1])"
   ]
  },
  {
   "cell_type": "code",
   "execution_count": 9,
   "metadata": {},
   "outputs": [],
   "source": [
    "atcol10 = [at for at in atcol if len(at)==10]\n",
    "atcol15 = [at for at in atcol if len(at)==15]"
   ]
  },
  {
   "cell_type": "code",
   "execution_count": 10,
   "metadata": {},
   "outputs": [
    {
     "data": {
      "application/vnd.jupyter.widget-view+json": {
       "model_id": "072de65db8874f49a300305983cc47d2",
       "version_major": 2,
       "version_minor": 0
      },
      "text/plain": [
       "NGLWidget()"
      ]
     },
     "metadata": {},
     "output_type": "display_data"
    }
   ],
   "source": [
    "ngl.show_ase(atcol15[23])"
   ]
  },
  {
   "cell_type": "code",
   "execution_count": 17,
   "metadata": {},
   "outputs": [
    {
     "data": {
      "application/vnd.jupyter.widget-view+json": {
       "model_id": "46dc95ee4b9c436899fec0d2eecd30cc",
       "version_major": 2,
       "version_minor": 0
      },
      "text/plain": [
       "NGLWidget()"
      ]
     },
     "metadata": {},
     "output_type": "display_data"
    }
   ],
   "source": [
    "ngl.show_ase(atcol10[0])"
   ]
  },
  {
   "cell_type": "code",
   "execution_count": 12,
   "metadata": {},
   "outputs": [
    {
     "data": {
      "text/plain": [
       "'C=CC1=COC=C(c2ccccc2)O1'"
      ]
     },
     "execution_count": 12,
     "metadata": {},
     "output_type": "execute_result"
    }
   ],
   "source": [
    "doc.smiles"
   ]
  },
  {
   "cell_type": "code",
   "execution_count": 51,
   "metadata": {},
   "outputs": [
    {
     "name": "stdout",
     "output_type": "stream",
     "text": [
      "1\n"
     ]
    },
    {
     "data": {
      "application/vnd.jupyter.widget-view+json": {
       "model_id": "7c73132df6c44a8197ce609b2031f412",
       "version_major": 2,
       "version_minor": 0
      },
      "text/plain": [
       "NGLWidget()"
      ]
     },
     "metadata": {},
     "output_type": "display_data"
    }
   ],
   "source": [
    "from ase.build.attach import attach_randomly\n",
    "\n",
    "liq = attach_randomly(atcol10[0], atcol15[23], 2)\n",
    "liq.pbc = True\n",
    "liq.cell = [10,10,10]\n",
    "liq = attach_randomly(liq, atcol10[0], 2)\n",
    "liq = attach_randomly(liq, atcol15[23], 2)\n",
    "liq = attach_randomly(liq, atcol10[0], 2)\n",
    "liq = attach_randomly(liq, atcol10[0], 2)\n",
    "\n",
    "from aseMolec import anaAtoms as aa\n",
    "aa.wrap_molecs([liq], prog=True)\n",
    "liq.center()\n",
    "\n",
    "view = ngl.show_ase(liq)\n",
    "view.add_representation(repr_type='unitcell')\n",
    "view._set_size(w='100%', h='500px')\n",
    "view"
   ]
  }
 ],
 "metadata": {
  "kernelspec": {
   "display_name": "elec-chem-dev",
   "language": "python",
   "name": "python3"
  },
  "language_info": {
   "codemirror_mode": {
    "name": "ipython",
    "version": 3
   },
   "file_extension": ".py",
   "mimetype": "text/x-python",
   "name": "python",
   "nbconvert_exporter": "python",
   "pygments_lexer": "ipython3",
   "version": "3.10.14"
  }
 },
 "nbformat": 4,
 "nbformat_minor": 2
}
